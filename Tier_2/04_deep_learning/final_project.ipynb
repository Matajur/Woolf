{
 "cells": [
  {
   "cell_type": "markdown",
   "metadata": {},
   "source": [
    "# Final project of the 'Deep Learning for Computer vision and NLP' section"
   ]
  },
  {
   "cell_type": "markdown",
   "metadata": {},
   "source": [
    "## Technical task\n",
    "\n",
    "The task is to develop an efficient predictive model that can handle a large number of input features using the PetFinder.my database, the largest online pet adoption service in Malaysia, as an example.\n",
    "\n",
    "The main goal of the final course project is to predict the adoption rate of pets based on their profiles on PetFinder.my.\n",
    "\n",
    "The model predictions for the validation dataset are evaluated using the “quadratic weighted kappa” metric."
   ]
  },
  {
   "cell_type": "markdown",
   "metadata": {},
   "source": [
    "### 1. Data loading"
   ]
  },
  {
   "cell_type": "code",
   "execution_count": 45,
   "metadata": {
    "execution": {
     "iopub.execute_input": "2024-12-23T22:05:47.561614Z",
     "iopub.status.busy": "2024-12-23T22:05:47.561255Z",
     "iopub.status.idle": "2024-12-23T22:05:47.567179Z",
     "shell.execute_reply": "2024-12-23T22:05:47.566237Z",
     "shell.execute_reply.started": "2024-12-23T22:05:47.561583Z"
    },
    "trusted": true
   },
   "outputs": [],
   "source": [
    "import glob\n",
    "import matplotlib.image as mpimg\n",
    "import matplotlib.pyplot as plt\n",
    "import numpy as np\n",
    "import optuna\n",
    "import os\n",
    "import pandas as pd\n",
    "import random\n",
    "import seaborn as sns\n",
    "import torch\n",
    "import torch.nn as nn\n",
    "import torch.optim as optim\n",
    "\n",
    "from PIL import Image\n",
    "from sklearn.metrics import cohen_kappa_score, confusion_matrix\n",
    "from sklearn.model_selection import train_test_split\n",
    "from sklearn.utils import resample\n",
    "from torch.utils.data import Dataset, DataLoader\n",
    "from torchvision import transforms, models\n",
    "from torchvision.models import resnet50, ResNet50_Weights\n",
    "from tqdm import tqdm\n",
    "from transformers import BertTokenizer, BertModel"
   ]
  },
  {
   "cell_type": "code",
   "execution_count": 3,
   "metadata": {
    "execution": {
     "iopub.execute_input": "2024-12-23T21:17:28.728677Z",
     "iopub.status.busy": "2024-12-23T21:17:28.728143Z",
     "iopub.status.idle": "2024-12-23T21:17:28.735079Z",
     "shell.execute_reply": "2024-12-23T21:17:28.734284Z",
     "shell.execute_reply.started": "2024-12-23T21:17:28.728645Z"
    },
    "trusted": true
   },
   "outputs": [],
   "source": [
    "random_seed = 42\n",
    "random.seed(random_seed)\n",
    "np.random.seed(random_seed)\n",
    "torch.manual_seed(random_seed)\n",
    "torch.cuda.manual_seed_all(random_seed)"
   ]
  },
  {
   "cell_type": "markdown",
   "metadata": {},
   "source": [
    "Loading CSV"
   ]
  },
  {
   "cell_type": "code",
   "execution_count": 4,
   "metadata": {
    "execution": {
     "iopub.execute_input": "2024-12-23T21:17:28.737046Z",
     "iopub.status.busy": "2024-12-23T21:17:28.736833Z",
     "iopub.status.idle": "2024-12-23T21:17:28.811550Z",
     "shell.execute_reply": "2024-12-23T21:17:28.810546Z",
     "shell.execute_reply.started": "2024-12-23T21:17:28.737026Z"
    },
    "trusted": true
   },
   "outputs": [],
   "source": [
    "dataset_dir = \"/kaggle/input/deep-learning-for-computer-vision-and-nlp-2024-12/\"\n",
    "train_df = pd.read_csv(dataset_dir + \"train.csv\")\n",
    "test_df = pd.read_csv(dataset_dir + \"test.csv\")\n",
    "sub = pd.read_csv(dataset_dir + \"sample_submission.csv\")"
   ]
  },
  {
   "cell_type": "code",
   "execution_count": 5,
   "metadata": {
    "execution": {
     "iopub.execute_input": "2024-12-23T21:17:28.813040Z",
     "iopub.status.busy": "2024-12-23T21:17:28.812822Z",
     "iopub.status.idle": "2024-12-23T21:17:28.824641Z",
     "shell.execute_reply": "2024-12-23T21:17:28.823724Z",
     "shell.execute_reply.started": "2024-12-23T21:17:28.813021Z"
    },
    "trusted": true
   },
   "outputs": [
    {
     "data": {
      "text/html": [
       "<div>\n",
       "<style scoped>\n",
       "    .dataframe tbody tr th:only-of-type {\n",
       "        vertical-align: middle;\n",
       "    }\n",
       "\n",
       "    .dataframe tbody tr th {\n",
       "        vertical-align: top;\n",
       "    }\n",
       "\n",
       "    .dataframe thead th {\n",
       "        text-align: right;\n",
       "    }\n",
       "</style>\n",
       "<table border=\"1\" class=\"dataframe\">\n",
       "  <thead>\n",
       "    <tr style=\"text-align: right;\">\n",
       "      <th></th>\n",
       "      <th>PetID</th>\n",
       "      <th>Description</th>\n",
       "      <th>AdoptionSpeed</th>\n",
       "    </tr>\n",
       "  </thead>\n",
       "  <tbody>\n",
       "    <tr>\n",
       "      <th>0</th>\n",
       "      <td>d3b4f29f8</td>\n",
       "      <td>Mayleen and Flo are two lovely adorable sister...</td>\n",
       "      <td>2</td>\n",
       "    </tr>\n",
       "    <tr>\n",
       "      <th>1</th>\n",
       "      <td>e9dc82251</td>\n",
       "      <td>A total of 5 beautiful Tabbys available for ad...</td>\n",
       "      <td>2</td>\n",
       "    </tr>\n",
       "    <tr>\n",
       "      <th>2</th>\n",
       "      <td>8111f6d4a</td>\n",
       "      <td>Two-and-a-half month old girl. Very manja and ...</td>\n",
       "      <td>2</td>\n",
       "    </tr>\n",
       "    <tr>\n",
       "      <th>3</th>\n",
       "      <td>693a90fda</td>\n",
       "      <td>Neil is a healthy and active ~2-month-old fema...</td>\n",
       "      <td>2</td>\n",
       "    </tr>\n",
       "    <tr>\n",
       "      <th>4</th>\n",
       "      <td>9d08c85ef</td>\n",
       "      <td>Gray kitten available for adoption in sungai p...</td>\n",
       "      <td>2</td>\n",
       "    </tr>\n",
       "  </tbody>\n",
       "</table>\n",
       "</div>"
      ],
      "text/plain": [
       "       PetID                                        Description  AdoptionSpeed\n",
       "0  d3b4f29f8  Mayleen and Flo are two lovely adorable sister...              2\n",
       "1  e9dc82251  A total of 5 beautiful Tabbys available for ad...              2\n",
       "2  8111f6d4a  Two-and-a-half month old girl. Very manja and ...              2\n",
       "3  693a90fda  Neil is a healthy and active ~2-month-old fema...              2\n",
       "4  9d08c85ef  Gray kitten available for adoption in sungai p...              2"
      ]
     },
     "execution_count": 5,
     "metadata": {},
     "output_type": "execute_result"
    }
   ],
   "source": [
    "train_df.head()"
   ]
  },
  {
   "cell_type": "code",
   "execution_count": 6,
   "metadata": {
    "execution": {
     "iopub.execute_input": "2024-12-23T21:17:28.825815Z",
     "iopub.status.busy": "2024-12-23T21:17:28.825510Z",
     "iopub.status.idle": "2024-12-23T21:17:28.836875Z",
     "shell.execute_reply": "2024-12-23T21:17:28.836200Z",
     "shell.execute_reply.started": "2024-12-23T21:17:28.825782Z"
    },
    "trusted": true
   },
   "outputs": [
    {
     "data": {
      "text/html": [
       "<div>\n",
       "<style scoped>\n",
       "    .dataframe tbody tr th:only-of-type {\n",
       "        vertical-align: middle;\n",
       "    }\n",
       "\n",
       "    .dataframe tbody tr th {\n",
       "        vertical-align: top;\n",
       "    }\n",
       "\n",
       "    .dataframe thead th {\n",
       "        text-align: right;\n",
       "    }\n",
       "</style>\n",
       "<table border=\"1\" class=\"dataframe\">\n",
       "  <thead>\n",
       "    <tr style=\"text-align: right;\">\n",
       "      <th></th>\n",
       "      <th>PetID</th>\n",
       "      <th>Description</th>\n",
       "    </tr>\n",
       "  </thead>\n",
       "  <tbody>\n",
       "    <tr>\n",
       "      <th>0</th>\n",
       "      <td>6697a7f62</td>\n",
       "      <td>This cute little puppy is looking for a loving...</td>\n",
       "    </tr>\n",
       "    <tr>\n",
       "      <th>1</th>\n",
       "      <td>23b64fe21</td>\n",
       "      <td>These 3 puppies was rescued from a mechanic sh...</td>\n",
       "    </tr>\n",
       "    <tr>\n",
       "      <th>2</th>\n",
       "      <td>41e824cbe</td>\n",
       "      <td>Ara needs a forever home! Believe me, he's a r...</td>\n",
       "    </tr>\n",
       "    <tr>\n",
       "      <th>3</th>\n",
       "      <td>6c3d7237b</td>\n",
       "      <td>i rescue this homeless dog 2 years ago but my ...</td>\n",
       "    </tr>\n",
       "    <tr>\n",
       "      <th>4</th>\n",
       "      <td>97b0b5d92</td>\n",
       "      <td>We found him at a shopping mall at a very clea...</td>\n",
       "    </tr>\n",
       "  </tbody>\n",
       "</table>\n",
       "</div>"
      ],
      "text/plain": [
       "       PetID                                        Description\n",
       "0  6697a7f62  This cute little puppy is looking for a loving...\n",
       "1  23b64fe21  These 3 puppies was rescued from a mechanic sh...\n",
       "2  41e824cbe  Ara needs a forever home! Believe me, he's a r...\n",
       "3  6c3d7237b  i rescue this homeless dog 2 years ago but my ...\n",
       "4  97b0b5d92  We found him at a shopping mall at a very clea..."
      ]
     },
     "execution_count": 6,
     "metadata": {},
     "output_type": "execute_result"
    }
   ],
   "source": [
    "test_df.head()"
   ]
  },
  {
   "cell_type": "code",
   "execution_count": 7,
   "metadata": {
    "execution": {
     "iopub.execute_input": "2024-12-23T21:17:28.837870Z",
     "iopub.status.busy": "2024-12-23T21:17:28.837656Z",
     "iopub.status.idle": "2024-12-23T21:17:28.853037Z",
     "shell.execute_reply": "2024-12-23T21:17:28.852194Z",
     "shell.execute_reply.started": "2024-12-23T21:17:28.837851Z"
    },
    "trusted": true
   },
   "outputs": [
    {
     "data": {
      "text/html": [
       "<div>\n",
       "<style scoped>\n",
       "    .dataframe tbody tr th:only-of-type {\n",
       "        vertical-align: middle;\n",
       "    }\n",
       "\n",
       "    .dataframe tbody tr th {\n",
       "        vertical-align: top;\n",
       "    }\n",
       "\n",
       "    .dataframe thead th {\n",
       "        text-align: right;\n",
       "    }\n",
       "</style>\n",
       "<table border=\"1\" class=\"dataframe\">\n",
       "  <thead>\n",
       "    <tr style=\"text-align: right;\">\n",
       "      <th></th>\n",
       "      <th>PetID</th>\n",
       "      <th>AdoptionSpeed</th>\n",
       "    </tr>\n",
       "  </thead>\n",
       "  <tbody>\n",
       "    <tr>\n",
       "      <th>0</th>\n",
       "      <td>6697a7f62</td>\n",
       "      <td>1</td>\n",
       "    </tr>\n",
       "    <tr>\n",
       "      <th>1</th>\n",
       "      <td>23b64fe21</td>\n",
       "      <td>2</td>\n",
       "    </tr>\n",
       "    <tr>\n",
       "      <th>2</th>\n",
       "      <td>41e824cbe</td>\n",
       "      <td>3</td>\n",
       "    </tr>\n",
       "    <tr>\n",
       "      <th>3</th>\n",
       "      <td>6c3d7237b</td>\n",
       "      <td>4</td>\n",
       "    </tr>\n",
       "  </tbody>\n",
       "</table>\n",
       "</div>"
      ],
      "text/plain": [
       "       PetID  AdoptionSpeed\n",
       "0  6697a7f62              1\n",
       "1  23b64fe21              2\n",
       "2  41e824cbe              3\n",
       "3  6c3d7237b              4"
      ]
     },
     "execution_count": 7,
     "metadata": {},
     "output_type": "execute_result"
    }
   ],
   "source": [
    "sub.head()"
   ]
  },
  {
   "cell_type": "markdown",
   "metadata": {},
   "source": [
    "Loading images"
   ]
  },
  {
   "cell_type": "code",
   "execution_count": 8,
   "metadata": {
    "execution": {
     "iopub.execute_input": "2024-12-23T21:17:28.854042Z",
     "iopub.status.busy": "2024-12-23T21:17:28.853842Z",
     "iopub.status.idle": "2024-12-23T21:17:28.867180Z",
     "shell.execute_reply": "2024-12-23T21:17:28.866335Z",
     "shell.execute_reply.started": "2024-12-23T21:17:28.854024Z"
    },
    "trusted": true
   },
   "outputs": [],
   "source": [
    "train_images_dir = dataset_dir + \"images/images/train\"\n",
    "test_images_dir = dataset_dir + \"images/images/test\""
   ]
  },
  {
   "cell_type": "markdown",
   "metadata": {},
   "source": [
    "### 2. Data exploration"
   ]
  },
  {
   "cell_type": "markdown",
   "metadata": {},
   "source": [
    "#### 2.1. Table data"
   ]
  },
  {
   "cell_type": "code",
   "execution_count": 9,
   "metadata": {
    "execution": {
     "iopub.execute_input": "2024-12-23T21:17:28.870047Z",
     "iopub.status.busy": "2024-12-23T21:17:28.869824Z",
     "iopub.status.idle": "2024-12-23T21:17:28.891268Z",
     "shell.execute_reply": "2024-12-23T21:17:28.890463Z",
     "shell.execute_reply.started": "2024-12-23T21:17:28.870026Z"
    },
    "trusted": true
   },
   "outputs": [
    {
     "name": "stdout",
     "output_type": "stream",
     "text": [
      "<class 'pandas.core.frame.DataFrame'>\n",
      "RangeIndex: 6431 entries, 0 to 6430\n",
      "Data columns (total 3 columns):\n",
      " #   Column         Non-Null Count  Dtype \n",
      "---  ------         --------------  ----- \n",
      " 0   PetID          6431 non-null   object\n",
      " 1   Description    6426 non-null   object\n",
      " 2   AdoptionSpeed  6431 non-null   int64 \n",
      "dtypes: int64(1), object(2)\n",
      "memory usage: 150.9+ KB\n"
     ]
    }
   ],
   "source": [
    "train_df.info()"
   ]
  },
  {
   "cell_type": "code",
   "execution_count": 10,
   "metadata": {
    "execution": {
     "iopub.execute_input": "2024-12-23T21:17:28.892722Z",
     "iopub.status.busy": "2024-12-23T21:17:28.892529Z",
     "iopub.status.idle": "2024-12-23T21:17:28.904742Z",
     "shell.execute_reply": "2024-12-23T21:17:28.904027Z",
     "shell.execute_reply.started": "2024-12-23T21:17:28.892705Z"
    },
    "trusted": true
   },
   "outputs": [
    {
     "data": {
      "text/html": [
       "<div>\n",
       "<style scoped>\n",
       "    .dataframe tbody tr th:only-of-type {\n",
       "        vertical-align: middle;\n",
       "    }\n",
       "\n",
       "    .dataframe tbody tr th {\n",
       "        vertical-align: top;\n",
       "    }\n",
       "\n",
       "    .dataframe thead th {\n",
       "        text-align: right;\n",
       "    }\n",
       "</style>\n",
       "<table border=\"1\" class=\"dataframe\">\n",
       "  <thead>\n",
       "    <tr style=\"text-align: right;\">\n",
       "      <th></th>\n",
       "      <th>AdoptionSpeed</th>\n",
       "    </tr>\n",
       "  </thead>\n",
       "  <tbody>\n",
       "    <tr>\n",
       "      <th>count</th>\n",
       "      <td>6431.000000</td>\n",
       "    </tr>\n",
       "    <tr>\n",
       "      <th>mean</th>\n",
       "      <td>2.683719</td>\n",
       "    </tr>\n",
       "    <tr>\n",
       "      <th>std</th>\n",
       "      <td>1.118951</td>\n",
       "    </tr>\n",
       "    <tr>\n",
       "      <th>min</th>\n",
       "      <td>1.000000</td>\n",
       "    </tr>\n",
       "    <tr>\n",
       "      <th>25%</th>\n",
       "      <td>2.000000</td>\n",
       "    </tr>\n",
       "    <tr>\n",
       "      <th>50%</th>\n",
       "      <td>3.000000</td>\n",
       "    </tr>\n",
       "    <tr>\n",
       "      <th>75%</th>\n",
       "      <td>4.000000</td>\n",
       "    </tr>\n",
       "    <tr>\n",
       "      <th>max</th>\n",
       "      <td>4.000000</td>\n",
       "    </tr>\n",
       "  </tbody>\n",
       "</table>\n",
       "</div>"
      ],
      "text/plain": [
       "       AdoptionSpeed\n",
       "count    6431.000000\n",
       "mean        2.683719\n",
       "std         1.118951\n",
       "min         1.000000\n",
       "25%         2.000000\n",
       "50%         3.000000\n",
       "75%         4.000000\n",
       "max         4.000000"
      ]
     },
     "execution_count": 10,
     "metadata": {},
     "output_type": "execute_result"
    }
   ],
   "source": [
    "train_df.describe()"
   ]
  },
  {
   "cell_type": "code",
   "execution_count": 11,
   "metadata": {
    "execution": {
     "iopub.execute_input": "2024-12-23T21:17:28.905854Z",
     "iopub.status.busy": "2024-12-23T21:17:28.905565Z",
     "iopub.status.idle": "2024-12-23T21:17:28.919971Z",
     "shell.execute_reply": "2024-12-23T21:17:28.919167Z",
     "shell.execute_reply.started": "2024-12-23T21:17:28.905823Z"
    },
    "trusted": true
   },
   "outputs": [
    {
     "data": {
      "text/plain": [
       "AdoptionSpeed\n",
       "1    1197\n",
       "2    1773\n",
       "3    1328\n",
       "4    2133\n",
       "Name: count, dtype: int64"
      ]
     },
     "execution_count": 11,
     "metadata": {},
     "output_type": "execute_result"
    }
   ],
   "source": [
    "adoption_speed_counts_train = train_df[\"AdoptionSpeed\"].value_counts().sort_index()\n",
    "adoption_speed_counts_train"
   ]
  },
  {
   "cell_type": "code",
   "execution_count": 12,
   "metadata": {
    "execution": {
     "iopub.execute_input": "2024-12-23T21:17:28.920969Z",
     "iopub.status.busy": "2024-12-23T21:17:28.920762Z",
     "iopub.status.idle": "2024-12-23T21:17:28.937452Z",
     "shell.execute_reply": "2024-12-23T21:17:28.936679Z",
     "shell.execute_reply.started": "2024-12-23T21:17:28.920949Z"
    },
    "trusted": true
   },
   "outputs": [
    {
     "name": "stdout",
     "output_type": "stream",
     "text": [
      "<class 'pandas.core.frame.DataFrame'>\n",
      "RangeIndex: 1891 entries, 0 to 1890\n",
      "Data columns (total 2 columns):\n",
      " #   Column       Non-Null Count  Dtype \n",
      "---  ------       --------------  ----- \n",
      " 0   PetID        1891 non-null   object\n",
      " 1   Description  1890 non-null   object\n",
      "dtypes: object(2)\n",
      "memory usage: 29.7+ KB\n"
     ]
    }
   ],
   "source": [
    "test_df.info()"
   ]
  },
  {
   "cell_type": "code",
   "execution_count": 13,
   "metadata": {
    "execution": {
     "iopub.execute_input": "2024-12-23T21:17:28.938496Z",
     "iopub.status.busy": "2024-12-23T21:17:28.938189Z",
     "iopub.status.idle": "2024-12-23T21:17:29.202299Z",
     "shell.execute_reply": "2024-12-23T21:17:29.201312Z",
     "shell.execute_reply.started": "2024-12-23T21:17:28.938465Z"
    },
    "trusted": true
   },
   "outputs": [
    {
     "data": {
      "image/png": "[encoded data removed]",
      "text/plain": [
       "<Figure size 1400x600 with 1 Axes>"
      ]
     },
     "metadata": {},
     "output_type": "display_data"
    }
   ],
   "source": [
    "plt.figure(figsize=(14, 6))\n",
    "g = sns.countplot(x=\"AdoptionSpeed\", data=train_df)\n",
    "plt.title(\"Adoption Speed Classes Distribution\", fontsize=16)\n",
    "plt.xlabel(\"Adoption Speed\")\n",
    "plt.show()"
   ]
  },
  {
   "cell_type": "markdown",
   "metadata": {},
   "source": [
    "As can be seen from the previous analysis:\n",
    "* Both the training and test datasets contain a small number of NaN values in the Description column. These gaps can be replaced with empty strings.\n",
    "* The training dataset has an uneven distribution of classes (the number of class 4 is twice the number of class 1), which can affect the quality of the classifier. Class alignment should be introduced.\n",
    "* In total, the training dataset contains just over six thousand data instances, which is a relatively small number, and it may be necessary to increase the data to improve the quality of the model.\n",
    "* It is better to convert class labels (adoption speed) to string format to make them easier for the model to process."
   ]
  },
  {
   "cell_type": "markdown",
   "metadata": {},
   "source": [
    "#### 2.2. Images"
   ]
  },
  {
   "cell_type": "markdown",
   "metadata": {},
   "source": [
    "Plot an example of a pet's image"
   ]
  },
  {
   "cell_type": "code",
   "execution_count": 14,
   "metadata": {
    "execution": {
     "iopub.execute_input": "2024-12-23T21:17:29.203436Z",
     "iopub.status.busy": "2024-12-23T21:17:29.203153Z",
     "iopub.status.idle": "2024-12-23T21:17:29.376777Z",
     "shell.execute_reply": "2024-12-23T21:17:29.375611Z",
     "shell.execute_reply.started": "2024-12-23T21:17:29.203393Z"
    },
    "trusted": true
   },
   "outputs": [
    {
     "data": {
      "image/png": "[encoded data removed]",
      "text/plain": [
       "<Figure size 640x480 with 1 Axes>"
      ]
     },
     "metadata": {},
     "output_type": "display_data"
    }
   ],
   "source": [
    "image_path = os.listdir(train_images_dir)[0]\n",
    "image = mpimg.imread(train_images_dir + \"/\" + image_path)\n",
    "plt.imshow(image)\n",
    "plt.axis('off')\n",
    "plt.show()"
   ]
  },
  {
   "cell_type": "markdown",
   "metadata": {},
   "source": [
    "Function to count images"
   ]
  },
  {
   "cell_type": "code",
   "execution_count": 15,
   "metadata": {
    "execution": {
     "iopub.execute_input": "2024-12-23T21:17:29.378072Z",
     "iopub.status.busy": "2024-12-23T21:17:29.377687Z",
     "iopub.status.idle": "2024-12-23T21:18:23.427210Z",
     "shell.execute_reply": "2024-12-23T21:18:23.426387Z",
     "shell.execute_reply.started": "2024-12-23T21:17:29.378034Z"
    },
    "trusted": true
   },
   "outputs": [
    {
     "name": "stdout",
     "output_type": "stream",
     "text": [
      "Number of train images:  28472\n",
      "Number of test  images:  9448\n"
     ]
    }
   ],
   "source": [
    "def count_images(directory):\n",
    "    return len([file for file in os.listdir(directory) if os.path.isfile(os.path.join(directory, file))])\n",
    "\n",
    "\n",
    "train_imgs_count = count_images(train_images_dir)\n",
    "test_imgs_count = count_images(test_images_dir)\n",
    "\n",
    "print(\"Number of train images: \", train_imgs_count)\n",
    "print(\"Number of test  images: \", test_imgs_count)"
   ]
  },
  {
   "cell_type": "markdown",
   "metadata": {},
   "source": [
    "There are many more pictures than pets, which means that some pets have multiple pictures. It may also be that some of them have no images at all."
   ]
  },
  {
   "cell_type": "markdown",
   "metadata": {},
   "source": [
    "Function to find pets without pictures"
   ]
  },
  {
   "cell_type": "code",
   "execution_count": 16,
   "metadata": {
    "execution": {
     "iopub.execute_input": "2024-12-23T21:18:23.428437Z",
     "iopub.status.busy": "2024-12-23T21:18:23.428093Z",
     "iopub.status.idle": "2024-12-23T21:18:23.457857Z",
     "shell.execute_reply": "2024-12-23T21:18:23.457212Z",
     "shell.execute_reply.started": "2024-12-23T21:18:23.428397Z"
    },
    "trusted": true
   },
   "outputs": [
    {
     "name": "stdout",
     "output_type": "stream",
     "text": [
      "Train pets without images:  set()\n",
      "Test  pets without images:  {'63521459', '35992662', '81301773', '95314294'}\n"
     ]
    }
   ],
   "source": [
    "def find_pets_without_images(directory, df):\n",
    "    photo_files = [file for file in os.listdir(directory) if file.endswith('.jpg')]\n",
    "    photo_pet_ids = set(file.split(\"-\")[0] for file in photo_files)\n",
    "    dataset_pet_ids = set(df[\"PetID\"])\n",
    "    pet_ids_without_photos = dataset_pet_ids - photo_pet_ids\n",
    "    return pet_ids_without_photos\n",
    "\n",
    "\n",
    "train_pets_without_images = find_pets_without_images(train_images_dir, train_df)\n",
    "test_pets_without_images = find_pets_without_images(test_images_dir, test_df)\n",
    "\n",
    "print(\"Train pets without images: \", train_pets_without_images)\n",
    "print(\"Test  pets without images: \", test_pets_without_images)"
   ]
  },
  {
   "cell_type": "markdown",
   "metadata": {},
   "source": [
    "In the training dataset, all pets have images, in the test dataset there are 4 animals without images, the model must be able to handle the data if the image or description of the pet is missing."
   ]
  },
  {
   "cell_type": "markdown",
   "metadata": {},
   "source": [
    "### 3. Data preparation"
   ]
  },
  {
   "cell_type": "markdown",
   "metadata": {},
   "source": [
    "#### 3.1. Train-validation split"
   ]
  },
  {
   "cell_type": "markdown",
   "metadata": {},
   "source": [
    "Filling NaN descriptions with empty strings because the tokenizer from the next step cannot handle NaN values"
   ]
  },
  {
   "cell_type": "code",
   "execution_count": 17,
   "metadata": {
    "execution": {
     "iopub.execute_input": "2024-12-23T21:18:23.458784Z",
     "iopub.status.busy": "2024-12-23T21:18:23.458557Z",
     "iopub.status.idle": "2024-12-23T21:18:23.465700Z",
     "shell.execute_reply": "2024-12-23T21:18:23.464795Z",
     "shell.execute_reply.started": "2024-12-23T21:18:23.458763Z"
    },
    "trusted": true
   },
   "outputs": [],
   "source": [
    "train_df[\"Description\"] = train_df[\"Description\"].fillna(\"\")\n",
    "test_df[\"Description\"] = test_df[\"Description\"].fillna(\"\")"
   ]
  },
  {
   "cell_type": "markdown",
   "metadata": {},
   "source": [
    "Сlass balancing"
   ]
  },
  {
   "cell_type": "code",
   "execution_count": 18,
   "metadata": {
    "execution": {
     "iopub.execute_input": "2024-12-23T21:18:23.466898Z",
     "iopub.status.busy": "2024-12-23T21:18:23.466668Z",
     "iopub.status.idle": "2024-12-23T21:18:23.489954Z",
     "shell.execute_reply": "2024-12-23T21:18:23.489266Z",
     "shell.execute_reply.started": "2024-12-23T21:18:23.466876Z"
    },
    "trusted": true
   },
   "outputs": [
    {
     "data": {
      "text/plain": [
       "AdoptionSpeed\n",
       "1    2133\n",
       "2    2133\n",
       "3    2133\n",
       "4    2133\n",
       "Name: count, dtype: int64"
      ]
     },
     "execution_count": 18,
     "metadata": {},
     "output_type": "execute_result"
    }
   ],
   "source": [
    "max_class_size = list(adoption_speed_counts_train)[-1]\n",
    "\n",
    "train_balanced_df = pd.concat(\n",
    "    [resample(train_df[train_df['AdoptionSpeed'] == cls], \n",
    "              replace=True, \n",
    "              n_samples=max_class_size, \n",
    "              random_state=random_seed) for cls in train_df['AdoptionSpeed'].unique()]\n",
    ").reset_index(drop=True)\n",
    "\n",
    "balanced_classes = train_balanced_df['AdoptionSpeed'].value_counts().sort_index()\n",
    "balanced_classes"
   ]
  },
  {
   "cell_type": "markdown",
   "metadata": {},
   "source": [
    "Split the train dataframe into train and validation dataframes"
   ]
  },
  {
   "cell_type": "code",
   "execution_count": 20,
   "metadata": {
    "execution": {
     "iopub.execute_input": "2024-12-23T21:26:46.182528Z",
     "iopub.status.busy": "2024-12-23T21:26:46.182114Z",
     "iopub.status.idle": "2024-12-23T21:26:46.193617Z",
     "shell.execute_reply": "2024-12-23T21:26:46.192841Z",
     "shell.execute_reply.started": "2024-12-23T21:26:46.182495Z"
    },
    "trusted": true
   },
   "outputs": [
    {
     "data": {
      "text/plain": [
       "((6825, 3), (1707, 3))"
      ]
     },
     "execution_count": 20,
     "metadata": {},
     "output_type": "execute_result"
    }
   ],
   "source": [
    "train_raw_df, val_raw_df = train_test_split(train_balanced_df, test_size=0.2, random_state=random_seed, stratify=train_balanced_df[\"AdoptionSpeed\"])\n",
    "train_raw_df.shape, val_raw_df.shape"
   ]
  },
  {
   "cell_type": "markdown",
   "metadata": {},
   "source": [
    "#### 3.2. Text preprocessing"
   ]
  },
  {
   "cell_type": "markdown",
   "metadata": {},
   "source": [
    "Pretrained BERT tokenizer"
   ]
  },
  {
   "cell_type": "code",
   "execution_count": 46,
   "metadata": {
    "execution": {
     "iopub.execute_input": "2024-12-23T22:06:54.685673Z",
     "iopub.status.busy": "2024-12-23T22:06:54.685347Z",
     "iopub.status.idle": "2024-12-23T22:06:54.907194Z",
     "shell.execute_reply": "2024-12-23T22:06:54.906354Z",
     "shell.execute_reply.started": "2024-12-23T22:06:54.685649Z"
    },
    "trusted": true
   },
   "outputs": [
    {
     "name": "stderr",
     "output_type": "stream",
     "text": [
      "/usr/local/lib/python3.10/dist-packages/transformers/tokenization_utils_base.py:1601: FutureWarning: `clean_up_tokenization_spaces` was not set. It will be set to `True` by default. This behavior will be depracted in transformers v4.45, and will be then set to `False` by default. For more details check this issue: https://github.com/huggingface/transformers/issues/31884\n",
      "  warnings.warn(\n"
     ]
    }
   ],
   "source": [
    "tokenizer = BertTokenizer.from_pretrained(\"bert-base-uncased\")"
   ]
  },
  {
   "cell_type": "markdown",
   "metadata": {},
   "source": [
    "Tokenization of pets descriptions using BERT tokenizer"
   ]
  },
  {
   "cell_type": "code",
   "execution_count": 47,
   "metadata": {
    "execution": {
     "iopub.execute_input": "2024-12-23T22:07:01.788569Z",
     "iopub.status.busy": "2024-12-23T22:07:01.788211Z",
     "iopub.status.idle": "2024-12-23T22:07:04.068703Z",
     "shell.execute_reply": "2024-12-23T22:07:04.067896Z",
     "shell.execute_reply.started": "2024-12-23T22:07:01.788536Z"
    },
    "trusted": true
   },
   "outputs": [
    {
     "data": {
      "text/plain": [
       "[Encoding(num_tokens=128, attributes=[ids, type_ids, tokens, offsets, attention_mask, special_tokens_mask, overflowing])]"
      ]
     },
     "execution_count": 47,
     "metadata": {},
     "output_type": "execute_result"
    }
   ],
   "source": [
    "def tokenize_descriptions(descriptions, max_length=128): # max_lgth - embedding dimension\n",
    "    return tokenizer(\n",
    "        list(descriptions),\n",
    "        padding=\"max_length\",\n",
    "        truncation=True,\n",
    "        max_length=max_length,\n",
    "        return_tensors=\"pt\"\n",
    "    )\n",
    "\n",
    "\n",
    "train_tokens = tokenize_descriptions(train_raw_df[\"Description\"])\n",
    "val_tokens = tokenize_descriptions(val_raw_df[\"Description\"])\n",
    "test_tokens = tokenize_descriptions(test_df[\"Description\"])\n",
    "\n",
    "train_tokens[0:1]"
   ]
  },
  {
   "cell_type": "markdown",
   "metadata": {},
   "source": [
    "Convert labels to 0-based indexing as requested by PyTorch"
   ]
  },
  {
   "cell_type": "code",
   "execution_count": 48,
   "metadata": {
    "execution": {
     "iopub.execute_input": "2024-12-23T22:07:21.360876Z",
     "iopub.status.busy": "2024-12-23T22:07:21.360561Z",
     "iopub.status.idle": "2024-12-23T22:07:21.365331Z",
     "shell.execute_reply": "2024-12-23T22:07:21.364671Z",
     "shell.execute_reply.started": "2024-12-23T22:07:21.360851Z"
    },
    "trusted": true
   },
   "outputs": [],
   "source": [
    "train_labels = torch.tensor(train_raw_df[\"AdoptionSpeed\"].values - 1)\n",
    "val_labels = torch.tensor(val_raw_df[\"AdoptionSpeed\"].values - 1)"
   ]
  },
  {
   "cell_type": "markdown",
   "metadata": {},
   "source": [
    "#### 3.3. Image Preprocessing"
   ]
  },
  {
   "cell_type": "markdown",
   "metadata": {},
   "source": [
    "Image conversion with size unification, random transformations and standard normalization for jpg images"
   ]
  },
  {
   "cell_type": "code",
   "execution_count": 50,
   "metadata": {
    "execution": {
     "iopub.execute_input": "2024-12-23T22:08:49.308353Z",
     "iopub.status.busy": "2024-12-23T22:08:49.308027Z",
     "iopub.status.idle": "2024-12-23T22:08:49.313309Z",
     "shell.execute_reply": "2024-12-23T22:08:49.312435Z",
     "shell.execute_reply.started": "2024-12-23T22:08:49.308328Z"
    },
    "trusted": true
   },
   "outputs": [],
   "source": [
    "IMAGE_SIZE = (224, 224)\n",
    "NORMALIZE_MEAN = [0.485, 0.456, 0.406]\n",
    "NORMALIZE_STD = [0.229, 0.224, 0.225]\n",
    "\n",
    "image_transforms = transforms.Compose([\n",
    "    transforms.Resize(IMAGE_SIZE),\n",
    "    transforms.RandomHorizontalFlip(),\n",
    "    transforms.RandomRotation(15),\n",
    "    transforms.ColorJitter(brightness=0.2, contrast=0.2, saturation=0.2, hue=0.1),\n",
    "    transforms.ToTensor(),\n",
    "    transforms.Normalize(NORMALIZE_MEAN, NORMALIZE_STD)\n",
    "])"
   ]
  },
  {
   "cell_type": "markdown",
   "metadata": {},
   "source": [
    "Function for preprocessing of all images for a given PetID (if no images exist, return a placeholder tensor)"
   ]
  },
  {
   "cell_type": "code",
   "execution_count": null,
   "metadata": {
    "execution": {
     "iopub.execute_input": "2024-12-23T22:08:52.453923Z",
     "iopub.status.busy": "2024-12-23T22:08:52.453624Z"
    },
    "trusted": true
   },
   "outputs": [],
   "source": [
    "def preprocess_images(pet_id, base_folder):\n",
    "    image_files = sorted(glob.glob(f\"{base_folder}/{pet_id}-*.jpg\"))\n",
    "    if len(image_files) == 0: # Return a placeholder tensor if no images\n",
    "        return torch.zeros((3, *IMAGE_SIZE))\n",
    "    \n",
    "    # Load and preprocess all images for the PetID\n",
    "    images = [image_transforms(Image.open(img).convert(\"RGB\")) for img in image_files]\n",
    "    # Stack images and take the mean (simple aggregation)\n",
    "    return torch.stack(images).mean(dim=0)\n",
    "\n",
    "train_images = torch.stack([preprocess_images(pet_id, train_images_dir) for pet_id in train_raw_df[\"PetID\"]])\n",
    "val_images = torch.stack([preprocess_images(pet_id, train_images_dir) for pet_id in val_raw_df[\"PetID\"]])\n",
    "test_images = torch.stack([preprocess_images(pet_id, test_images_dir) for pet_id in test_df[\"PetID\"]])\n",
    "\n",
    "train_images[0:1]"
   ]
  },
  {
   "cell_type": "markdown",
   "metadata": {},
   "source": [
    "### 4. Data loaders"
   ]
  },
  {
   "cell_type": "markdown",
   "metadata": {},
   "source": [
    "#### 4.1. Dataset class to combine text, imaages, and labels from multiple imputs"
   ]
  },
  {
   "cell_type": "code",
   "execution_count": 26,
   "metadata": {
    "execution": {
     "iopub.execute_input": "2024-12-23T21:40:07.260493Z",
     "iopub.status.busy": "2024-12-23T21:40:07.260060Z",
     "iopub.status.idle": "2024-12-23T21:40:07.266277Z",
     "shell.execute_reply": "2024-12-23T21:40:07.265220Z",
     "shell.execute_reply.started": "2024-12-23T21:40:07.260454Z"
    },
    "trusted": true
   },
   "outputs": [],
   "source": [
    "class PetDataset(Dataset):\n",
    "    def __init__(self, tokens, images, labels=None):\n",
    "        self.tokens = tokens\n",
    "        self.images = images\n",
    "        self.labels = labels\n",
    "\n",
    "    def __len__(self):\n",
    "        return len(self.tokens[\"input_ids\"])\n",
    "\n",
    "    def __getitem__(self, idx):\n",
    "        input_ids = self.tokens[\"input_ids\"][idx]\n",
    "        attention_mask = self.tokens[\"attention_mask\"][idx]\n",
    "        image = self.images[idx]\n",
    "        if self.labels is not None:\n",
    "            label = self.labels[idx]\n",
    "            return input_ids, attention_mask, image, label\n",
    "        else:\n",
    "            return input_ids, attention_mask, image"
   ]
  },
  {
   "cell_type": "code",
   "execution_count": 27,
   "metadata": {
    "execution": {
     "iopub.execute_input": "2024-12-23T21:40:10.784722Z",
     "iopub.status.busy": "2024-12-23T21:40:10.784204Z",
     "iopub.status.idle": "2024-12-23T21:40:10.791005Z",
     "shell.execute_reply": "2024-12-23T21:40:10.790264Z",
     "shell.execute_reply.started": "2024-12-23T21:40:10.784676Z"
    },
    "trusted": true
   },
   "outputs": [
    {
     "data": {
      "text/plain": [
       "(6825, 1707, 1891)"
      ]
     },
     "execution_count": 27,
     "metadata": {},
     "output_type": "execute_result"
    }
   ],
   "source": [
    "train_dataset = PetDataset(train_tokens, train_images, train_labels)\n",
    "val_dataset = PetDataset(val_tokens, val_images, val_labels)\n",
    "test_dataset = PetDataset(test_tokens, test_images)\n",
    "\n",
    "len(train_dataset), len(val_dataset), len(test_dataset)"
   ]
  },
  {
   "cell_type": "markdown",
   "metadata": {},
   "source": [
    "#### 4.2. Data loaders"
   ]
  },
  {
   "cell_type": "code",
   "execution_count": 28,
   "metadata": {
    "execution": {
     "iopub.execute_input": "2024-12-23T21:40:14.308898Z",
     "iopub.status.busy": "2024-12-23T21:40:14.308587Z",
     "iopub.status.idle": "2024-12-23T21:40:14.315351Z",
     "shell.execute_reply": "2024-12-23T21:40:14.314674Z",
     "shell.execute_reply.started": "2024-12-23T21:40:14.308874Z"
    },
    "trusted": true
   },
   "outputs": [
    {
     "data": {
      "text/plain": [
       "(107, 27, 30)"
      ]
     },
     "execution_count": 28,
     "metadata": {},
     "output_type": "execute_result"
    }
   ],
   "source": [
    "batch_size = 64\n",
    "\n",
    "train_loader = DataLoader(train_dataset, batch_size=batch_size, num_workers=4, pin_memory=True, shuffle=True)\n",
    "val_loader = DataLoader(val_dataset, batch_size=batch_size, num_workers=4, pin_memory=True)\n",
    "test_loader = DataLoader(test_dataset, batch_size=batch_size, num_workers=4, pin_memory=True)\n",
    "\n",
    "len(train_loader), len(val_loader), len(test_loader)"
   ]
  },
  {
   "cell_type": "markdown",
   "metadata": {},
   "source": [
    "pin_memory=True is required to speed up data transfer from CPU to GPU during data loading if GPU is used during training."
   ]
  },
  {
   "cell_type": "markdown",
   "metadata": {},
   "source": [
    "Data loader verification"
   ]
  },
  {
   "cell_type": "code",
   "execution_count": 29,
   "metadata": {
    "execution": {
     "iopub.execute_input": "2024-12-23T21:40:17.451149Z",
     "iopub.status.busy": "2024-12-23T21:40:17.450847Z",
     "iopub.status.idle": "2024-12-23T21:40:18.499751Z",
     "shell.execute_reply": "2024-12-23T21:40:18.498790Z",
     "shell.execute_reply.started": "2024-12-23T21:40:17.451126Z"
    },
    "trusted": true
   },
   "outputs": [
    {
     "data": {
      "text/plain": [
       "[tensor([[  101,  2025,  2469,  ...,     0,     0,     0],\n",
       "         [  101,  2026,  2905,  ...,     0,     0,     0],\n",
       "         [  101,  1059, 16584,  ...,     0,     0,     0],\n",
       "         ...,\n",
       "         [  101,  7632,  2035,  ...,  2215,  2000,   102],\n",
       "         [  101,  2122, 12256,  ...,     0,     0,     0],\n",
       "         [  101,  1996, 26781,  ...,     0,     0,     0]]),\n",
       " tensor([[1, 1, 1,  ..., 0, 0, 0],\n",
       "         [1, 1, 1,  ..., 0, 0, 0],\n",
       "         [1, 1, 1,  ..., 0, 0, 0],\n",
       "         ...,\n",
       "         [1, 1, 1,  ..., 1, 1, 1],\n",
       "         [1, 1, 1,  ..., 0, 0, 0],\n",
       "         [1, 1, 1,  ..., 0, 0, 0]]),\n",
       " tensor([[[[-1.8667, -1.8667, -1.8667,  ..., -1.8667, -1.8667, -1.8667],\n",
       "           [-1.8667, -1.8667, -1.8667,  ..., -1.8667, -1.8667, -1.8667],\n",
       "           [-1.8667, -1.8667, -1.8667,  ..., -1.8667, -1.8667, -1.8667],\n",
       "           ...,\n",
       "           [-1.8667, -1.8667, -1.8667,  ..., -1.8667, -1.8667, -1.8667],\n",
       "           [-1.8667, -1.8667, -1.8667,  ..., -1.8667, -1.8667, -1.8667],\n",
       "           [-1.8667, -1.8667, -1.8667,  ..., -1.8667, -1.8667, -1.8667]],\n",
       " \n",
       "          [[-1.7789, -1.7789, -1.7789,  ..., -1.7789, -1.7789, -1.7789],\n",
       "           [-1.7789, -1.7789, -1.7789,  ..., -1.7789, -1.7789, -1.7789],\n",
       "           [-1.7789, -1.7789, -1.7789,  ..., -1.7789, -1.7789, -1.7789],\n",
       "           ...,\n",
       "           [-1.7789, -1.7789, -1.7789,  ..., -1.7789, -1.7789, -1.7789],\n",
       "           [-1.7789, -1.7789, -1.7789,  ..., -1.7789, -1.7789, -1.7789],\n",
       "           [-1.7789, -1.7789, -1.7789,  ..., -1.7789, -1.7789, -1.7789]],\n",
       " \n",
       "          [[-1.5488, -1.5488, -1.5488,  ..., -1.5488, -1.5488, -1.5488],\n",
       "           [-1.5488, -1.5488, -1.5488,  ..., -1.5488, -1.5488, -1.5488],\n",
       "           [-1.5488, -1.5488, -1.5488,  ..., -1.5488, -1.5488, -1.5488],\n",
       "           ...,\n",
       "           [-1.5488, -1.5488, -1.5488,  ..., -1.5488, -1.5488, -1.5488],\n",
       "           [-1.5488, -1.5488, -1.5488,  ..., -1.5488, -1.5488, -1.5488],\n",
       "           [-1.5488, -1.5488, -1.5488,  ..., -1.5488, -1.5488, -1.5488]]],\n",
       " \n",
       " \n",
       "         [[[-1.5737, -1.5604, -1.5604,  ..., -1.6746, -1.6460, -1.7735],\n",
       "           [-1.5737, -1.5604, -1.4634,  ..., -1.5813, -1.6270, -1.8040],\n",
       "           [-1.5718, -1.5604, -1.4500,  ..., -1.0752, -1.2046, -1.7374],\n",
       "           ...,\n",
       "           [-1.5604, -1.2541, -1.2560,  ..., -1.7031, -1.9314, -1.8344],\n",
       "           [-1.5604, -1.5604, -1.5604,  ..., -1.5357, -1.9314, -1.9505],\n",
       "           [-1.5604, -1.5604, -1.5604,  ..., -1.5661, -1.7811, -1.9371]],\n",
       " \n",
       "          [[-1.4949, -1.4677, -1.4677,  ..., -1.5922, -1.5766, -1.7206],\n",
       "           [-1.4949, -1.4658, -1.3782,  ..., -1.4969, -1.5533, -1.7459],\n",
       "           [-1.4930, -1.4658, -1.3704,  ..., -0.9697, -1.1078, -1.6778],\n",
       "           ...,\n",
       "           [-1.5941, -1.2849, -1.2849,  ..., -1.6583, -1.8606, -1.7556],\n",
       "           [-1.5941, -1.5961, -1.5961,  ..., -1.4852, -1.8606, -1.8782],\n",
       "           [-1.5922, -1.5980, -1.5980,  ..., -1.4872, -1.7070, -1.8665]],\n",
       " \n",
       "          [[-1.2564, -1.2448, -1.2448,  ..., -1.3900, -1.3590, -1.5120],\n",
       "           [-1.2564, -1.2370, -1.1615,  ..., -1.2738, -1.3242, -1.5275],\n",
       "           [-1.2525, -1.2370, -1.1247,  ..., -0.7432, -0.8884, -1.4481],\n",
       "           ...,\n",
       "           [-1.5914, -1.3261, -1.3184,  ..., -1.5081, -1.6166, -1.5101],\n",
       "           [-1.5914, -1.5953, -1.5953,  ..., -1.3474, -1.6243, -1.6340],\n",
       "           [-1.5875, -1.6011, -1.6011,  ..., -1.2622, -1.4714, -1.6243]]],\n",
       " \n",
       " \n",
       "         [[[-2.1179, -2.1179, -2.1179,  ..., -2.1179, -2.1179, -2.1179],\n",
       "           [-2.1179, -2.1179, -2.1179,  ..., -2.1179, -2.1179, -2.1179],\n",
       "           [-2.1179, -2.1179, -2.1179,  ..., -2.1179, -2.1179, -2.1179],\n",
       "           ...,\n",
       "           [-2.1179, -2.1179, -2.1179,  ..., -2.1179, -2.1179, -2.1179],\n",
       "           [-2.1179, -2.1179, -2.1179,  ..., -2.1179, -2.1179, -2.1179],\n",
       "           [-2.1179, -2.1179, -2.1179,  ..., -2.1179, -2.1179, -2.1179]],\n",
       " \n",
       "          [[-2.0357, -2.0357, -2.0357,  ..., -2.0357, -2.0357, -2.0357],\n",
       "           [-2.0357, -2.0357, -2.0357,  ..., -2.0357, -2.0357, -2.0357],\n",
       "           [-2.0357, -2.0357, -2.0357,  ..., -2.0357, -2.0357, -2.0357],\n",
       "           ...,\n",
       "           [-2.0357, -2.0357, -2.0357,  ..., -2.0357, -2.0357, -2.0357],\n",
       "           [-2.0357, -2.0357, -2.0357,  ..., -2.0357, -2.0357, -2.0357],\n",
       "           [-2.0357, -2.0357, -2.0357,  ..., -2.0357, -2.0357, -2.0357]],\n",
       " \n",
       "          [[-1.8044, -1.8044, -1.8044,  ..., -1.8044, -1.8044, -1.8044],\n",
       "           [-1.8044, -1.8044, -1.8044,  ..., -1.8044, -1.8044, -1.8044],\n",
       "           [-1.8044, -1.8044, -1.8044,  ..., -1.8044, -1.8044, -1.8044],\n",
       "           ...,\n",
       "           [-1.8044, -1.8044, -1.8044,  ..., -1.8044, -1.8044, -1.8044],\n",
       "           [-1.8044, -1.8044, -1.8044,  ..., -1.8044, -1.8044, -1.8044],\n",
       "           [-1.8044, -1.8044, -1.8044,  ..., -1.8044, -1.8044, -1.8044]]],\n",
       " \n",
       " \n",
       "         ...,\n",
       " \n",
       " \n",
       "         [[[-1.8894, -1.8169, -1.8149,  ..., -1.7431, -1.7688, -1.9038],\n",
       "           [-1.8531, -1.7820, -1.7827,  ..., -1.6391, -1.6588, -1.8044],\n",
       "           [-1.8248, -1.7517, -1.7517,  ..., -1.6378, -1.6628, -1.8031],\n",
       "           ...,\n",
       "           [-1.9104, -1.7971, -1.6944,  ..., -1.6648, -1.6661, -1.7458],\n",
       "           [-1.9104, -1.8018, -1.6931,  ..., -1.7451, -1.7491, -1.8281],\n",
       "           [-1.9552, -1.8479, -1.7365,  ..., -1.8347, -1.8380, -1.9197]],\n",
       " \n",
       "          [[-1.8021, -1.7139, -1.7125,  ..., -1.6768, -1.7051, -1.8256],\n",
       "           [-1.7718, -1.6862, -1.6862,  ..., -1.5610, -1.5832, -1.7139],\n",
       "           [-1.7428, -1.6546, -1.6553,  ..., -1.5624, -1.5893, -1.7118],\n",
       "           ...,\n",
       "           [-1.8620, -1.7408, -1.6263,  ..., -1.5772, -1.5758, -1.6492],\n",
       "           [-1.8593, -1.7401, -1.6236,  ..., -1.6546, -1.6593, -1.7327],\n",
       "           [-1.8930, -1.7758, -1.6593,  ..., -1.7569, -1.7596, -1.8364]],\n",
       " \n",
       "          [[-1.5718, -1.4800, -1.4793,  ..., -1.5316, -1.5490, -1.6080],\n",
       "           [-1.4934, -1.3989, -1.3969,  ..., -1.4096, -1.4270, -1.4947],\n",
       "           [-1.4706, -1.3747, -1.3747,  ..., -1.4069, -1.4304, -1.4914],\n",
       "           ...,\n",
       "           [-1.6409, -1.5403, -1.4451,  ..., -1.4076, -1.4076, -1.4726],\n",
       "           [-1.6409, -1.5423, -1.4458,  ..., -1.4753, -1.4787, -1.5443],\n",
       "           [-1.6690, -1.5705, -1.4699,  ..., -1.5537, -1.5571, -1.6255]]],\n",
       " \n",
       " \n",
       "         [[[-1.9295, -1.9295, -1.9295,  ..., -1.9295, -1.9295, -1.9295],\n",
       "           [-1.9295, -1.9295, -1.9295,  ..., -1.9295, -1.9295, -1.9295],\n",
       "           [-1.9295, -1.9295, -1.9295,  ..., -1.9295, -1.9295, -1.9295],\n",
       "           ...,\n",
       "           [-1.9295, -1.9295, -1.9295,  ..., -1.9295, -1.9295, -1.9295],\n",
       "           [-1.9295, -1.9295, -1.9295,  ..., -1.9295, -1.9295, -1.9295],\n",
       "           [-1.9295, -1.9295, -1.9295,  ..., -1.9295, -1.9295, -1.9295]],\n",
       " \n",
       "          [[-1.8431, -1.8431, -1.8431,  ..., -1.8431, -1.8431, -1.8431],\n",
       "           [-1.8431, -1.8431, -1.8431,  ..., -1.8431, -1.8431, -1.8431],\n",
       "           [-1.8431, -1.8431, -1.8431,  ..., -1.8431, -1.8431, -1.8431],\n",
       "           ...,\n",
       "           [-1.8431, -1.8431, -1.8431,  ..., -1.8431, -1.8431, -1.8431],\n",
       "           [-1.8431, -1.8431, -1.8431,  ..., -1.8431, -1.8431, -1.8431],\n",
       "           [-1.8431, -1.8431, -1.8431,  ..., -1.8431, -1.8431, -1.8431]],\n",
       " \n",
       "          [[-1.6127, -1.6127, -1.6127,  ..., -1.6127, -1.6127, -1.6127],\n",
       "           [-1.6127, -1.6127, -1.6127,  ..., -1.6127, -1.6127, -1.6127],\n",
       "           [-1.6127, -1.6127, -1.6127,  ..., -1.6127, -1.6127, -1.6127],\n",
       "           ...,\n",
       "           [-1.6127, -1.6127, -1.6127,  ..., -1.6127, -1.6127, -1.6127],\n",
       "           [-1.6127, -1.6127, -1.6127,  ..., -1.6127, -1.6127, -1.6127],\n",
       "           [-1.6127, -1.6127, -1.6127,  ..., -1.6127, -1.6127, -1.6127]]],\n",
       " \n",
       " \n",
       "         [[[-2.0974, -2.0974, -2.0974,  ..., -2.0974, -2.0974, -2.0974],\n",
       "           [-2.0974, -2.0974, -2.0974,  ..., -2.0974, -2.0974, -2.0974],\n",
       "           [-2.0974, -2.0974, -2.0974,  ..., -2.0974, -2.0974, -2.0974],\n",
       "           ...,\n",
       "           [-2.0974, -2.0974, -2.0974,  ..., -2.0974, -2.0974, -2.0974],\n",
       "           [-2.0974, -2.0974, -2.0974,  ..., -2.0974, -2.0974, -2.0974],\n",
       "           [-2.0974, -2.0974, -2.0974,  ..., -2.0974, -2.0974, -2.0974]],\n",
       " \n",
       "          [[-2.0147, -2.0147, -2.0147,  ..., -2.0147, -2.0147, -2.0147],\n",
       "           [-2.0147, -2.0147, -2.0147,  ..., -2.0147, -2.0147, -2.0147],\n",
       "           [-2.0147, -2.0147, -2.0147,  ..., -2.0147, -2.0147, -2.0147],\n",
       "           ...,\n",
       "           [-2.0147, -2.0147, -2.0147,  ..., -2.0147, -2.0147, -2.0147],\n",
       "           [-2.0147, -2.0147, -2.0147,  ..., -2.0147, -2.0147, -2.0147],\n",
       "           [-2.0147, -2.0147, -2.0147,  ..., -2.0147, -2.0147, -2.0147]],\n",
       " \n",
       "          [[-1.7835, -1.7835, -1.7835,  ..., -1.7835, -1.7835, -1.7835],\n",
       "           [-1.7835, -1.7835, -1.7835,  ..., -1.7835, -1.7835, -1.7835],\n",
       "           [-1.7835, -1.7835, -1.7835,  ..., -1.7835, -1.7835, -1.7835],\n",
       "           ...,\n",
       "           [-1.7835, -1.7835, -1.7835,  ..., -1.7835, -1.7835, -1.7835],\n",
       "           [-1.7835, -1.7835, -1.7835,  ..., -1.7835, -1.7835, -1.7835],\n",
       "           [-1.7835, -1.7835, -1.7835,  ..., -1.7835, -1.7835, -1.7835]]]]),\n",
       " tensor([1, 0, 1, 2, 0, 3, 0, 1, 3, 0, 0, 0, 3, 3, 3, 0, 1, 0, 2, 1, 3, 3, 1, 1,\n",
       "         1, 1, 2, 0, 0, 1, 0, 0, 0, 0, 2, 2, 0, 2, 2, 2, 0, 1, 0, 0, 2, 0, 0, 3,\n",
       "         1, 1, 1, 1, 0, 2, 3, 1, 2, 0, 0, 1, 0, 2, 1, 1])]"
      ]
     },
     "execution_count": 29,
     "metadata": {},
     "output_type": "execute_result"
    }
   ],
   "source": [
    "next(iter(train_loader))"
   ]
  },
  {
   "cell_type": "markdown",
   "metadata": {},
   "source": [
    "### 5. Classification model"
   ]
  },
  {
   "cell_type": "markdown",
   "metadata": {},
   "source": [
    "#### 5.1. Model definition"
   ]
  },
  {
   "cell_type": "code",
   "execution_count": 30,
   "metadata": {
    "execution": {
     "iopub.execute_input": "2024-12-23T21:40:23.092755Z",
     "iopub.status.busy": "2024-12-23T21:40:23.092385Z",
     "iopub.status.idle": "2024-12-23T21:40:23.101045Z",
     "shell.execute_reply": "2024-12-23T21:40:23.100052Z",
     "shell.execute_reply.started": "2024-12-23T21:40:23.092726Z"
    },
    "trusted": true
   },
   "outputs": [],
   "source": [
    "class PetAdoptionModel(nn.Module):\n",
    "    def __init__(self, dropout_rate=0.3):\n",
    "        super(PetAdoptionModel, self).__init__()\n",
    "        # Text branch: BERT\n",
    "        self.text_model = BertModel.from_pretrained('bert-base-uncased')\n",
    "        text_hidden_size = self.text_model.config.hidden_size\n",
    "\n",
    "        # Image branch: ResNet\n",
    "        self.image_model = resnet50(weights=ResNet50_Weights.DEFAULT)\n",
    "        num_ftrs = self.image_model.fc.in_features\n",
    "        self.image_model.fc = nn.Identity()\n",
    "\n",
    "        # Fusion of text and image branches\n",
    "        combined_size = text_hidden_size + num_ftrs\n",
    "\n",
    "        # Classification layer with BatchNorm and Dropout\n",
    "        self.fc1 = nn.Linear(combined_size, 512)\n",
    "        self.bn1 = nn.BatchNorm1d(512)\n",
    "        self.dropout1 = nn.Dropout(dropout_rate)\n",
    "        self.fc2 = nn.Linear(512, 256)\n",
    "        self.bn2 = nn.BatchNorm1d(256)\n",
    "        self.dropout2 = nn.Dropout(dropout_rate)\n",
    "        self.fc3 = nn.Linear(256, len(balanced_classes))  # 4 classes of AdoptionSpeed\n",
    "\n",
    "    def forward(self, input_ids, attention_mask, image):\n",
    "        # Text features\n",
    "        text_outputs = self.text_model(input_ids=input_ids, attention_mask=attention_mask)\n",
    "        text_features = text_outputs.last_hidden_state[:, 0, :]  # Extract [CLS] token features\n",
    "\n",
    "        # Image features\n",
    "        image_features = self.image_model(image)\n",
    "\n",
    "        # Fusion of text and image features\n",
    "        combined_features = torch.cat((text_features, image_features), dim=1)\n",
    "\n",
    "        # Classification layers\n",
    "        x = self.fc1(combined_features)\n",
    "        x = self.bn1(x)\n",
    "        x = torch.relu(x)\n",
    "        x = self.dropout1(x)\n",
    "\n",
    "        x = self.fc2(x)\n",
    "        x = self.bn2(x)\n",
    "        x = torch.relu(x)\n",
    "        x = self.dropout2(x)\n",
    "\n",
    "        logits = self.fc3(x)\n",
    "        return logits"
   ]
  },
  {
   "cell_type": "markdown",
   "metadata": {},
   "source": [
    "#### 5.1. Alternative model"
   ]
  },
  {
   "cell_type": "code",
   "execution_count": null,
   "metadata": {},
   "outputs": [],
   "source": [
    "\"\"\"\n",
    "class PetAdoptionModel(nn.Module):\n",
    "    def __init__(self, num_classes, dropout=0.5, text_input_dim=768, image_output_dim=512):\n",
    "        super(PetAdoptionModel, self).__init__()\n",
    "        \n",
    "        # Text branch: BERT\n",
    "        self.text_model = BertModel.from_pretrained(\"bert-base-uncased\", num_labels=num_classes)\n",
    "        self.text_fc = nn.Linear(text_input_dim, 128)\n",
    "\n",
    "        # Image branch: ResNet\n",
    "        self.image_model = models.resnet18(pretrained=True)\n",
    "        self.image_model.fc = nn.Linear(self.image_model.fc.in_features, image_output_dim)\n",
    "\n",
    "        # Fusion and classification layers\n",
    "        self.fusion_fc = nn.Sequential(\n",
    "            nn.Linear(128 + image_output_dim, 256),\n",
    "            nn.ReLU(),\n",
    "            nn.Dropout(dropout),\n",
    "            nn.Linear(256, num_classes)\n",
    "        )\n",
    "\n",
    "    def forward(self, input_ids, attention_mask, images):\n",
    "        # Text features\n",
    "        text_outputs = self.text_model.bert(input_ids, attention_mask=attention_mask)\n",
    "        text_features = self.text_fc(text_outputs.pooler_output)\n",
    "\n",
    "        # Image features\n",
    "        image_features = self.image_model(images)\n",
    "\n",
    "        # Fusion\n",
    "        combined_features = torch.cat((text_features, image_features), dim=1)\n",
    "        output = self.fusion_fc(combined_features)\n",
    "        return output\n",
    "\"\"\""
   ]
  },
  {
   "cell_type": "markdown",
   "metadata": {},
   "source": [
    "### 6. Selection of optimal hyperparameters"
   ]
  },
  {
   "cell_type": "markdown",
   "metadata": {},
   "source": [
    "#### 6.1. Optuna searcher for best hyperparameters"
   ]
  },
  {
   "cell_type": "code",
   "execution_count": 31,
   "metadata": {
    "execution": {
     "iopub.execute_input": "2024-12-23T21:40:27.277145Z",
     "iopub.status.busy": "2024-12-23T21:40:27.276772Z",
     "iopub.status.idle": "2024-12-23T21:40:27.284813Z",
     "shell.execute_reply": "2024-12-23T21:40:27.283849Z",
     "shell.execute_reply.started": "2024-12-23T21:40:27.277115Z"
    },
    "trusted": true
   },
   "outputs": [],
   "source": [
    "def objective(trial):\n",
    "    # Hyperparameter search space\n",
    "    dropout_rate = trial.suggest_float('dropout_rate', 0.1, 0.7)\n",
    "    lr = trial.suggest_float('lr', 1e-5, 1e-3, log=True)\n",
    "    batch_size = trial.suggest_categorical('batch_size', [16, 32, 64])\n",
    "\n",
    "    # Update Dataloaders with the selected batch sizee\n",
    "    train_loader = DataLoader(train_dataset, batch_size=batch_size, shuffle=True, num_workers=4)\n",
    "    val_loader = DataLoader(val_dataset, batch_size=batch_size, shuffle=False, num_workers=4)\n",
    "\n",
    "    # Initiaize the model\n",
    "    device = 'cuda' if torch.cuda.is_available() else 'cpu'\n",
    "    model = PetAdoptionModel(dropout_rate=dropout_rate)\n",
    "    model = model.to(device)\n",
    "\n",
    "    # Optimizer and Loss Function\n",
    "    optimizer = optim.Adam(model.parameters(), lr=lr, weight_decay=1e-5)\n",
    "    criterion = nn.CrossEntropyLoss()\n",
    "\n",
    "    # Training loop\n",
    "    num_epochs = 3\n",
    "    for epoch in range(num_epochs):\n",
    "        model.train()\n",
    "        for batch in train_loader:\n",
    "            input_ids, attention_mask, images, labels = [b.to(device) for b in batch]\n",
    "            optimizer.zero_grad()\n",
    "            outputs = model(input_ids=input_ids, attention_mask=attention_mask, image=images)\n",
    "            loss = criterion(outputs, labels)\n",
    "            loss.backward()\n",
    "            optimizer.step()\n",
    "\n",
    "    # Validation Loop\n",
    "    model.eval()\n",
    "    all_preds = []\n",
    "    all_labels = []\n",
    "    with torch.no_grad():\n",
    "        for batch in val_loader:\n",
    "            input_ids, attention_mask, images, labels = [b.to(device) for b in batch]\n",
    "            outputs = model(input_ids=input_ids, attention_mask=attention_mask, image=images)\n",
    "            preds = torch.argmax(outputs, dim=1).cpu().numpy()\n",
    "            all_preds.extend(preds)\n",
    "            all_labels.extend(labels.cpu().numpy())\n",
    "\n",
    "    val_kappa = cohen_kappa_score(all_labels, all_preds, weights='quadratic')\n",
    "    return val_kappa"
   ]
  },
  {
   "cell_type": "markdown",
   "metadata": {},
   "source": [
    "#### 6.2. Optuna study"
   ]
  },
  {
   "cell_type": "code",
   "execution_count": null,
   "metadata": {
    "execution": {
     "iopub.status.busy": "2024-12-23T21:18:23.627152Z",
     "iopub.status.idle": "2024-12-23T21:18:23.627553Z",
     "shell.execute_reply": "2024-12-23T21:18:23.627358Z"
    },
    "trusted": true
   },
   "outputs": [],
   "source": [
    "study = optuna.create_study(direction=\"maximize\")\n",
    "study.optimize(objective, n_trials=50)\n",
    "\n",
    "print('Best Kappa value:', study.best_value)\n",
    "print('Best hyperparameters:')\n",
    "for key, value in study.best_params.items():\n",
    "    print(f'    {key}: {value}')"
   ]
  },
  {
   "cell_type": "markdown",
   "metadata": {},
   "source": [
    "### 7. Model training"
   ]
  },
  {
   "cell_type": "markdown",
   "metadata": {},
   "source": [
    "#### 7.1. Extracting best hyperparameters and updating data loaders"
   ]
  },
  {
   "cell_type": "code",
   "execution_count": null,
   "metadata": {
    "execution": {
     "iopub.status.busy": "2024-12-23T21:18:23.628442Z",
     "iopub.status.idle": "2024-12-23T21:18:23.628824Z",
     "shell.execute_reply": "2024-12-23T21:18:23.628661Z"
    },
    "trusted": true
   },
   "outputs": [],
   "source": [
    "best_params = study.best_params\n",
    "batch_size = best_params['batch_size']\n",
    "dropout_rate = best_params['dropout_rate']\n",
    "learning_rate = best_params['lr']"
   ]
  },
  {
   "cell_type": "code",
   "execution_count": 33,
   "metadata": {
    "execution": {
     "iopub.execute_input": "2024-12-23T21:40:38.143054Z",
     "iopub.status.busy": "2024-12-23T21:40:38.142746Z",
     "iopub.status.idle": "2024-12-23T21:40:38.147708Z",
     "shell.execute_reply": "2024-12-23T21:40:38.146751Z",
     "shell.execute_reply.started": "2024-12-23T21:40:38.143029Z"
    },
    "trusted": true
   },
   "outputs": [],
   "source": [
    "train_loader = DataLoader(train_dataset, batch_size=batch_size, num_workers=4, pin_memory=True, shuffle=True)\n",
    "val_loader = DataLoader(val_dataset, batch_size=batch_size, num_workers=4, pin_memory=True)\n",
    "test_loader = DataLoader(test_dataset, batch_size=batch_size, num_workers=4, pin_memory=True)"
   ]
  },
  {
   "cell_type": "markdown",
   "metadata": {},
   "source": [
    "#### 7.2. Initializing the model"
   ]
  },
  {
   "cell_type": "code",
   "execution_count": 34,
   "metadata": {
    "execution": {
     "iopub.execute_input": "2024-12-23T21:40:40.700298Z",
     "iopub.status.busy": "2024-12-23T21:40:40.699937Z",
     "iopub.status.idle": "2024-12-23T21:40:41.605196Z",
     "shell.execute_reply": "2024-12-23T21:40:41.604223Z",
     "shell.execute_reply.started": "2024-12-23T21:40:40.700264Z"
    },
    "trusted": true
   },
   "outputs": [],
   "source": [
    "device = 'cuda' if torch.cuda.is_available() else 'cpu'\n",
    "model = PetAdoptionModel(dropout_rate=dropout_rate)\n",
    "model = model.to(device)"
   ]
  },
  {
   "cell_type": "markdown",
   "metadata": {},
   "source": [
    "#### 7.3. Optimizer and loss function"
   ]
  },
  {
   "cell_type": "code",
   "execution_count": 35,
   "metadata": {
    "execution": {
     "iopub.execute_input": "2024-12-23T21:40:44.464012Z",
     "iopub.status.busy": "2024-12-23T21:40:44.463704Z",
     "iopub.status.idle": "2024-12-23T21:40:44.470142Z",
     "shell.execute_reply": "2024-12-23T21:40:44.469149Z",
     "shell.execute_reply.started": "2024-12-23T21:40:44.463986Z"
    },
    "trusted": true
   },
   "outputs": [],
   "source": [
    "optimizer = optim.Adam(model.parameters(), lr=learning_rate, weight_decay=1e-5)\n",
    "criterion = nn.CrossEntropyLoss()"
   ]
  },
  {
   "cell_type": "markdown",
   "metadata": {},
   "source": [
    "#### 7.4. Model training"
   ]
  },
  {
   "cell_type": "code",
   "execution_count": 36,
   "metadata": {
    "execution": {
     "iopub.execute_input": "2024-12-23T21:40:46.897820Z",
     "iopub.status.busy": "2024-12-23T21:40:46.897510Z",
     "iopub.status.idle": "2024-12-23T21:40:46.906802Z",
     "shell.execute_reply": "2024-12-23T21:40:46.905560Z",
     "shell.execute_reply.started": "2024-12-23T21:40:46.897794Z"
    },
    "trusted": true
   },
   "outputs": [],
   "source": [
    "def train_model(model, train_loader, val_loader, num_epochs=20):\n",
    "    train_losses = []\n",
    "    val_losses = []\n",
    "    val_kappas = []\n",
    "    \n",
    "    best_val_kappa = float('-inf')\n",
    "    patience = 3\n",
    "    counter = 0\n",
    "    \n",
    "    for epoch in range(num_epochs):\n",
    "        # Training\n",
    "        model.train()\n",
    "        total_loss = 0\n",
    "        y_true_train, y_pred_train = [], []\n",
    "\n",
    "        for batch in tqdm(train_loader):\n",
    "            input_ids, attention_mask, images, labels = [b.to(device) for b in batch]\n",
    "            optimizer.zero_grad()\n",
    "            outputs = model(input_ids, attention_mask, images)\n",
    "            loss = criterion(outputs, labels)\n",
    "            loss.backward()\n",
    "            optimizer.step()\n",
    "\n",
    "            total_loss += loss.item()\n",
    "\n",
    "        avg_train_loss = total_loss / len(train_loader)\n",
    "        train_losses.append(avg_train_loss)\n",
    "\n",
    "        # Validation\n",
    "        model.eval()\n",
    "        val_loss = 0\n",
    "        all_preds = []\n",
    "        all_labels = []\n",
    "        with torch.no_grad():\n",
    "            for batch in val_loader:\n",
    "                input_ids, attention_mask, images, labels = [b.to(device) for b in batch]\n",
    "                outputs = model(input_ids, attention_mask, images)\n",
    "                loss = criterion(outputs, labels)\n",
    "                val_loss += loss.item()\n",
    "\n",
    "                preds = torch.argmax(outputs, dim=1).cpu().numpy()\n",
    "                all_preds.extend(preds)\n",
    "                all_labels.extend(labels.cpu().numpy())\n",
    "\n",
    "        avg_val_loss = val_loss / len(val_loader)\n",
    "        val_losses.append(avg_val_loss)\n",
    "        val_kappa = cohen_kappa_score(all_labels, all_preds, weights='quadratic')\n",
    "        val_kappas.append(val_kappa)\n",
    "\n",
    "        print(f\"Epoch {epoch+1}/{num_epochs}\")\n",
    "        print(f\"Train Loss: {avg_train_loss:.4f}\")\n",
    "        print(f\"Val Loss: {avg_val_loss:.4f}\")\n",
    "        print(f\"Val Kappa: {val_kappa:.4f}\")\n",
    "\n",
    "        # Early stopping\n",
    "        if val_kappa > best_val_kappa:\n",
    "            best_val_kappa = val_kappa\n",
    "            counter = 0\n",
    "            torch.save(model.state_dict(), \"/kaggle/working/best_model.pth\")\n",
    "            print(\"Best model saved\")\n",
    "        else:\n",
    "            counter += 1\n",
    "            if counter >= patience:\n",
    "                print(\"Early stopping triggered.\")\n",
    "                break\n",
    "\n",
    "    return train_losses, val_losses, val_kappas"
   ]
  },
  {
   "cell_type": "code",
   "execution_count": 37,
   "metadata": {
    "execution": {
     "iopub.execute_input": "2024-12-23T21:40:51.709147Z",
     "iopub.status.busy": "2024-12-23T21:40:51.708838Z",
     "iopub.status.idle": "2024-12-23T21:59:26.884923Z",
     "shell.execute_reply": "2024-12-23T21:59:26.883800Z",
     "shell.execute_reply.started": "2024-12-23T21:40:51.709124Z"
    },
    "trusted": true
   },
   "outputs": [
    {
     "name": "stderr",
     "output_type": "stream",
     "text": [
      "100%|██████████| 214/214 [01:53<00:00,  1.88it/s]\n"
     ]
    },
    {
     "name": "stdout",
     "output_type": "stream",
     "text": [
      "Epoch 1/20\n",
      "Train Loss: 1.3469\n",
      "Val Loss: 1.1937\n",
      "Val Kappa: 0.3619\n",
      "Best model saved\n"
     ]
    },
    {
     "name": "stderr",
     "output_type": "stream",
     "text": [
      "100%|██████████| 214/214 [01:54<00:00,  1.87it/s]\n"
     ]
    },
    {
     "name": "stdout",
     "output_type": "stream",
     "text": [
      "Epoch 2/20\n",
      "Train Loss: 0.9554\n",
      "Val Loss: 1.0538\n",
      "Val Kappa: 0.4610\n",
      "Best model saved\n"
     ]
    },
    {
     "name": "stderr",
     "output_type": "stream",
     "text": [
      "100%|██████████| 214/214 [01:54<00:00,  1.88it/s]\n"
     ]
    },
    {
     "name": "stdout",
     "output_type": "stream",
     "text": [
      "Epoch 3/20\n",
      "Train Loss: 0.4479\n",
      "Val Loss: 0.8332\n",
      "Val Kappa: 0.6670\n",
      "Best model saved\n"
     ]
    },
    {
     "name": "stderr",
     "output_type": "stream",
     "text": [
      "100%|██████████| 214/214 [01:54<00:00,  1.87it/s]\n"
     ]
    },
    {
     "name": "stdout",
     "output_type": "stream",
     "text": [
      "Epoch 4/20\n",
      "Train Loss: 0.1664\n",
      "Val Loss: 0.6920\n",
      "Val Kappa: 0.7376\n",
      "Best model saved\n"
     ]
    },
    {
     "name": "stderr",
     "output_type": "stream",
     "text": [
      "100%|██████████| 214/214 [01:54<00:00,  1.87it/s]\n"
     ]
    },
    {
     "name": "stdout",
     "output_type": "stream",
     "text": [
      "Epoch 5/20\n",
      "Train Loss: 0.0847\n",
      "Val Loss: 0.8063\n",
      "Val Kappa: 0.6765\n"
     ]
    },
    {
     "name": "stderr",
     "output_type": "stream",
     "text": [
      "100%|██████████| 214/214 [01:54<00:00,  1.88it/s]\n"
     ]
    },
    {
     "name": "stdout",
     "output_type": "stream",
     "text": [
      "Epoch 6/20\n",
      "Train Loss: 0.0664\n",
      "Val Loss: 0.7652\n",
      "Val Kappa: 0.7453\n",
      "Best model saved\n"
     ]
    },
    {
     "name": "stderr",
     "output_type": "stream",
     "text": [
      "100%|██████████| 214/214 [01:54<00:00,  1.87it/s]\n"
     ]
    },
    {
     "name": "stdout",
     "output_type": "stream",
     "text": [
      "Epoch 7/20\n",
      "Train Loss: 0.0584\n",
      "Val Loss: 0.7418\n",
      "Val Kappa: 0.6995\n"
     ]
    },
    {
     "name": "stderr",
     "output_type": "stream",
     "text": [
      "100%|██████████| 214/214 [01:54<00:00,  1.87it/s]\n"
     ]
    },
    {
     "name": "stdout",
     "output_type": "stream",
     "text": [
      "Epoch 8/20\n",
      "Train Loss: 0.0862\n",
      "Val Loss: 0.9146\n",
      "Val Kappa: 0.6361\n"
     ]
    },
    {
     "name": "stderr",
     "output_type": "stream",
     "text": [
      "100%|██████████| 214/214 [01:54<00:00,  1.87it/s]\n"
     ]
    },
    {
     "name": "stdout",
     "output_type": "stream",
     "text": [
      "Epoch 9/20\n",
      "Train Loss: 0.1272\n",
      "Val Loss: 0.8532\n",
      "Val Kappa: 0.7019\n",
      "Early stopping triggered.\n"
     ]
    }
   ],
   "source": [
    "train_losses, val_losses, val_kappas = train_model(model, train_loader, val_loader)"
   ]
  },
  {
   "cell_type": "markdown",
   "metadata": {},
   "source": [
    "### 8. Predictions"
   ]
  },
  {
   "cell_type": "markdown",
   "metadata": {},
   "source": [
    "#### 8.1. Loading the best model"
   ]
  },
  {
   "cell_type": "code",
   "execution_count": 38,
   "metadata": {
    "execution": {
     "iopub.execute_input": "2024-12-23T21:59:29.042776Z",
     "iopub.status.busy": "2024-12-23T21:59:29.042471Z",
     "iopub.status.idle": "2024-12-23T21:59:29.458383Z",
     "shell.execute_reply": "2024-12-23T21:59:29.457579Z",
     "shell.execute_reply.started": "2024-12-23T21:59:29.042753Z"
    },
    "trusted": true
   },
   "outputs": [
    {
     "name": "stderr",
     "output_type": "stream",
     "text": [
      "<ipython-input-38-a684e626a546>:3: FutureWarning: You are using `torch.load` with `weights_only=False` (the current default value), which uses the default pickle module implicitly. It is possible to construct malicious pickle data which will execute arbitrary code during unpickling (See https://github.com/pytorch/pytorch/blob/main/SECURITY.md#untrusted-models for more details). In a future release, the default value for `weights_only` will be flipped to `True`. This limits the functions that could be executed during unpickling. Arbitrary objects will no longer be allowed to be loaded via this mode unless they are explicitly allowlisted by the user via `torch.serialization.add_safe_globals`. We recommend you start setting `weights_only=True` for any use case where you don't have full control of the loaded file. Please open an issue on GitHub for any issues related to this experimental feature.\n",
      "  model.load_state_dict(torch.load(os.path.join(model_dir, 'best_model.pth'), map_location=device))\n"
     ]
    },
    {
     "data": {
      "text/plain": [
       "<All keys matched successfully>"
      ]
     },
     "execution_count": 38,
     "metadata": {},
     "output_type": "execute_result"
    }
   ],
   "source": [
    "model_dir = \"/kaggle/working/\"\n",
    "\n",
    "model.load_state_dict(torch.load(os.path.join(model_dir, 'best_model.pth'), map_location=device))"
   ]
  },
  {
   "cell_type": "markdown",
   "metadata": {},
   "source": [
    "#### 8.2. Validation of the best model"
   ]
  },
  {
   "cell_type": "code",
   "execution_count": 39,
   "metadata": {
    "execution": {
     "iopub.execute_input": "2024-12-23T21:59:32.834871Z",
     "iopub.status.busy": "2024-12-23T21:59:32.834578Z",
     "iopub.status.idle": "2024-12-23T21:59:41.961060Z",
     "shell.execute_reply": "2024-12-23T21:59:41.960037Z",
     "shell.execute_reply.started": "2024-12-23T21:59:32.834846Z"
    },
    "trusted": true
   },
   "outputs": [
    {
     "name": "stderr",
     "output_type": "stream",
     "text": [
      "100%|██████████| 54/54 [00:09<00:00,  5.92it/s]\n"
     ]
    }
   ],
   "source": [
    "def predict(model, loader):\n",
    "    model.eval()\n",
    "    predictions = []\n",
    "    with torch.no_grad():\n",
    "        for batch in tqdm(loader):\n",
    "            if len(batch) == 4:  # Check if labels are included\n",
    "                input_ids, attention_mask, images, _ = [b.to(device) for b in batch]\n",
    "            elif len(batch) == 3:  # No labels\n",
    "                input_ids, attention_mask, images = [b.to(device) for b in batch]\n",
    "            else:\n",
    "                raise ValueError(f\"Unexpected number of elements in batch: {len(batch)}\")\n",
    "\n",
    "            outputs = model(input_ids, attention_mask, images)\n",
    "            predictions.extend(outputs.argmax(1).cpu().numpy())\n",
    "    return predictions\n",
    "\n",
    "\n",
    "val_predictions = predict(model, val_loader)"
   ]
  },
  {
   "cell_type": "markdown",
   "metadata": {},
   "source": [
    "#### 8.3. Test predictions"
   ]
  },
  {
   "cell_type": "code",
   "execution_count": 40,
   "metadata": {
    "execution": {
     "iopub.execute_input": "2024-12-23T21:59:45.194002Z",
     "iopub.status.busy": "2024-12-23T21:59:45.193689Z",
     "iopub.status.idle": "2024-12-23T21:59:55.159516Z",
     "shell.execute_reply": "2024-12-23T21:59:55.158426Z",
     "shell.execute_reply.started": "2024-12-23T21:59:45.193978Z"
    },
    "trusted": true
   },
   "outputs": [
    {
     "name": "stderr",
     "output_type": "stream",
     "text": [
      "100%|██████████| 60/60 [00:09<00:00,  6.03it/s]\n"
     ]
    }
   ],
   "source": [
    "test_predictions = predict(model, test_loader)"
   ]
  },
  {
   "cell_type": "markdown",
   "metadata": {},
   "source": [
    "Save predictions to CSV"
   ]
  },
  {
   "cell_type": "code",
   "execution_count": 41,
   "metadata": {
    "execution": {
     "iopub.execute_input": "2024-12-23T21:59:57.166410Z",
     "iopub.status.busy": "2024-12-23T21:59:57.166041Z",
     "iopub.status.idle": "2024-12-23T21:59:57.178071Z",
     "shell.execute_reply": "2024-12-23T21:59:57.177361Z",
     "shell.execute_reply.started": "2024-12-23T21:59:57.166379Z"
    },
    "trusted": true
   },
   "outputs": [],
   "source": [
    "test_df[\"AdoptionSpeed\"] = np.array(test_predictions) + 1 # convert back to 1-based indexing\n",
    "test_df[[\"PetID\", \"AdoptionSpeed\"]].to_csv(\"/kaggle/working/predictions.csv\", index=False)"
   ]
  },
  {
   "cell_type": "markdown",
   "metadata": {},
   "source": [
    "### 9. Results analysis"
   ]
  },
  {
   "cell_type": "markdown",
   "metadata": {},
   "source": [
    "#### 9.1. Learning curve"
   ]
  },
  {
   "cell_type": "code",
   "execution_count": 42,
   "metadata": {
    "execution": {
     "iopub.execute_input": "2024-12-23T22:03:34.267229Z",
     "iopub.status.busy": "2024-12-23T22:03:34.266912Z",
     "iopub.status.idle": "2024-12-23T22:03:34.822316Z",
     "shell.execute_reply": "2024-12-23T22:03:34.821447Z",
     "shell.execute_reply.started": "2024-12-23T22:03:34.267203Z"
    },
    "trusted": true
   },
   "outputs": [
    {
     "data": {
      "image/png": "[encoded data removed]",
      "text/plain": [
       "<Figure size 1200x500 with 2 Axes>"
      ]
     },
     "metadata": {},
     "output_type": "display_data"
    }
   ],
   "source": [
    "epochs = range(1, len(train_losses) + 1)\n",
    "\n",
    "plt.figure(figsize=(12, 5))\n",
    "\n",
    "# Loss function\n",
    "plt.subplot(1, 2, 1)\n",
    "plt.plot(epochs, train_losses, 'b-', label='loss_train')  \n",
    "plt.plot(epochs, val_losses, 'r-', label='loss_val')   \n",
    "plt.title('Loos train_val')\n",
    "plt.xlabel('Епохи')\n",
    "plt.ylabel('loss')\n",
    "plt.legend()\n",
    "\n",
    "# Kappa graph\n",
    "plt.subplot(1, 2, 2)\n",
    "plt.plot(epochs, val_kappas,  label='qwk_val')  \n",
    "plt.title('QWK')\n",
    "plt.xlabel('Епохи')\n",
    "plt.ylabel('qwk')\n",
    "plt.legend()\n",
    "\n",
    "plt.tight_layout()  \n",
    "plt.show() "
   ]
  },
  {
   "cell_type": "markdown",
   "metadata": {},
   "source": [
    "#### 9.2. Custom quadratic weighted kappa"
   ]
  },
  {
   "cell_type": "code",
   "execution_count": 43,
   "metadata": {
    "execution": {
     "iopub.execute_input": "2024-12-23T22:03:52.713312Z",
     "iopub.status.busy": "2024-12-23T22:03:52.713003Z",
     "iopub.status.idle": "2024-12-23T22:03:52.722532Z",
     "shell.execute_reply": "2024-12-23T22:03:52.721683Z",
     "shell.execute_reply.started": "2024-12-23T22:03:52.713286Z"
    },
    "trusted": true
   },
   "outputs": [],
   "source": [
    "def confusion_matrix(rater_a, rater_b, min_rating=None, max_rating=None):\n",
    "    \"\"\"\n",
    "    Returns the confusion matrix between rater's ratings\n",
    "    \"\"\"\n",
    "    assert(len(rater_a) == len(rater_b))\n",
    "    if min_rating is None:\n",
    "        min_rating = min(rater_a + rater_b)\n",
    "    if max_rating is None:\n",
    "        max_rating = max(rater_a + rater_b)\n",
    "    num_ratings = int(max_rating - min_rating + 1)\n",
    "    conf_mat = [[0 for i in range(num_ratings)]\n",
    "                for j in range(num_ratings)]\n",
    "    for a, b in zip(rater_a, rater_b):\n",
    "        conf_mat[a - min_rating][b - min_rating] += 1\n",
    "    return conf_mat\n",
    "\n",
    "\n",
    "def histogram(ratings, min_rating=None, max_rating=None):\n",
    "    \"\"\"\n",
    "    Returns the counts of each type of rating that a rater made\n",
    "    \"\"\"\n",
    "    if min_rating is None:\n",
    "        min_rating = min(ratings)\n",
    "    if max_rating is None:\n",
    "        max_rating = max(ratings)\n",
    "    num_ratings = int(max_rating - min_rating + 1)\n",
    "    hist_ratings = [0 for x in range(num_ratings)]\n",
    "    for r in ratings:\n",
    "        hist_ratings[r - min_rating] += 1\n",
    "    return hist_ratings\n",
    "    \n",
    "\n",
    "def custom_quadratic_weighted_kappa(y, y_pred):\n",
    "    \"\"\"\n",
    "    Calculates the quadratic weighted kappa\n",
    "    axquadratic_weighted_kappa calculates the quadratic weighted kappa\n",
    "    value, which is a measure of inter-rater agreement between two raters\n",
    "    that provide discrete numeric ratings.  Potential values range from -1\n",
    "    (representing complete disagreement) to 1 (representing complete\n",
    "    agreement).  A kappa value of 0 is expected if all agreement is due to\n",
    "    chance.\n",
    "    quadratic_weighted_kappa(rater_a, rater_b), where rater_a and rater_b\n",
    "    each correspond to a list of integer ratings.  These lists must have the\n",
    "    same length.\n",
    "    The ratings should be integers, and it is assumed that they contain\n",
    "    the complete range of possible ratings.\n",
    "    quadratic_weighted_kappa(X, min_rating, max_rating), where min_rating\n",
    "    is the minimum possible rating, and max_rating is the maximum possible\n",
    "    rating\n",
    "    \"\"\"\n",
    "    rater_a = y\n",
    "    rater_b = y_pred\n",
    "    min_rating=None\n",
    "    max_rating=None\n",
    "    rater_a = np.array(rater_a, dtype=int)\n",
    "    rater_b = np.array(rater_b, dtype=int)\n",
    "    assert(len(rater_a) == len(rater_b))\n",
    "    if min_rating is None:\n",
    "        min_rating = min(min(rater_a), min(rater_b))\n",
    "    if max_rating is None:\n",
    "        max_rating = max(max(rater_a), max(rater_b))\n",
    "    conf_mat = confusion_matrix(rater_a, rater_b,\n",
    "                                min_rating, max_rating)\n",
    "    num_ratings = len(conf_mat)\n",
    "    num_scored_items = float(len(rater_a))\n",
    "\n",
    "    hist_rater_a = histogram(rater_a, min_rating, max_rating)\n",
    "    hist_rater_b = histogram(rater_b, min_rating, max_rating)\n",
    "\n",
    "    numerator = 0.0\n",
    "    denominator = 0.0\n",
    "\n",
    "    for i in range(num_ratings):\n",
    "        for j in range(num_ratings):\n",
    "            expected_count = (hist_rater_a[i] * hist_rater_b[j]\n",
    "                              / num_scored_items)\n",
    "            d = pow(i - j, 2.0) / pow(num_ratings - 1, 2.0)\n",
    "            numerator += d * conf_mat[i][j] / num_scored_items\n",
    "            denominator += d * expected_count / num_scored_items\n",
    "\n",
    "    return (1.0 - numerator / denominator)"
   ]
  },
  {
   "cell_type": "code",
   "execution_count": 44,
   "metadata": {
    "execution": {
     "iopub.execute_input": "2024-12-23T22:04:10.292053Z",
     "iopub.status.busy": "2024-12-23T22:04:10.291751Z",
     "iopub.status.idle": "2024-12-23T22:04:10.298349Z",
     "shell.execute_reply": "2024-12-23T22:04:10.297489Z",
     "shell.execute_reply.started": "2024-12-23T22:04:10.292028Z"
    },
    "trusted": true
   },
   "outputs": [
    {
     "name": "stdout",
     "output_type": "stream",
     "text": [
      "QWK on validation dataset:  0.7453141610250097\n"
     ]
    }
   ],
   "source": [
    "custom_qwk = custom_quadratic_weighted_kappa(val_labels, val_predictions)\n",
    "print(\"QWK on validation dataset: \", custom_qwk)"
   ]
  },
  {
   "cell_type": "markdown",
   "metadata": {},
   "source": [
    "### Conclusion:\n",
    "As can be seen from the learning curve analysis, the model starts to overfeat already after the forth epoch. This is due to the model being too complex for such a small dataset. To solve this problem, you can try to partially freeze the layers that are responsible for embedding text and graphic information."
   ]
  }
 ],
 "metadata": {
  "kaggle": {
   "accelerator": "gpu",
   "dataSources": [
    {
     "databundleVersionId": 10442603,
     "sourceId": 90104,
     "sourceType": "competition"
    }
   ],
   "dockerImageVersionId": 30822,
   "isGpuEnabled": true,
   "isInternetEnabled": true,
   "language": "python",
   "sourceType": "notebook"
  },
  "kernelspec": {
   "display_name": "Python 3",
   "language": "python",
   "name": "python3"
  },
  "language_info": {
   "codemirror_mode": {
    "name": "ipython",
    "version": 3
   },
   "file_extension": ".py",
   "mimetype": "text/x-python",
   "name": "python",
   "nbconvert_exporter": "python",
   "pygments_lexer": "ipython3",
   "version": "3.10.12"
  }
 },
 "nbformat": 4,
 "nbformat_minor": 4
}
