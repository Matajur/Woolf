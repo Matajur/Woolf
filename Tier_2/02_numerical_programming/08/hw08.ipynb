{
 "cells": [
  {
   "cell_type": "markdown",
   "metadata": {},
   "source": [
    "# Tier 2. Module 2: Numerical Programming in Python\n",
    "\n",
    "## Topic 8 - LDA, QDA algorithms in classification problems\n",
    "\n",
    "## Homework\n",
    "\n",
    "Application of discriminant methods for own implementation of the QDA method.\n",
    "\n",
    "This will help to consolidate the following skills:\n",
    "\n",
    "* matrix operations, which are reduced to software implementations of the considered methods;\n",
    "* features of the QDA method.\n",
    "\n",
    "### Task"
   ]
  },
  {
   "cell_type": "markdown",
   "metadata": {},
   "source": [
    "#### 1 - Load the Iris dataset of the sklearn library"
   ]
  },
  {
   "cell_type": "code",
   "execution_count": 20,
   "metadata": {},
   "outputs": [
    {
     "name": "stdout",
     "output_type": "stream",
     "text": [
      "(150, 4)\n",
      "(150,)\n"
     ]
    }
   ],
   "source": [
    "from sklearn.datasets import load_iris\n",
    "\n",
    "iris = load_iris()\n",
    "X = iris.data\n",
    "y = iris.target\n",
    "print(X.shape)\n",
    "print(y.shape)"
   ]
  },
  {
   "cell_type": "markdown",
   "metadata": {},
   "source": [
    "#### 2 - Split data into training and testing"
   ]
  },
  {
   "cell_type": "code",
   "execution_count": 21,
   "metadata": {},
   "outputs": [
    {
     "name": "stdout",
     "output_type": "stream",
     "text": [
      "(112, 4)\n",
      "(38, 4)\n"
     ]
    }
   ],
   "source": [
    "from sklearn.model_selection import train_test_split\n",
    "\n",
    "X_train, X_test, y_train, y_test = train_test_split(X, y, test_size=0.25, random_state=42, stratify=y)\n",
    "print(X_train.shape)\n",
    "print(X_test.shape)"
   ]
  },
  {
   "cell_type": "markdown",
   "metadata": {},
   "source": [
    "#### 3 - Use a sample of features separately for each class"
   ]
  },
  {
   "cell_type": "code",
   "execution_count": 24,
   "metadata": {},
   "outputs": [
    {
     "name": "stdout",
     "output_type": "stream",
     "text": [
      "[0 1 2]\n",
      "38\n",
      "37\n",
      "37\n"
     ]
    }
   ],
   "source": [
    "import numpy as np\n",
    "\n",
    "class_labels = np.unique(y_train)\n",
    "print(class_labels)\n",
    "\n",
    "X_train_class = {label: X_train[y_train == label] for label in class_labels}\n",
    "print(len(X_train_class[0]))\n",
    "print(len(X_train_class[1]))\n",
    "print(len(X_train_class[2]))"
   ]
  },
  {
   "cell_type": "markdown",
   "metadata": {},
   "source": [
    "#### 4 - Calculate covariance matrices for a set of features of each class"
   ]
  },
  {
   "cell_type": "code",
   "execution_count": 29,
   "metadata": {},
   "outputs": [
    {
     "name": "stdout",
     "output_type": "stream",
     "text": [
      "Covariance matrix of the class '0'\n",
      "[[0.09348506 0.08594595 0.00719772 0.01295875]\n",
      " [0.08594595 0.13175676 0.01013514 0.01432432]\n",
      " [0.00719772 0.01013514 0.02316501 0.00495021]\n",
      " [0.01295875 0.01432432 0.00495021 0.01229018]]\n",
      "\n",
      "Covariance matrix of the class '1'\n",
      "[[0.25527027 0.07567568 0.16823574 0.0466967 ]\n",
      " [0.07567568 0.08585586 0.06156156 0.03035285]\n",
      " [0.16823574 0.06156156 0.21067568 0.06233483]\n",
      " [0.0466967  0.03035285 0.06233483 0.03487988]]\n",
      "\n",
      "Covariance matrix of the class '2'\n",
      "[[0.41900901 0.1048048  0.32501502 0.03981231]\n",
      " [0.1048048  0.11774775 0.09198949 0.04582583]\n",
      " [0.32501502 0.09198949 0.3240991  0.05598348]\n",
      " [0.03981231 0.04582583 0.05598348 0.07145646]]\n"
     ]
    }
   ],
   "source": [
    "cov_matrices = {label: np.cov(X_train_class[label], rowvar=False) for label in class_labels}\n",
    "\n",
    "print(\"Covariance matrix of the class '0'\")\n",
    "print(cov_matrices[0])\n",
    "\n",
    "print(\"\\nCovariance matrix of the class '1'\")\n",
    "print(cov_matrices[1])\n",
    "\n",
    "print(\"\\nCovariance matrix of the class '2'\")\n",
    "print(cov_matrices[2])"
   ]
  },
  {
   "cell_type": "markdown",
   "metadata": {},
   "source": [
    "#### 5 - Calculate inverse covariance matrices"
   ]
  },
  {
   "cell_type": "code",
   "execution_count": 32,
   "metadata": {},
   "outputs": [
    {
     "name": "stdout",
     "output_type": "stream",
     "text": [
      "Inverse covariance matrix of the class '0'\n",
      "[[ 27.63929    -17.0526898    0.93375397  -9.64384368]\n",
      " [-17.0526898   19.28057302  -2.38236505  -3.53179813]\n",
      " [  0.93375397  -2.38236505  47.63805004 -17.39542786]\n",
      " [ -9.64384368  -3.53179813 -17.39542786 102.65702686]]\n",
      "\n",
      "Inverse covariance matrix of the class '1'\n",
      "[[  9.40953681  -4.59920671  -7.69691249   5.16029664]\n",
      " [ -4.59920671  19.22502389   2.51081321 -15.05961859]\n",
      " [ -7.69691249   2.51081321  16.46122762 -21.29875055]\n",
      " [  5.16029664 -15.05961859 -21.29875055  72.92994376]]\n",
      "\n",
      "Inverse covariance matrix of the class '2'\n",
      "[[ 12.00062655  -3.1843019  -11.94509098   4.71445678]\n",
      " [ -3.1843019   13.80939062   0.57486952  -7.53235652]\n",
      " [-11.94509098   0.57486952  15.97750702  -6.2311889 ]\n",
      " [  4.71445678  -7.53235652  -6.2311889   21.08034414]]\n"
     ]
    }
   ],
   "source": [
    "from numpy.linalg import inv\n",
    "\n",
    "inv_cov_matrices = {label: inv(cov_matrices[label]) for label in class_labels}\n",
    "\n",
    "print(\"Inverse covariance matrix of the class '0'\")\n",
    "print(inv_cov_matrices[0])\n",
    "\n",
    "print(\"\\nInverse covariance matrix of the class '1'\")\n",
    "print(inv_cov_matrices[1])\n",
    "\n",
    "print(\"\\nInverse covariance matrix of the class '2'\")\n",
    "print(inv_cov_matrices[2])"
   ]
  },
  {
   "cell_type": "markdown",
   "metadata": {},
   "source": [
    "Verification of the inverse covariance matrix"
   ]
  },
  {
   "cell_type": "code",
   "execution_count": 34,
   "metadata": {},
   "outputs": [
    {
     "name": "stdout",
     "output_type": "stream",
     "text": [
      "[[ 1.00000000e+00 -8.57137666e-17  3.01320008e-18  4.37365746e-17]\n",
      " [-5.82137581e-17  1.00000000e+00  1.29591991e-17 -2.24630199e-17]\n",
      " [-1.49504280e-17 -3.90462002e-18  1.00000000e+00  5.60190537e-17]\n",
      " [ 1.91139687e-17 -3.66254703e-17  1.46373880e-17  1.00000000e+00]]\n"
     ]
    }
   ],
   "source": [
    "print(cov_matrices[0] @ inv_cov_matrices[0])"
   ]
  },
  {
   "cell_type": "markdown",
   "metadata": {},
   "source": [
    "#### 6 - Calculate the a priori probabilities of each class in the training data"
   ]
  },
  {
   "cell_type": "code",
   "execution_count": 35,
   "metadata": {},
   "outputs": [
    {
     "name": "stdout",
     "output_type": "stream",
     "text": [
      "A priori probability of the class '0'\n",
      "0.3392857142857143\n",
      "\n",
      "A priori probability of the class '1'\n",
      "0.33035714285714285\n",
      "\n",
      "A priori probability of the class '2'\n",
      "0.33035714285714285\n"
     ]
    }
   ],
   "source": [
    "priors = {label: X_train_class[label].shape[0] / X_train.shape[0] for label in class_labels}\n",
    "\n",
    "print(\"A priori probability of the class '0'\")\n",
    "print(priors[0])\n",
    "\n",
    "print(\"\\nA priori probability of the class '1'\")\n",
    "print(priors[1])\n",
    "\n",
    "print(\"\\nA priori probability of the class '2'\")\n",
    "print(priors[2])"
   ]
  },
  {
   "cell_type": "markdown",
   "metadata": {},
   "source": [
    "#### 7 - Implement the function of calculating the values ​​of the discriminant function for one line (vector) of test data"
   ]
  },
  {
   "cell_type": "code",
   "execution_count": 37,
   "metadata": {},
   "outputs": [],
   "source": [
    "def discriminant_function(x, mean, inv_cov, prior):\n",
    "    diff = x - mean\n",
    "    return -0.5 * np.dot(np.dot(diff.T, inv_cov), diff) + np.log(prior)"
   ]
  },
  {
   "cell_type": "markdown",
   "metadata": {},
   "source": [
    "#### 8 - Implement the function of calculating the values ​​of the discriminant function and the probabilities of belonging to each class for the entire matrix of test data"
   ]
  },
  {
   "cell_type": "code",
   "execution_count": 38,
   "metadata": {},
   "outputs": [],
   "source": [
    "def predict_discriminant(X_test, means, inv_cov_matrices, priors):\n",
    "    discriminants = np.zeros((X_test.shape[0], len(class_labels)))\n",
    "\n",
    "    for i, label in enumerate(class_labels):\n",
    "        mean = means[label]\n",
    "        inv_cov = inv_cov_matrices[label]\n",
    "        prior = priors[label]\n",
    "        for j, x in enumerate(X_test):\n",
    "            discriminants[j, i] = discriminant_function(x, mean, inv_cov, prior)\n",
    "\n",
    "    # Predict the class with the highest discriminant score\n",
    "    predictions = np.argmax(discriminants, axis=1)\n",
    "    return predictions"
   ]
  },
  {
   "cell_type": "code",
   "execution_count": 40,
   "metadata": {},
   "outputs": [
    {
     "data": {
      "text/plain": [
       "{0: array([4.99473684, 3.45      , 1.48157895, 0.24736842]),\n",
       " 1: array([5.9972973 , 2.74324324, 4.26486486, 1.31081081]),\n",
       " 2: array([6.66486486, 2.99459459, 5.60810811, 2.04864865])}"
      ]
     },
     "execution_count": 40,
     "metadata": {},
     "output_type": "execute_result"
    }
   ],
   "source": [
    "means = {label: np.mean(X_train_class[label], axis=0) for label in class_labels}\n",
    "means"
   ]
  },
  {
   "cell_type": "code",
   "execution_count": 41,
   "metadata": {},
   "outputs": [
    {
     "data": {
      "text/plain": [
       "array([0, 1, 1, 1, 0, 1, 2, 2, 2, 2, 2, 2, 1, 1, 0, 0, 0, 1, 0, 1, 2, 1,\n",
       "       2, 1, 2, 1, 0, 2, 0, 1, 2, 2, 0, 0, 0, 0, 2, 1], dtype=int64)"
      ]
     },
     "execution_count": 41,
     "metadata": {},
     "output_type": "execute_result"
    }
   ],
   "source": [
    "custom_predictions = predict_discriminant(X_test, means, inv_cov_matrices, priors)\n",
    "custom_predictions"
   ]
  },
  {
   "cell_type": "markdown",
   "metadata": {},
   "source": [
    "#### 9 - Make predictions on test data using the `QuadraticDiscriminantAnalysis()` function of the sklearn library and compare the obtained results"
   ]
  },
  {
   "cell_type": "code",
   "execution_count": 42,
   "metadata": {},
   "outputs": [
    {
     "data": {
      "text/plain": [
       "array([0, 1, 1, 1, 0, 1, 2, 2, 2, 2, 2, 2, 1, 1, 0, 0, 0, 1, 0, 1, 2, 1,\n",
       "       2, 1, 2, 1, 0, 2, 0, 1, 2, 2, 0, 0, 0, 0, 2, 1])"
      ]
     },
     "execution_count": 42,
     "metadata": {},
     "output_type": "execute_result"
    }
   ],
   "source": [
    "from sklearn.discriminant_analysis import QuadraticDiscriminantAnalysis\n",
    "\n",
    "qda = QuadraticDiscriminantAnalysis()\n",
    "qda.fit(X_train, y_train)\n",
    "sklearn_predictions = qda.predict(X_test)\n",
    "sklearn_predictions"
   ]
  },
  {
   "cell_type": "markdown",
   "metadata": {},
   "source": [
    "Classification report for the custom QDA algorithm"
   ]
  },
  {
   "cell_type": "code",
   "execution_count": 45,
   "metadata": {},
   "outputs": [
    {
     "name": "stdout",
     "output_type": "stream",
     "text": [
      "              precision    recall  f1-score   support\n",
      "\n",
      "           0       1.00      1.00      1.00        12\n",
      "           1       1.00      1.00      1.00        13\n",
      "           2       1.00      1.00      1.00        13\n",
      "\n",
      "    accuracy                           1.00        38\n",
      "   macro avg       1.00      1.00      1.00        38\n",
      "weighted avg       1.00      1.00      1.00        38\n",
      "\n"
     ]
    }
   ],
   "source": [
    "from sklearn.metrics import classification_report\n",
    "\n",
    "custom_report = classification_report(y_test, custom_predictions)\n",
    "print(custom_report)"
   ]
  },
  {
   "cell_type": "markdown",
   "metadata": {},
   "source": [
    "Classification report for the sklearn QDA algorithm"
   ]
  },
  {
   "cell_type": "code",
   "execution_count": 46,
   "metadata": {},
   "outputs": [
    {
     "name": "stdout",
     "output_type": "stream",
     "text": [
      "              precision    recall  f1-score   support\n",
      "\n",
      "           0       1.00      1.00      1.00        12\n",
      "           1       1.00      1.00      1.00        13\n",
      "           2       1.00      1.00      1.00        13\n",
      "\n",
      "    accuracy                           1.00        38\n",
      "   macro avg       1.00      1.00      1.00        38\n",
      "weighted avg       1.00      1.00      1.00        38\n",
      "\n"
     ]
    }
   ],
   "source": [
    "sklearn_report = classification_report(y_test, sklearn_predictions)\n",
    "print(sklearn_report)"
   ]
  },
  {
   "cell_type": "markdown",
   "metadata": {},
   "source": [
    "#### 10 - Draw a conclusion about the degree of similarity of the results obtained by the own function and the `sklearn` library"
   ]
  },
  {
   "cell_type": "markdown",
   "metadata": {},
   "source": [
    "Both QDA algorithms (custom and provided by sklearn) perfectly coped with the task and correctly predicted all three classes from the Iris dataset."
   ]
  }
 ],
 "metadata": {
  "kernelspec": {
   "display_name": ".venv",
   "language": "python",
   "name": "python3"
  },
  "language_info": {
   "codemirror_mode": {
    "name": "ipython",
    "version": 3
   },
   "file_extension": ".py",
   "mimetype": "text/x-python",
   "name": "python",
   "nbconvert_exporter": "python",
   "pygments_lexer": "ipython3",
   "version": "3.12.4"
  }
 },
 "nbformat": 4,
 "nbformat_minor": 2
}
