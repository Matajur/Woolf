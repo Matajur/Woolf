{
 "cells": [
  {
   "cell_type": "markdown",
   "metadata": {},
   "source": [
    "# Tier 2. Module 2: Numerical Programming in Python\n",
    "\n",
    "## Topic 5 - Vector space and differentiation in mathematical analysis\n",
    "## Homework\n",
    "\n",
    "In this task, gradient descent is used to construct a polynomial regression. It will be necessary to generate a data set for computational experiments and programmatically implement several variants of the gradient descent method: `SGD`, `RMSProp`, `Adam`, `Nadam`. During computational experiments, it is necessary to compare the speed of operation and the required number of iterations for each of the options.\n",
    "\n",
    "This will help to consolidate the following skills:\n",
    "\n",
    "* Gradient, using the gradient descent method.\n",
    "* Optimization in machine learning.\n",
    "\n",
    "### Task"
   ]
  },
  {
   "cell_type": "markdown",
   "metadata": {},
   "source": [
    "Data will need to be generated for this task. For 100 random features $x_1$, $x_2$, you need to calculate $y$ as a polynomial of the 2nd degree. For example,\n",
    "\n",
    "$4x_1^2 + 5x_2^2 − 2x_1x_2 + 3x_1 − 6x_2$.\n",
    "\n",
    "As a result, we will get an array of features with dimension (100, 2) and an array of the target variable with dimension (100,).\n",
    "\n",
    "To complete the task, the following steps should be performed:"
   ]
  },
  {
   "cell_type": "markdown",
   "metadata": {},
   "source": [
    "#### 1. Generate data"
   ]
  },
  {
   "cell_type": "markdown",
   "metadata": {},
   "source": [
    "* Use the function `np.random.rand()` to generate 100 random values ​​of features $x_1$, $x_2$.\n",
    "* Implement the function `polynomial(x1, x2)` to compute the target variable $y$ by the specified polynomial."
   ]
  },
  {
   "cell_type": "code",
   "execution_count": 65,
   "metadata": {},
   "outputs": [
    {
     "name": "stdout",
     "output_type": "stream",
     "text": [
      "(100, 2)\n",
      "(100,)\n"
     ]
    }
   ],
   "source": [
    "import numpy as np\n",
    "\n",
    "np.random.seed(42)  # random seed for reproducibility\n",
    "\n",
    "X = np.random.rand(100, 2)\n",
    "\n",
    "\n",
    "def polynomial(x1, x2):\n",
    "    return 4 * x1**2 + 5 * x2**2 - 2 * x1 * x2 + 3 * x1 - 6 * x2\n",
    "\n",
    "\n",
    "y = polynomial(X[:, 0], X[:, 1])\n",
    "\n",
    "print(X.shape)\n",
    "print(y.shape)"
   ]
  },
  {
   "cell_type": "code",
   "execution_count": 66,
   "metadata": {},
   "outputs": [
    {
     "data": {
      "text/plain": [
       "array([[0.37454012, 0.95071431],\n",
       "       [0.73199394, 0.59865848],\n",
       "       [0.15601864, 0.15599452],\n",
       "       [0.05808361, 0.86617615],\n",
       "       [0.60111501, 0.70807258],\n",
       "       [0.02058449, 0.96990985],\n",
       "       [0.83244264, 0.21233911],\n",
       "       [0.18182497, 0.18340451],\n",
       "       [0.30424224, 0.52475643],\n",
       "       [0.43194502, 0.29122914],\n",
       "       [0.61185289, 0.13949386],\n",
       "       [0.29214465, 0.36636184],\n",
       "       [0.45606998, 0.78517596],\n",
       "       [0.19967378, 0.51423444],\n",
       "       [0.59241457, 0.04645041],\n",
       "       [0.60754485, 0.17052412],\n",
       "       [0.06505159, 0.94888554],\n",
       "       [0.96563203, 0.80839735],\n",
       "       [0.30461377, 0.09767211],\n",
       "       [0.68423303, 0.44015249],\n",
       "       [0.12203823, 0.49517691],\n",
       "       [0.03438852, 0.9093204 ],\n",
       "       [0.25877998, 0.66252228],\n",
       "       [0.31171108, 0.52006802],\n",
       "       [0.54671028, 0.18485446],\n",
       "       [0.96958463, 0.77513282],\n",
       "       [0.93949894, 0.89482735],\n",
       "       [0.59789998, 0.92187424],\n",
       "       [0.0884925 , 0.19598286],\n",
       "       [0.04522729, 0.32533033],\n",
       "       [0.38867729, 0.27134903],\n",
       "       [0.82873751, 0.35675333],\n",
       "       [0.28093451, 0.54269608],\n",
       "       [0.14092422, 0.80219698],\n",
       "       [0.07455064, 0.98688694],\n",
       "       [0.77224477, 0.19871568],\n",
       "       [0.00552212, 0.81546143],\n",
       "       [0.70685734, 0.72900717],\n",
       "       [0.77127035, 0.07404465],\n",
       "       [0.35846573, 0.11586906],\n",
       "       [0.86310343, 0.62329813],\n",
       "       [0.33089802, 0.06355835],\n",
       "       [0.31098232, 0.32518332],\n",
       "       [0.72960618, 0.63755747],\n",
       "       [0.88721274, 0.47221493],\n",
       "       [0.11959425, 0.71324479],\n",
       "       [0.76078505, 0.5612772 ],\n",
       "       [0.77096718, 0.4937956 ],\n",
       "       [0.52273283, 0.42754102],\n",
       "       [0.02541913, 0.10789143],\n",
       "       [0.03142919, 0.63641041],\n",
       "       [0.31435598, 0.50857069],\n",
       "       [0.90756647, 0.24929223],\n",
       "       [0.41038292, 0.75555114],\n",
       "       [0.22879817, 0.07697991],\n",
       "       [0.28975145, 0.16122129],\n",
       "       [0.92969765, 0.80812038],\n",
       "       [0.63340376, 0.87146059],\n",
       "       [0.80367208, 0.18657006],\n",
       "       [0.892559  , 0.53934224],\n",
       "       [0.80744016, 0.8960913 ],\n",
       "       [0.31800347, 0.11005192],\n",
       "       [0.22793516, 0.42710779],\n",
       "       [0.81801477, 0.86073058],\n",
       "       [0.00695213, 0.5107473 ],\n",
       "       [0.417411  , 0.22210781],\n",
       "       [0.11986537, 0.33761517],\n",
       "       [0.9429097 , 0.32320293],\n",
       "       [0.51879062, 0.70301896],\n",
       "       [0.3636296 , 0.97178208],\n",
       "       [0.96244729, 0.2517823 ],\n",
       "       [0.49724851, 0.30087831],\n",
       "       [0.28484049, 0.03688695],\n",
       "       [0.60956433, 0.50267902],\n",
       "       [0.05147875, 0.27864646],\n",
       "       [0.90826589, 0.23956189],\n",
       "       [0.14489487, 0.48945276],\n",
       "       [0.98565045, 0.24205527],\n",
       "       [0.67213555, 0.76161962],\n",
       "       [0.23763754, 0.72821635],\n",
       "       [0.36778313, 0.63230583],\n",
       "       [0.63352971, 0.53577468],\n",
       "       [0.09028977, 0.8353025 ],\n",
       "       [0.32078006, 0.18651851],\n",
       "       [0.04077514, 0.59089294],\n",
       "       [0.67756436, 0.01658783],\n",
       "       [0.51209306, 0.22649578],\n",
       "       [0.64517279, 0.17436643],\n",
       "       [0.69093774, 0.38673535],\n",
       "       [0.93672999, 0.13752094],\n",
       "       [0.34106635, 0.11347352],\n",
       "       [0.92469362, 0.87733935],\n",
       "       [0.25794163, 0.65998405],\n",
       "       [0.8172222 , 0.55520081],\n",
       "       [0.52965058, 0.24185229],\n",
       "       [0.09310277, 0.89721576],\n",
       "       [0.90041806, 0.63310146],\n",
       "       [0.33902979, 0.34920957],\n",
       "       [0.72595568, 0.89711026],\n",
       "       [0.88708642, 0.77987555]])"
      ]
     },
     "execution_count": 66,
     "metadata": {},
     "output_type": "execute_result"
    }
   ],
   "source": [
    "X"
   ]
  },
  {
   "cell_type": "markdown",
   "metadata": {},
   "source": [
    "#### 2. Generate additional features for each power"
   ]
  },
  {
   "cell_type": "code",
   "execution_count": 67,
   "metadata": {},
   "outputs": [
    {
     "data": {
      "text/plain": [
       "(100, 5)"
      ]
     },
     "execution_count": 67,
     "metadata": {},
     "output_type": "execute_result"
    }
   ],
   "source": [
    "from sklearn.preprocessing import PolynomialFeatures\n",
    "\n",
    "poly = PolynomialFeatures(degree=2, include_bias=False)\n",
    "X_poly = poly.fit_transform(X)\n",
    "X_poly.shape"
   ]
  },
  {
   "cell_type": "code",
   "execution_count": 68,
   "metadata": {},
   "outputs": [
    {
     "data": {
      "text/plain": [
       "array([[3.74540119e-01, 9.50714306e-01, 1.40280301e-01, 3.56080649e-01,\n",
       "        9.03857692e-01],\n",
       "       [7.31993942e-01, 5.98658484e-01, 5.35815131e-01, 4.38214384e-01,\n",
       "        3.58391981e-01],\n",
       "       [1.56018640e-01, 1.55994520e-01, 2.43418162e-02, 2.43380530e-02,\n",
       "        2.43342904e-02],\n",
       "       [5.80836122e-02, 8.66176146e-01, 3.37370600e-03, 5.03106393e-02,\n",
       "        7.50261116e-01],\n",
       "       [6.01115012e-01, 7.08072578e-01, 3.61339257e-01, 4.25633056e-01,\n",
       "        5.01366775e-01],\n",
       "       [2.05844943e-02, 9.69909852e-01, 4.23721405e-04, 1.99651038e-02,\n",
       "        9.40725121e-01],\n",
       "       [8.32442641e-01, 2.12339111e-01, 6.92960750e-01, 1.76760130e-01,\n",
       "        4.50878979e-02],\n",
       "       [1.81824967e-01, 1.83404510e-01, 3.30603187e-02, 3.33475190e-02,\n",
       "        3.36372142e-02],\n",
       "       [3.04242243e-01, 5.24756432e-01, 9.25633424e-02, 1.59653074e-01,\n",
       "        2.75369313e-01],\n",
       "       [4.31945019e-01, 2.91229140e-01, 1.86576499e-01, 1.25794976e-01,\n",
       "        8.48144121e-02],\n",
       "       [6.11852895e-01, 1.39493861e-01, 3.74363965e-01, 8.53497224e-02,\n",
       "        1.94585372e-02],\n",
       "       [2.92144649e-01, 3.66361843e-01, 8.53484957e-02, 1.07030652e-01,\n",
       "        1.34221000e-01],\n",
       "       [4.56069984e-01, 7.85175961e-01, 2.07999831e-01, 3.58095188e-01,\n",
       "        6.16501290e-01],\n",
       "       [1.99673782e-01, 5.14234438e-01, 3.98696193e-02, 1.02679135e-01,\n",
       "        2.64437058e-01],\n",
       "       [5.92414569e-01, 4.64504127e-02, 3.50955021e-01, 2.75179012e-02,\n",
       "        2.15764084e-03],\n",
       "       [6.07544852e-01, 1.70524124e-01, 3.69110747e-01, 1.03601053e-01,\n",
       "        2.90784768e-02],\n",
       "       [6.50515930e-02, 9.48885537e-01, 4.23170975e-03, 6.17265158e-02,\n",
       "        9.00383763e-01],\n",
       "       [9.65632033e-01, 8.08397348e-01, 9.32445223e-01, 7.80614375e-01,\n",
       "        6.53506272e-01],\n",
       "       [3.04613769e-01, 9.76721140e-02, 9.27895484e-02, 2.97522708e-02,\n",
       "        9.53984185e-03],\n",
       "       [6.84233027e-01, 4.40152494e-01, 4.68174835e-01, 3.01166873e-01,\n",
       "        1.93734218e-01],\n",
       "       [1.22038235e-01, 4.95176910e-01, 1.48933308e-02, 6.04305160e-02,\n",
       "        2.45200172e-01],\n",
       "       [3.43885211e-02, 9.09320402e-01, 1.18257038e-03, 3.12701838e-02,\n",
       "        8.26863594e-01],\n",
       "       [2.58779982e-01, 6.62522284e-01, 6.69670789e-02, 1.71447505e-01,\n",
       "        4.38935777e-01],\n",
       "       [3.11711076e-01, 5.20068021e-01, 9.71637950e-02, 1.62110963e-01,\n",
       "        2.70470747e-01],\n",
       "       [5.46710279e-01, 1.84854456e-01, 2.98892130e-01, 1.01061831e-01,\n",
       "        3.41711697e-02],\n",
       "       [9.69584628e-01, 7.75132823e-01, 9.40094350e-01, 7.51556870e-01,\n",
       "        6.00830894e-01],\n",
       "       [9.39498942e-01, 8.94827350e-01, 8.82658261e-01, 8.40689349e-01,\n",
       "        8.00715987e-01],\n",
       "       [5.97899979e-01, 9.21874235e-01, 3.57484385e-01, 5.51188586e-01,\n",
       "        8.49852105e-01],\n",
       "       [8.84925021e-02, 1.95982862e-01, 7.83092292e-03, 1.73430139e-02,\n",
       "        3.84092824e-02],\n",
       "       [4.52272889e-02, 3.25330331e-01, 2.04550766e-03, 1.47138089e-02,\n",
       "        1.05839824e-01],\n",
       "       [3.88677290e-01, 2.71349032e-01, 1.51070036e-01, 1.05467206e-01,\n",
       "        7.36302970e-02],\n",
       "       [8.28737509e-01, 3.56753327e-01, 6.86805859e-01, 2.95654863e-01,\n",
       "        1.27272936e-01],\n",
       "       [2.80934510e-01, 5.42696083e-01, 7.89241987e-02, 1.52462058e-01,\n",
       "        2.94519039e-01],\n",
       "       [1.40924225e-01, 8.02196981e-01, 1.98596372e-02, 1.13048988e-01,\n",
       "        6.43519996e-01],\n",
       "       [7.45506437e-02, 9.86886937e-01, 5.55779847e-03, 7.35730564e-02,\n",
       "        9.73945826e-01],\n",
       "       [7.72244769e-01, 1.98715682e-01, 5.96361984e-01, 1.53457146e-01,\n",
       "        3.94879221e-02],\n",
       "       [5.52211712e-03, 8.15461428e-01, 3.04937775e-05, 4.50307352e-03,\n",
       "        6.64977341e-01],\n",
       "       [7.06857344e-01, 7.29007168e-01, 4.99647305e-01, 5.15304070e-01,\n",
       "        5.31451451e-01],\n",
       "       [7.71270347e-01, 7.40446517e-02, 5.94857948e-01, 5.71084442e-02,\n",
       "        5.48261045e-03],\n",
       "       [3.58465729e-01, 1.15869060e-01, 1.28497679e-01, 4.15350868e-02,\n",
       "        1.34256390e-02],\n",
       "       [8.63103426e-01, 6.23298127e-01, 7.44947524e-01, 5.37970749e-01,\n",
       "        3.88500555e-01],\n",
       "       [3.30898025e-01, 6.35583503e-02, 1.09493503e-01, 2.10313326e-02,\n",
       "        4.03966389e-03],\n",
       "       [3.10982322e-01, 3.25183322e-01, 9.67100044e-02, 1.01126264e-01,\n",
       "        1.05744193e-01],\n",
       "       [7.29606178e-01, 6.37557471e-01, 5.32325175e-01, 4.65165870e-01,\n",
       "        4.06479529e-01],\n",
       "       [8.87212743e-01, 4.72214925e-01, 7.87146451e-01, 4.18955099e-01,\n",
       "        2.22986936e-01],\n",
       "       [1.19594246e-01, 7.13244787e-01, 1.43027837e-02, 8.52999725e-02,\n",
       "        5.08718127e-01],\n",
       "       [7.60785049e-01, 5.61277198e-01, 5.78793890e-01, 4.27011300e-01,\n",
       "        3.15032093e-01],\n",
       "       [7.70967180e-01, 4.93795596e-01, 5.94390393e-01, 3.80700198e-01,\n",
       "        2.43834091e-01],\n",
       "       [5.22732829e-01, 4.27541018e-01, 2.73249611e-01, 2.23489726e-01,\n",
       "        1.82791322e-01],\n",
       "       [2.54191267e-02, 1.07891427e-01, 6.46132004e-04, 2.74250586e-03,\n",
       "        1.16405600e-02],\n",
       "       [3.14291857e-02, 6.36410411e-01, 9.87793713e-04, 2.00018610e-02,\n",
       "        4.05018212e-01],\n",
       "       [3.14355981e-01, 5.08570691e-01, 9.88196828e-02, 1.59872239e-01,\n",
       "        2.58644148e-01],\n",
       "       [9.07566474e-01, 2.49292229e-01, 8.23676905e-01, 2.26249269e-01,\n",
       "        6.21466155e-02],\n",
       "       [4.10382923e-01, 7.55551139e-01, 1.68414144e-01, 3.10065285e-01,\n",
       "        5.70857523e-01],\n",
       "       [2.28798165e-01, 7.69799098e-02, 5.23486005e-02, 1.76128621e-02,\n",
       "        5.92590652e-03],\n",
       "       [2.89751453e-01, 1.61221287e-01, 8.39559045e-02, 4.67141022e-02,\n",
       "        2.59923035e-02],\n",
       "       [9.29697652e-01, 8.08120380e-01, 8.64337725e-01, 7.51307620e-01,\n",
       "        6.53058548e-01],\n",
       "       [6.33403757e-01, 8.71460590e-01, 4.01200319e-01, 5.51986411e-01,\n",
       "        7.59443560e-01],\n",
       "       [8.03672077e-01, 1.86570059e-01, 6.45888807e-01, 1.49941147e-01,\n",
       "        3.48083869e-02],\n",
       "       [8.92558998e-01, 5.39342242e-01, 7.96661566e-01, 4.81394771e-01,\n",
       "        2.90890054e-01],\n",
       "       [8.07440155e-01, 8.96091300e-01, 6.51959604e-01, 7.23540098e-01,\n",
       "        8.02979618e-01],\n",
       "       [3.18003475e-01, 1.10051925e-01, 1.01126210e-01, 3.49968944e-02,\n",
       "        1.21114261e-02],\n",
       "       [2.27935163e-01, 4.27107789e-01, 5.19544383e-02, 9.73528832e-02,\n",
       "        1.82421063e-01],\n",
       "       [8.18014766e-01, 8.60730583e-01, 6.69148157e-01, 7.04090327e-01,\n",
       "        7.40857137e-01],\n",
       "       [6.95213053e-03, 5.10747303e-01, 4.83321189e-05, 3.55078192e-03,\n",
       "        2.60862807e-01],\n",
       "       [4.17411003e-01, 2.22107810e-01, 1.74231946e-01, 9.27102440e-02,\n",
       "        4.93318795e-02],\n",
       "       [1.19865367e-01, 3.37615171e-01, 1.43677063e-02, 4.04683665e-02,\n",
       "        1.13984004e-01],\n",
       "       [9.42909704e-01, 3.23202932e-01, 8.89078710e-01, 3.04751181e-01,\n",
       "        1.04460135e-01],\n",
       "       [5.18790622e-01, 7.03018959e-01, 2.69143709e-01, 3.64719643e-01,\n",
       "        4.94235657e-01],\n",
       "       [3.63629602e-01, 9.71782083e-01, 1.32226488e-01, 3.53368732e-01,\n",
       "        9.44360416e-01],\n",
       "       [9.62447295e-01, 2.51782296e-01, 9.26304796e-01, 2.42327190e-01,\n",
       "        6.33943245e-02],\n",
       "       [4.97248506e-01, 3.00878310e-01, 2.47256077e-01, 1.49611290e-01,\n",
       "        9.05277573e-02],\n",
       "       [2.84840494e-01, 3.68869474e-02, 8.11341072e-02, 1.05068963e-02,\n",
       "        1.36064689e-03],\n",
       "       [6.09564334e-01, 5.02679023e-01, 3.71568677e-01, 3.06415204e-01,\n",
       "        2.52686200e-01],\n",
       "       [5.14787512e-02, 2.78646464e-01, 2.65006183e-03, 1.43443720e-02,\n",
       "        7.76438520e-02],\n",
       "       [9.08265886e-01, 2.39561891e-01, 8.24946920e-01, 2.17585893e-01,\n",
       "        5.73898995e-02],\n",
       "       [1.44894872e-01, 4.89452760e-01, 2.09945240e-02, 7.09191951e-02,\n",
       "        2.39564005e-01],\n",
       "       [9.85650454e-01, 2.42055272e-01, 9.71506818e-01, 2.38581888e-01,\n",
       "        5.85907545e-02],\n",
       "       [6.72135547e-01, 7.61619615e-01, 4.51766194e-01, 5.11911617e-01,\n",
       "        5.80064438e-01],\n",
       "       [2.37637544e-01, 7.28216349e-01, 5.64716023e-02, 1.73051545e-01,\n",
       "        5.30299050e-01],\n",
       "       [3.67783133e-01, 6.32305831e-01, 1.35264433e-01, 2.32551419e-01,\n",
       "        3.99810663e-01],\n",
       "       [6.33529711e-01, 5.35774684e-01, 4.01359894e-01, 3.39429181e-01,\n",
       "        2.87054512e-01],\n",
       "       [9.02897701e-02, 8.35302496e-01, 8.15224258e-03, 7.54192703e-02,\n",
       "        6.97730259e-01],\n",
       "       [3.20780065e-01, 1.86518510e-01, 1.02899850e-01, 5.98314199e-02,\n",
       "        3.47891547e-02],\n",
       "       [4.07751416e-02, 5.90892943e-01, 1.66261217e-03, 2.40937434e-02,\n",
       "        3.49154470e-01],\n",
       "       [6.77564362e-01, 1.65878289e-02, 4.59093464e-01, 1.12393217e-02,\n",
       "        2.75156069e-04],\n",
       "       [5.12093058e-01, 2.26495775e-01, 2.62239300e-01, 1.15986914e-01,\n",
       "        5.13003362e-02],\n",
       "       [6.45172790e-01, 1.74366429e-01, 4.16247929e-01, 1.12496476e-01,\n",
       "        3.04036516e-02],\n",
       "       [6.90937738e-01, 3.86735346e-01, 4.77394958e-01, 2.67210045e-01,\n",
       "        1.49564228e-01],\n",
       "       [9.36729989e-01, 1.37520944e-01, 8.77463072e-01, 1.28819992e-01,\n",
       "        1.89120101e-02],\n",
       "       [3.41066351e-01, 1.13473521e-01, 1.16326256e-01, 3.87019998e-02,\n",
       "        1.28762400e-02],\n",
       "       [9.24693618e-01, 8.77339353e-01, 8.55058288e-01, 8.11270101e-01,\n",
       "        7.69724341e-01],\n",
       "       [2.57941628e-01, 6.59984046e-01, 6.65338833e-02, 1.70237359e-01,\n",
       "        4.35578941e-01],\n",
       "       [8.17222200e-01, 5.55200812e-01, 6.67852125e-01, 4.53722429e-01,\n",
       "        3.08247941e-01],\n",
       "       [5.29650578e-01, 2.41852291e-01, 2.80529735e-01, 1.28097206e-01,\n",
       "        5.84925306e-02],\n",
       "       [9.31027678e-02, 8.97215758e-01, 8.66812537e-03, 8.35332704e-02,\n",
       "        8.04996116e-01],\n",
       "       [9.00418057e-01, 6.33101457e-01, 8.10752678e-01, 5.70055984e-01,\n",
       "        4.00817455e-01],\n",
       "       [3.39029791e-01, 3.49209575e-01, 1.14941199e-01, 1.18392449e-01,\n",
       "        1.21947327e-01],\n",
       "       [7.25955679e-01, 8.97110260e-01, 5.27011648e-01, 6.51262288e-01,\n",
       "        8.04806819e-01],\n",
       "       [8.87086424e-01, 7.79875546e-01, 7.86922324e-01, 6.91817009e-01,\n",
       "        6.08205867e-01]])"
      ]
     },
     "execution_count": 68,
     "metadata": {},
     "output_type": "execute_result"
    }
   ],
   "source": [
    "X_poly"
   ]
  },
  {
   "cell_type": "markdown",
   "metadata": {},
   "source": [
    "#### 3. Implement functions for gradient descent methods"
   ]
  },
  {
   "cell_type": "markdown",
   "metadata": {},
   "source": [
    "* Implement the `polynomial_regression_gradient_descent()` function to calculate polynomial regression coefficients using the gradient descent method.\n",
    "* Implement the `polynomial_regression_SGD()` function of the `SGD` variant of the gradient descent method.\n",
    "* Implement the `polynomial_regression_rmsprop()` function of the `RMSProp` variant of the gradient descent method.\n",
    "* Implement the `polynomial_regression_adam()` function of the `Adam` variant of the gradient descent method.\n",
    "* Implement the `polynomial_regression_nadam()` function of the `Nadam` variant of the gradient descent method."
   ]
  },
  {
   "cell_type": "markdown",
   "metadata": {},
   "source": [
    "##### 3.1 - Basic Gradient Descent"
   ]
  },
  {
   "cell_type": "code",
   "execution_count": 69,
   "metadata": {},
   "outputs": [],
   "source": [
    "def polynomial_regression_gradient_descent(X, y, learning_rate=0.01, epochs=1000):\n",
    "    m = len(y)\n",
    "    theta = np.zeros(X.shape[1])\n",
    "    mse_history = []\n",
    "\n",
    "    for e in range(epochs):\n",
    "        predictions = X @ theta\n",
    "        error = predictions - y\n",
    "        mse = 1 / m * np.sum(error**2)\n",
    "        mse_history.append(mse)\n",
    "\n",
    "        gradient = 1 / m * X.T @ error\n",
    "        theta -= learning_rate * gradient\n",
    "\n",
    "    return theta, mse_history"
   ]
  },
  {
   "cell_type": "markdown",
   "metadata": {},
   "source": [
    "##### 3.2 - Stochastic Gradient Descent (SGD)"
   ]
  },
  {
   "cell_type": "code",
   "execution_count": 70,
   "metadata": {},
   "outputs": [],
   "source": [
    "def polynomial_regression_SGD(X, y, learning_rate=0.01, epochs=1000):\n",
    "    m = len(y)\n",
    "    theta = np.zeros(X.shape[1])\n",
    "    mse_history = []\n",
    "\n",
    "    for e in range(epochs):\n",
    "        for j in range(m):\n",
    "            rand_index = np.random.randint(m)\n",
    "            xi = X[rand_index : rand_index + 1]\n",
    "            yi = y[rand_index : rand_index + 1]\n",
    "            prediction = xi @ theta\n",
    "            error = prediction - yi\n",
    "            gradient = xi.T @ error\n",
    "            theta -= learning_rate * gradient\n",
    "\n",
    "        predictions = X @ theta\n",
    "        mse = 1 / m * np.sum((predictions - y) ** 2)\n",
    "        mse_history.append(mse)\n",
    "\n",
    "    return theta, mse_history"
   ]
  },
  {
   "cell_type": "markdown",
   "metadata": {},
   "source": [
    "##### 3.3 - RMSProp"
   ]
  },
  {
   "cell_type": "code",
   "execution_count": 71,
   "metadata": {},
   "outputs": [],
   "source": [
    "def polynomial_regression_rmsprop(\n",
    "    X, y, learning_rate=0.01, epochs=1000, beta=0.9, epsilon=1e-8\n",
    "):\n",
    "    m = len(y)\n",
    "    theta = np.zeros(X.shape[1])\n",
    "    cache = np.zeros(X.shape[1])\n",
    "    mse_history = []\n",
    "\n",
    "    for e in range(epochs):\n",
    "        predictions = X @ theta\n",
    "        error = predictions - y\n",
    "        mse = 1 / m * np.sum(error**2)\n",
    "        mse_history.append(mse)\n",
    "\n",
    "        gradient = 1 / m * X.T @ error\n",
    "        cache = beta * cache + (1 - beta) * gradient**2\n",
    "        theta -= learning_rate * gradient / (np.sqrt(cache) + epsilon)\n",
    "\n",
    "    return theta, mse_history"
   ]
  },
  {
   "cell_type": "markdown",
   "metadata": {},
   "source": [
    "##### 3.4 - Adam"
   ]
  },
  {
   "cell_type": "code",
   "execution_count": 72,
   "metadata": {},
   "outputs": [],
   "source": [
    "def polynomial_regression_adam(\n",
    "    X, y, learning_rate=0.01, epochs=1000, beta1=0.9, beta2=0.999, epsilon=1e-8\n",
    "):\n",
    "    m = len(y)\n",
    "    theta = np.zeros(X.shape[1])\n",
    "    m_t = np.zeros(X.shape[1])\n",
    "    v_t = np.zeros(X.shape[1])\n",
    "    mse_history = []\n",
    "\n",
    "    for e in range(1, epochs + 1):\n",
    "        predictions = X @ theta\n",
    "        error = predictions - y\n",
    "        mse = 1 / m * np.sum(error**2)\n",
    "        mse_history.append(mse)\n",
    "\n",
    "        gradient = 1 / m * X.T @ error\n",
    "        m_t = beta1 * m_t + (1 - beta1) * gradient\n",
    "        v_t = beta2 * v_t + (1 - beta2) * gradient**2\n",
    "\n",
    "        m_t_hat = m_t / (1 - beta1**e)\n",
    "        v_t_hat = v_t / (1 - beta2**e)\n",
    "\n",
    "        theta -= learning_rate * m_t_hat / (np.sqrt(v_t_hat) + epsilon)\n",
    "\n",
    "    return theta, mse_history"
   ]
  },
  {
   "cell_type": "markdown",
   "metadata": {},
   "source": [
    "##### 3.5 - Nadam"
   ]
  },
  {
   "cell_type": "code",
   "execution_count": 73,
   "metadata": {},
   "outputs": [],
   "source": [
    "def polynomial_regression_nadam(\n",
    "    X, y, learning_rate=0.01, epochs=1000, beta1=0.9, beta2=0.999, epsilon=1e-8\n",
    "):\n",
    "    m = len(y)\n",
    "    theta = np.zeros(X.shape[1])\n",
    "    m_t = np.zeros(X.shape[1])\n",
    "    v_t = np.zeros(X.shape[1])\n",
    "    mse_history = []\n",
    "\n",
    "    for e in range(1, epochs + 1):\n",
    "        predictions = X @ theta\n",
    "        error = predictions - y\n",
    "        mse = 1 / m * np.sum(error**2)\n",
    "        mse_history.append(mse)\n",
    "\n",
    "        gradient = 1 / m * X.T @ error\n",
    "        m_t = beta1 * m_t + (1 - beta1) * gradient\n",
    "        v_t = beta2 * v_t + (1 - beta2) * gradient**2\n",
    "\n",
    "        m_t_hat = m_t / (1 - beta1**e)\n",
    "        v_t_hat = v_t / (1 - beta2**e)\n",
    "\n",
    "        theta -= (\n",
    "            learning_rate\n",
    "            * (beta1 * m_t_hat + (1 - beta1) * gradient / (1 - beta1**e))\n",
    "            / (np.sqrt(v_t_hat) + epsilon)\n",
    "        )\n",
    "\n",
    "    return theta, mse_history"
   ]
  },
  {
   "cell_type": "markdown",
   "metadata": {},
   "source": [
    "#### 4. Calculate the running time of the implemented functions"
   ]
  },
  {
   "cell_type": "code",
   "execution_count": 74,
   "metadata": {},
   "outputs": [
    {
     "name": "stdout",
     "output_type": "stream",
     "text": [
      "Basic Gradient Descent\n",
      "9.82 ms ± 121 μs per loop (mean ± std. dev. of 7 runs, 100 loops each)\n",
      "SGD\n",
      "7.11 s ± 77.8 ms per loop (mean ± std. dev. of 7 runs, 1 loop each)\n",
      "RMSprop\n",
      "151 ms ± 2.35 ms per loop (mean ± std. dev. of 7 runs, 10 loops each)\n",
      "Adam\n",
      "209 ms ± 9.77 ms per loop (mean ± std. dev. of 7 runs, 10 loops each)\n",
      "Nadam\n",
      "248 ms ± 19.5 ms per loop (mean ± std. dev. of 7 runs, 1 loop each)\n"
     ]
    }
   ],
   "source": [
    "print(\"Basic Gradient Descent\")\n",
    "%timeit polynomial_regression_gradient_descent(X_poly, y)\n",
    "print(\"SGD\")\n",
    "%timeit polynomial_regression_SGD(X_poly, y, epochs=epochs)\n",
    "print(\"RMSProp\")\n",
    "%timeit polynomial_regression_rmsprop(X_poly, y, epochs=epochs)\n",
    "print(\"Adam\")\n",
    "%timeit polynomial_regression_adam(X_poly, y, epochs=epochs)\n",
    "print(\"Nadam\")\n",
    "%timeit polynomial_regression_nadam(X_poly, y, epochs=epochs)"
   ]
  },
  {
   "cell_type": "markdown",
   "metadata": {},
   "source": [
    "#### 5. Select the optimal number of iterations of each method variant"
   ]
  },
  {
   "cell_type": "code",
   "execution_count": 85,
   "metadata": {},
   "outputs": [
    {
     "name": "stdout",
     "output_type": "stream",
     "text": [
      "Basic Gradient Descent\n",
      "[ 2.08082206 -2.1119767   3.23288381  0.19707638 -0.12650638]\n",
      "SGD\n",
      "[ 2.99998455 -5.9999823   4.00001369 -1.99999817  4.99998101]\n",
      "RMSprop\n",
      "[ 3.00499999 -5.99500001  4.00499999 -1.99500002  5.00499999]\n",
      "Adam\n",
      "[ 2.99553963 -5.99664968  4.00475877 -2.00036897  4.99687108]\n",
      "Nadam\n",
      "[ 2.99690799 -5.99769083  4.00330489 -2.00026213  4.99784839]\n"
     ]
    }
   ],
   "source": [
    "epochs = 5000\n",
    "\n",
    "print(\"Basic Gradient Descent\")\n",
    "theta_gd, mse_gd = polynomial_regression_gradient_descent(X_poly, y, epochs=epochs)\n",
    "print(theta_gd)\n",
    "\n",
    "print(\"SGD\")\n",
    "theta_sgd, mse_sgd = polynomial_regression_SGD(X_poly, y, epochs=epochs)\n",
    "print(theta_sgd)\n",
    "\n",
    "print(\"RMSProp\")\n",
    "theta_rmsprop, mse_rmsprop = polynomial_regression_rmsprop(X_poly, y, epochs=epochs)\n",
    "print(theta_rmsprop)\n",
    "\n",
    "print(\"Adam\")\n",
    "theta_adam, mse_adam = polynomial_regression_adam(X_poly, y, epochs=epochs)\n",
    "print(theta_adam)\n",
    "\n",
    "print(\"Nadam\")\n",
    "theta_nadam, mse_nadam = polynomial_regression_nadam(X_poly, y, epochs=epochs)\n",
    "print(theta_nadam)"
   ]
  },
  {
   "cell_type": "code",
   "execution_count": 86,
   "metadata": {},
   "outputs": [
    {
     "data": {
      "image/png": "[encoded data removed]",
      "text/plain": [
       "<Figure size 1400x800 with 1 Axes>"
      ]
     },
     "metadata": {},
     "output_type": "display_data"
    }
   ],
   "source": [
    "import matplotlib.pyplot as plt\n",
    "\n",
    "plt.figure(figsize=(14, 8))\n",
    "plt.plot(mse_gd, label='Basic Gradient Descent', color='blue')\n",
    "plt.plot(mse_sgd, label='Stochastic Gradient Descent', color='green')\n",
    "plt.plot(mse_rmsprop, label='RMSProp', color='orange')\n",
    "plt.plot(mse_adam, label='Adam', color='red')\n",
    "plt.plot(mse_nadam, label='Nadam', color='purple')\n",
    "plt.xlabel('Iterations')\n",
    "plt.ylabel('Mean Squared Error')\n",
    "plt.title('MSE Convergence for Different Gradient Descent Methods')\n",
    "plt.legend()\n",
    "plt.show()"
   ]
  },
  {
   "cell_type": "markdown",
   "metadata": {},
   "source": [
    "#### 6. Conclusion"
   ]
  },
  {
   "cell_type": "markdown",
   "metadata": {},
   "source": [
    "* Basic Gradient Descient and SGD are absolutely the two fastest methods in terms of cycle time, however, even after 5000 epochs, basic gradient descient still does not find the correct polynomial weights.\n",
    "* SGD managed to find the correct weights and minimize MSE to zero in less than 500 epochs, RMSProp took 800 epochs.\n",
    "* Gradient Descients with optimizers Adam and Nadam were also able to complete the task with the same efficiency at 1800 epochs, despite Nadan being the slowest method with the longest epoch time.\n",
    "* From all of the above, we can conclude that Stochastic Gradient Descent is optimal for this specific task."
   ]
  }
 ],
 "metadata": {
  "kernelspec": {
   "display_name": ".venv",
   "language": "python",
   "name": "python3"
  },
  "language_info": {
   "codemirror_mode": {
    "name": "ipython",
    "version": 3
   },
   "file_extension": ".py",
   "mimetype": "text/x-python",
   "name": "python",
   "nbconvert_exporter": "python",
   "pygments_lexer": "ipython3",
   "version": "3.12.4"
  }
 },
 "nbformat": 4,
 "nbformat_minor": 2
}
