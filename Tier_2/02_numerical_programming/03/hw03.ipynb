{
 "cells": [
  {
   "cell_type": "markdown",
   "metadata": {},
   "source": [
    "# Tier 2. Module 2: Numerical Programming in Python\n",
    "\n",
    "## Topic 3 - Vector operations in n-dimensional spaces\n",
    "## Homework\n",
    "\n",
    "Using vector operations to process word vectors. This approach may be useful in natural language processing (NLP) tasks.\n",
    "\n",
    "This will help to consolidate the following skills:\n",
    "* Vector, scalar product.\n",
    "* Application of `Pandas`, `Numpy` packages.\n",
    "\n",
    "### Task"
   ]
  },
  {
   "cell_type": "markdown",
   "metadata": {},
   "source": [
    "For this task, use a [file](https://drive.google.com/file/d/1281E0CDneuKdflWFBUvuyUzujpdGVImz/view?usp=sharing) with an NLP model."
   ]
  },
  {
   "cell_type": "markdown",
   "metadata": {},
   "source": [
    "#### 1. Define a DataFrame with 3D word vectors."
   ]
  },
  {
   "cell_type": "markdown",
   "metadata": {},
   "source": [
    "##### 1.1 - Load the word embeddings model using the file that contains the NLP model."
   ]
  },
  {
   "cell_type": "code",
   "execution_count": 1,
   "metadata": {},
   "outputs": [
    {
     "name": "stdout",
     "output_type": "stream",
     "text": [
      "Number of embedded words: 243\n",
      "Source type: <class 'dict'>\n",
      "List of embedded words: ['country', 'city', 'China', 'Iraq', 'oil', 'town', 'Canada', 'London', 'England', 'Australia', 'Japan', 'Pakistan', 'Iran', 'gas', 'happy', 'Russia', 'Afghanistan', 'France', 'Germany', 'Georgia', 'Baghdad', 'village', 'Spain', 'Italy', 'Beijing', 'Jordan', 'Paris', 'Ireland', 'Turkey', 'Egypt', 'Lebanon', 'Taiwan', 'Tokyo', 'Nigeria', 'Vietnam', 'Moscow', 'Greece', 'Indonesia', 'sad', 'Syria', 'Thailand', 'Libya', 'Zimbabwe', 'Cuba', 'Ottawa', 'Tehran', 'Sudan', 'Kenya', 'Philippines', 'Sweden', 'Poland', 'Ukraine', 'Rome', 'Venezuela', 'Switzerland', 'Berlin', 'Bangladesh', 'Portugal', 'Ghana', 'Athens', 'king', 'Madrid', 'Somalia', 'Dublin', 'Qatar', 'Chile', 'Islamabad', 'Bahrain', 'Nepal', 'Norway', 'Serbia', 'Kabul', 'continent', 'Brussels', 'Belgium', 'Uganda', 'petroleum', 'Cairo', 'Denmark', 'Austria', 'Jamaica', 'Georgetown', 'Bangkok', 'Finland', 'Peru', 'Romania', 'Bulgaria', 'Hungary', 'Vienna', 'Kingston', 'Manila', 'Cyprus', 'Azerbaijan', 'Copenhagen', 'Fiji', 'Tunisia', 'Kazakhstan', 'queen', 'Beirut', 'Jakarta', 'Croatia', 'Belarus', 'Algeria', 'Malta', 'Morocco', 'Rwanda', 'Bahamas', 'Damascus', 'Ecuador', 'Angola', 'Canberra', 'Liberia', 'Honduras', 'Tripoli', 'Slovakia', 'Doha', 'Armenia', 'Taipei', 'Oman', 'Nairobi', 'Santiago', 'Guinea', 'Uruguay', 'Stockholm', 'Slovenia', 'Zambia', 'Havana', 'Uzbekistan', 'Belgrade', 'Mogadishu', 'Khartoum', 'Botswana', 'Kyrgyzstan', 'Dhaka', 'Namibia', 'Ankara', 'Abuja', 'Lima', 'Harare', 'Warsaw', 'Malawi', 'Lisbon', 'Latvia', 'Niger', 'Lithuania', 'Estonia', 'Samoa', 'Oslo', 'Nicaragua', 'Hanoi', 'Sofia', 'Macedonia', 'Senegal', 'Mozambique', 'Guyana', 'Mali', 'Accra', 'Kathmandu', 'Tbilisi', 'Helsinki', 'Montenegro', 'Caracas', 'Laos', 'Budapest', 'Kiev', 'Turkmenistan', 'Eritrea', 'Albania', 'Madagascar', 'Nassau', 'Kampala', 'Amman', 'Greenland', 'Belize', 'Moldova', 'Burundi', 'Tajikistan', 'Baku', 'Astana', 'Gambia', 'Bucharest', 'joyful', 'Monrovia', 'Mauritania', 'Algiers', 'Muscat', 'Bern', 'Luanda', 'Dakar', 'Tunis', 'Gabon', 'Minsk', 'Liechtenstein', 'Suva', 'Yerevan', 'Zagreb', 'Bishkek', 'Manama', 'Kigali', 'Riga', 'Lusaka', 'Tashkent', 'Nicosia', 'Valletta', 'Windhoek', 'Dominica', 'Quito', 'Tallinn', 'Bratislava', 'Tegucigalpa', 'Skopje', 'Gaborone', 'Rabat', 'Maputo', 'Suriname', 'Vilnius', 'Montevideo', 'Ljubljana', 'Tirana', 'Dushanbe', 'Ashgabat', 'Asmara', 'Tuvalu', 'Managua', 'Conakry', 'Banjul', 'Bamako', 'Lilongwe', 'Vientiane', 'Chisinau', 'Roseau', 'Nouakchott', 'Podgorica', 'Niamey', 'Bujumbura', 'Apia', 'Antananarivo', 'Libreville', 'Belmopan', 'Vaduz', 'Paramaribo', 'Nuuk', 'Funafuti']\n",
      "Shape of the matrix with embedding vectors: (243, 300)\n"
     ]
    },
    {
     "data": {
      "text/plain": [
       "array([-1.00708008e-02,  5.73730469e-02,  1.83593750e-01, -4.00390625e-02,\n",
       "       -2.97851562e-02, -7.91015625e-02,  7.17773438e-02,  1.33056641e-02,\n",
       "       -1.43554688e-01,  1.12915039e-02, -3.27148438e-02,  7.76367188e-02,\n",
       "        1.54296875e-01, -6.39648438e-02, -1.08886719e-01, -1.90429688e-02,\n",
       "       -6.93359375e-02, -5.34667969e-02, -8.78906250e-02,  8.11767578e-03,\n",
       "       -1.69921875e-01, -8.15429688e-02, -2.68554688e-03, -1.05957031e-01,\n",
       "        5.93261719e-02, -1.58203125e-01, -3.07617188e-02,  1.65039062e-01,\n",
       "       -1.97265625e-01, -1.51367188e-02,  1.00097656e-01, -9.66796875e-02,\n",
       "       -7.22656250e-02,  2.32421875e-01, -4.12597656e-02, -1.81640625e-01,\n",
       "        2.23388672e-02,  4.68750000e-02,  1.07910156e-01,  2.49023438e-02,\n",
       "       -1.18652344e-01,  1.19628906e-01,  1.85546875e-01,  5.44433594e-02,\n",
       "       -2.04101562e-01,  1.29882812e-01, -4.10156250e-02, -7.61718750e-02,\n",
       "       -2.41210938e-01,  2.61718750e-01,  5.24902344e-02,  3.39355469e-02,\n",
       "       -3.58886719e-02, -1.45507812e-01, -1.27929688e-01, -4.63867188e-02,\n",
       "       -1.96289062e-01,  8.34960938e-02, -1.20605469e-01,  7.56835938e-02,\n",
       "       -3.05175781e-02,  4.44335938e-02, -2.12890625e-01,  4.78515625e-02,\n",
       "       -5.68847656e-02,  1.66015625e-02, -1.18164062e-01,  2.22656250e-01,\n",
       "        7.08007812e-02, -9.08203125e-02, -1.19140625e-01,  2.02148438e-01,\n",
       "        5.63964844e-02, -8.88671875e-02, -1.14135742e-02,  2.35595703e-02,\n",
       "        6.78710938e-02,  1.16577148e-02, -1.04980469e-01, -4.95605469e-02,\n",
       "       -4.07714844e-02, -1.30859375e-01,  2.85644531e-02,  3.41796875e-02,\n",
       "       -1.49414062e-01,  1.48437500e-01, -1.66992188e-01,  5.24902344e-02,\n",
       "        6.64062500e-02,  1.53320312e-01, -2.99072266e-02, -1.90429688e-01,\n",
       "       -2.02148438e-01, -5.02929688e-02, -2.92968750e-01,  2.24609375e-01,\n",
       "       -7.76367188e-02, -1.33666992e-02,  7.81250000e-03,  5.61523438e-02,\n",
       "       -1.51367188e-01,  2.28515625e-01,  5.83496094e-02,  1.66015625e-01,\n",
       "        3.29589844e-02, -1.32812500e-01,  3.07617188e-02, -1.34765625e-01,\n",
       "       -7.03125000e-02, -3.75000000e-01, -1.11816406e-01,  5.61523438e-02,\n",
       "        2.29492188e-01, -2.90527344e-02,  5.46264648e-03, -2.05078125e-01,\n",
       "        8.20312500e-02, -1.69921875e-01, -9.17968750e-02,  1.43432617e-02,\n",
       "       -2.69531250e-01, -3.78417969e-02, -3.22265625e-01, -9.71679688e-02,\n",
       "        8.49609375e-02,  9.81445312e-02, -4.34570312e-02, -1.90429688e-01,\n",
       "        1.17187500e-01, -4.47265625e-01,  1.16699219e-01, -2.41210938e-01,\n",
       "        7.51953125e-02, -1.58203125e-01,  9.03320312e-02, -4.90722656e-02,\n",
       "       -3.41796875e-02, -2.05078125e-01,  1.03515625e-01,  1.42578125e-01,\n",
       "       -3.24707031e-02, -6.64062500e-02, -4.12597656e-02,  1.05957031e-01,\n",
       "        1.13769531e-01,  1.00097656e-01, -1.64062500e-01,  1.23535156e-01,\n",
       "       -2.28515625e-01, -9.81445312e-02,  2.53906250e-01,  6.34765625e-02,\n",
       "       -6.12792969e-02, -2.67333984e-02,  1.35742188e-01,  5.66406250e-02,\n",
       "        2.65625000e-01, -7.61718750e-02,  2.85156250e-01,  1.39160156e-02,\n",
       "        3.83300781e-02,  6.29882812e-02,  1.66992188e-01,  1.15356445e-02,\n",
       "       -9.17968750e-02, -1.56250000e-02,  2.47070312e-01, -2.51953125e-01,\n",
       "        1.60156250e-01, -4.54101562e-02, -7.42187500e-02, -1.27929688e-01,\n",
       "        1.04980469e-01, -1.27929688e-01,  5.95703125e-02, -2.46582031e-02,\n",
       "        2.55126953e-02,  6.29882812e-02, -1.61132812e-01,  9.13085938e-02,\n",
       "       -2.35351562e-01,  4.02832031e-03,  4.24804688e-02, -2.16796875e-01,\n",
       "        4.69970703e-03, -2.59765625e-01,  3.78417969e-02,  1.12304688e-01,\n",
       "        1.87500000e-01,  7.76367188e-02,  9.27734375e-02,  2.13867188e-01,\n",
       "       -2.15820312e-01,  1.61132812e-01, -2.75390625e-01, -5.73730469e-02,\n",
       "       -4.17480469e-02,  5.56640625e-02, -1.95312500e-01, -6.98242188e-02,\n",
       "       -7.08007812e-02, -6.03027344e-02,  8.00781250e-02, -2.59765625e-01,\n",
       "        1.38671875e-01, -1.37695312e-01, -1.25000000e-01, -2.19726562e-01,\n",
       "        1.80664062e-01, -1.03149414e-02,  3.07617188e-02,  1.10351562e-01,\n",
       "       -3.14941406e-02,  1.54296875e-01, -1.74804688e-01,  1.46484375e-01,\n",
       "       -2.34375000e-01,  2.34375000e-01,  6.77490234e-03,  1.78710938e-01,\n",
       "       -1.80053711e-03, -3.34472656e-02, -1.19140625e-01, -2.32421875e-01,\n",
       "        2.70080566e-03, -1.36718750e-01, -6.98242188e-02,  1.98242188e-01,\n",
       "        1.72119141e-02, -4.39453125e-03,  1.62109375e-01, -5.21850586e-03,\n",
       "       -1.94335938e-01,  1.04980469e-01, -7.91015625e-02, -6.83593750e-02,\n",
       "        1.84570312e-01, -2.17773438e-01,  6.54296875e-02, -1.44531250e-01,\n",
       "        2.35351562e-01, -1.98242188e-01,  3.61328125e-02, -1.73828125e-01,\n",
       "        2.02941895e-03, -7.56835938e-02,  2.10937500e-01, -1.26953125e-01,\n",
       "       -3.88183594e-02,  7.27539062e-02, -1.48437500e-01,  6.73828125e-02,\n",
       "        4.73632812e-02,  2.12890625e-01, -9.27734375e-02, -1.37695312e-01,\n",
       "        1.25000000e-01,  4.39453125e-02, -1.62109375e-01, -1.63085938e-01,\n",
       "       -1.39648438e-01, -7.37304688e-02, -6.83593750e-02,  5.05371094e-02,\n",
       "        1.64062500e-01,  1.16699219e-01,  2.47802734e-02, -7.56835938e-02,\n",
       "       -1.99218750e-01, -6.54296875e-02, -5.81054688e-02, -1.82617188e-01,\n",
       "       -7.27539062e-02, -3.78417969e-02,  1.08242035e-04, -2.28515625e-01,\n",
       "        4.61425781e-02,  3.90625000e-02,  1.58691406e-02, -1.02539062e-01,\n",
       "       -1.13769531e-01, -1.00097656e-01,  2.79296875e-01,  4.39453125e-02,\n",
       "        1.14746094e-01,  1.74804688e-01, -8.64257812e-02, -5.27343750e-02,\n",
       "        6.34765625e-02,  1.39648438e-01,  2.42919922e-02, -1.68945312e-01,\n",
       "       -6.29882812e-02,  1.17187500e-01, -2.05078125e-02,  3.02734375e-02,\n",
       "       -2.47070312e-01, -1.22558594e-01,  7.61718750e-02, -2.34375000e-01],\n",
       "      dtype=float32)"
      ]
     },
     "execution_count": 1,
     "metadata": {},
     "output_type": "execute_result"
    }
   ],
   "source": [
    "import pickle\n",
    "import numpy as np\n",
    "import pandas as pd\n",
    "\n",
    "model_path = \"./src/word_embeddings_subset.p\"\n",
    "with open(model_path, \"rb\") as fd:\n",
    "    word_embeddings = pickle.load(fd)\n",
    "\n",
    "print(\"Number of embedded words:\", len(word_embeddings))\n",
    "print(\"Source type:\", type(word_embeddings))\n",
    "print(\"List of embedded words:\", list(word_embeddings.keys()))\n",
    "print(\"Shape of the matrix with embedding vectors:\", np.shape(list(word_embeddings.values())))\n",
    "word_embeddings[\"city\"]"
   ]
  },
  {
   "cell_type": "markdown",
   "metadata": {},
   "source": [
    "##### 1.2 - Extract 3D vectors for all words from this model."
   ]
  },
  {
   "cell_type": "code",
   "execution_count": 2,
   "metadata": {},
   "outputs": [
    {
     "name": "stdout",
     "output_type": "stream",
     "text": [
      "Shape of the matrix with original embedding vectors: (243, 300)\n",
      "Shape of the matrix with 3D embedding vectors after PCA transformation: (243, 3)\n",
      "Example of the 3D vector: [ 0.7460359  -0.3879691  -0.48269323]\n"
     ]
    }
   ],
   "source": [
    "from sklearn.decomposition import PCA\n",
    "\n",
    "all_words = list(word_embeddings.keys())\n",
    "\n",
    "original_vectors = np.array([word_embeddings[word] for word in all_words])\n",
    "print(\"Shape of the matrix with original embedding vectors:\", original_vectors.shape)\n",
    "\n",
    "pca = PCA(n_components=3)\n",
    "vectors_3d = pca.fit_transform(original_vectors)\n",
    "print(\n",
    "    \"Shape of the matrix with 3D embedding vectors after PCA transformation:\",\n",
    "    vectors_3d.shape,\n",
    ")\n",
    "print(\"Example of the 3D vector:\", vectors_3d[0])"
   ]
  },
  {
   "cell_type": "markdown",
   "metadata": {},
   "source": [
    "Graphic representation of the first 10 vectors."
   ]
  },
  {
   "cell_type": "code",
   "execution_count": 3,
   "metadata": {},
   "outputs": [
    {
     "data": {
      "image/png": "[encoded data removed]",
      "text/plain": [
       "<Figure size 1000x1000 with 1 Axes>"
      ]
     },
     "metadata": {},
     "output_type": "display_data"
    }
   ],
   "source": [
    "import matplotlib.pyplot as plt\n",
    "\n",
    "vectors_number = 10\n",
    "\n",
    "fig, ax = plt.subplots(figsize = (10, 10))\n",
    "\n",
    "# Print an arrow for each word\n",
    "for word in vectors_3d[0:vectors_number]:\n",
    "    ax.arrow(0, 0, word[0], word[1], head_width=0.005, head_length=0.005, fc='r', ec='r', width = 1e-5)\n",
    "\n",
    "# Plot a dot for each word\n",
    "ax.scatter(vectors_3d[:vectors_number, 0], vectors_3d[:vectors_number, 1])\n",
    "\n",
    "# Add the word label over each dot in the scatter plot\n",
    "for i in range(0, vectors_number):\n",
    "    ax.annotate(all_words[i], (vectors_3d[i, 0], vectors_3d[i, 1]))\n",
    "plt.show()"
   ]
  },
  {
   "cell_type": "markdown",
   "metadata": {},
   "source": [
    "Note:\n",
    "Interesting results, in 2D representation \"Iraq\" is closer to \"city\" than to \"oil\" and \"country\", this means that 2 dimensions is too much of a simplification to represent the relationships between words."
   ]
  },
  {
   "cell_type": "markdown",
   "metadata": {},
   "source": [
    "##### 1.3 - Create a DataFrame that will contain information about words and their 3D vectors."
   ]
  },
  {
   "cell_type": "code",
   "execution_count": 4,
   "metadata": {},
   "outputs": [
    {
     "data": {
      "text/html": [
       "<div>\n",
       "<style scoped>\n",
       "    .dataframe tbody tr th:only-of-type {\n",
       "        vertical-align: middle;\n",
       "    }\n",
       "\n",
       "    .dataframe tbody tr th {\n",
       "        vertical-align: top;\n",
       "    }\n",
       "\n",
       "    .dataframe thead th {\n",
       "        text-align: right;\n",
       "    }\n",
       "</style>\n",
       "<table border=\"1\" class=\"dataframe\">\n",
       "  <thead>\n",
       "    <tr style=\"text-align: right;\">\n",
       "      <th></th>\n",
       "      <th>x</th>\n",
       "      <th>y</th>\n",
       "      <th>z</th>\n",
       "    </tr>\n",
       "  </thead>\n",
       "  <tbody>\n",
       "    <tr>\n",
       "      <th>country</th>\n",
       "      <td>0.746036</td>\n",
       "      <td>-0.387969</td>\n",
       "      <td>-0.482693</td>\n",
       "    </tr>\n",
       "    <tr>\n",
       "      <th>city</th>\n",
       "      <td>0.102493</td>\n",
       "      <td>0.140384</td>\n",
       "      <td>-1.189890</td>\n",
       "    </tr>\n",
       "    <tr>\n",
       "      <th>China</th>\n",
       "      <td>0.831054</td>\n",
       "      <td>-0.129504</td>\n",
       "      <td>-0.312601</td>\n",
       "    </tr>\n",
       "    <tr>\n",
       "      <th>Iraq</th>\n",
       "      <td>0.656336</td>\n",
       "      <td>-0.177794</td>\n",
       "      <td>-0.338387</td>\n",
       "    </tr>\n",
       "    <tr>\n",
       "      <th>oil</th>\n",
       "      <td>0.658342</td>\n",
       "      <td>-0.432468</td>\n",
       "      <td>-0.621216</td>\n",
       "    </tr>\n",
       "  </tbody>\n",
       "</table>\n",
       "</div>"
      ],
      "text/plain": [
       "                x         y         z\n",
       "country  0.746036 -0.387969 -0.482693\n",
       "city     0.102493  0.140384 -1.189890\n",
       "China    0.831054 -0.129504 -0.312601\n",
       "Iraq     0.656336 -0.177794 -0.338387\n",
       "oil      0.658342 -0.432468 -0.621216"
      ]
     },
     "execution_count": 4,
     "metadata": {},
     "output_type": "execute_result"
    }
   ],
   "source": [
    "df_3d = pd.DataFrame(vectors_3d, index=all_words, columns=[\"x\", \"y\", \"z\"])\n",
    "df_3d.head()"
   ]
  },
  {
   "cell_type": "code",
   "execution_count": 6,
   "metadata": {},
   "outputs": [
    {
     "data": {
      "application/vnd.plotly.v1+json": {
       "config": {
        "plotlyServerURL": "https://plot.ly"
       },
       "data": [
        {
         "hovertemplate": "color=country<br>x=%{x}<br>y=%{y}<br>z=%{z}<extra></extra>",
         "legendgroup": "country",
         "marker": {
          "color": "#636efa",
          "symbol": "circle"
         },
         "mode": "markers",
         "name": "country",
         "scene": "scene",
         "showlegend": true,
         "type": "scatter3d",
         "x": [
          0.7460358738899231
         ],
         "y": [
          -0.38796910643577576
         ],
         "z": [
          -0.48269322514533997
         ]
        },
        {
         "hovertemplate": "color=city<br>x=%{x}<br>y=%{y}<br>z=%{z}<extra></extra>",
         "legendgroup": "city",
         "marker": {
          "color": "#EF553B",
          "symbol": "circle"
         },
         "mode": "markers",
         "name": "city",
         "scene": "scene",
         "showlegend": true,
         "type": "scatter3d",
         "x": [
          0.1024932712316513
         ],
         "y": [
          0.14038385450839996
         ],
         "z": [
          -1.1898902654647827
         ]
        },
        {
         "hovertemplate": "color=China<br>x=%{x}<br>y=%{y}<br>z=%{z}<extra></extra>",
         "legendgroup": "China",
         "marker": {
          "color": "#00cc96",
          "symbol": "circle"
         },
         "mode": "markers",
         "name": "China",
         "scene": "scene",
         "showlegend": true,
         "type": "scatter3d",
         "x": [
          0.8310537934303284
         ],
         "y": [
          -0.12950444221496582
         ],
         "z": [
          -0.31260135769844055
         ]
        },
        {
         "hovertemplate": "color=Iraq<br>x=%{x}<br>y=%{y}<br>z=%{z}<extra></extra>",
         "legendgroup": "Iraq",
         "marker": {
          "color": "#ab63fa",
          "symbol": "circle"
         },
         "mode": "markers",
         "name": "Iraq",
         "scene": "scene",
         "showlegend": true,
         "type": "scatter3d",
         "x": [
          0.6563358306884766
         ],
         "y": [
          -0.17779430747032166
         ],
         "z": [
          -0.33838650584220886
         ]
        },
        {
         "hovertemplate": "color=oil<br>x=%{x}<br>y=%{y}<br>z=%{z}<extra></extra>",
         "legendgroup": "oil",
         "marker": {
          "color": "#FFA15A",
          "symbol": "circle"
         },
         "mode": "markers",
         "name": "oil",
         "scene": "scene",
         "showlegend": true,
         "type": "scatter3d",
         "x": [
          0.6583415269851685
         ],
         "y": [
          -0.43246808648109436
         ],
         "z": [
          -0.6212158203125
         ]
        },
        {
         "hovertemplate": "color=town<br>x=%{x}<br>y=%{y}<br>z=%{z}<extra></extra>",
         "legendgroup": "town",
         "marker": {
          "color": "#19d3f3",
          "symbol": "circle"
         },
         "mode": "markers",
         "name": "town",
         "scene": "scene",
         "showlegend": true,
         "type": "scatter3d",
         "x": [
          0.37807679176330566
         ],
         "y": [
          -0.08044537901878357
         ],
         "z": [
          -1.0534697771072388
         ]
        },
        {
         "hovertemplate": "color=Canada<br>x=%{x}<br>y=%{y}<br>z=%{z}<extra></extra>",
         "legendgroup": "Canada",
         "marker": {
          "color": "#FF6692",
          "symbol": "circle"
         },
         "mode": "markers",
         "name": "Canada",
         "scene": "scene",
         "showlegend": true,
         "type": "scatter3d",
         "x": [
          1.1919593811035156
         ],
         "y": [
          -0.4077152907848358
         ],
         "z": [
          -0.7418161034584045
         ]
        },
        {
         "hovertemplate": "color=London<br>x=%{x}<br>y=%{y}<br>z=%{z}<extra></extra>",
         "legendgroup": "London",
         "marker": {
          "color": "#B6E880",
          "symbol": "circle"
         },
         "mode": "markers",
         "name": "London",
         "scene": "scene",
         "showlegend": true,
         "type": "scatter3d",
         "x": [
          -0.2979850471019745
         ],
         "y": [
          0.25338926911354065
         ],
         "z": [
          -1.151863694190979
         ]
        },
        {
         "hovertemplate": "color=England<br>x=%{x}<br>y=%{y}<br>z=%{z}<extra></extra>",
         "legendgroup": "England",
         "marker": {
          "color": "#FF97FF",
          "symbol": "circle"
         },
         "mode": "markers",
         "name": "England",
         "scene": "scene",
         "showlegend": true,
         "type": "scatter3d",
         "x": [
          1.1039775609970093
         ],
         "y": [
          -0.11008325219154358
         ],
         "z": [
          -0.8934293389320374
         ]
        },
        {
         "hovertemplate": "color=Australia<br>x=%{x}<br>y=%{y}<br>z=%{z}<extra></extra>",
         "legendgroup": "Australia",
         "marker": {
          "color": "#FECB52",
          "symbol": "circle"
         },
         "mode": "markers",
         "name": "Australia",
         "scene": "scene",
         "showlegend": true,
         "type": "scatter3d",
         "x": [
          1.0495308637619019
         ],
         "y": [
          -0.45227155089378357
         ],
         "z": [
          -0.8357724547386169
         ]
        }
       ],
       "layout": {
        "legend": {
         "title": {
          "text": "color"
         },
         "tracegroupgap": 0
        },
        "margin": {
         "t": 60
        },
        "scene": {
         "domain": {
          "x": [
           0,
           1
          ],
          "y": [
           0,
           1
          ]
         },
         "xaxis": {
          "title": {
           "text": "x"
          }
         },
         "yaxis": {
          "title": {
           "text": "y"
          }
         },
         "zaxis": {
          "title": {
           "text": "z"
          }
         }
        },
        "template": {
         "data": {
          "bar": [
           {
            "error_x": {
             "color": "#2a3f5f"
            },
            "error_y": {
             "color": "#2a3f5f"
            },
            "marker": {
             "line": {
              "color": "#E5ECF6",
              "width": 0.5
             },
             "pattern": {
              "fillmode": "overlay",
              "size": 10,
              "solidity": 0.2
             }
            },
            "type": "bar"
           }
          ],
          "barpolar": [
           {
            "marker": {
             "line": {
              "color": "#E5ECF6",
              "width": 0.5
             },
             "pattern": {
              "fillmode": "overlay",
              "size": 10,
              "solidity": 0.2
             }
            },
            "type": "barpolar"
           }
          ],
          "carpet": [
           {
            "aaxis": {
             "endlinecolor": "#2a3f5f",
             "gridcolor": "white",
             "linecolor": "white",
             "minorgridcolor": "white",
             "startlinecolor": "#2a3f5f"
            },
            "baxis": {
             "endlinecolor": "#2a3f5f",
             "gridcolor": "white",
             "linecolor": "white",
             "minorgridcolor": "white",
             "startlinecolor": "#2a3f5f"
            },
            "type": "carpet"
           }
          ],
          "choropleth": [
           {
            "colorbar": {
             "outlinewidth": 0,
             "ticks": ""
            },
            "type": "choropleth"
           }
          ],
          "contour": [
           {
            "colorbar": {
             "outlinewidth": 0,
             "ticks": ""
            },
            "colorscale": [
             [
              0,
              "#0d0887"
             ],
             [
              0.1111111111111111,
              "#46039f"
             ],
             [
              0.2222222222222222,
              "#7201a8"
             ],
             [
              0.3333333333333333,
              "#9c179e"
             ],
             [
              0.4444444444444444,
              "#bd3786"
             ],
             [
              0.5555555555555556,
              "#d8576b"
             ],
             [
              0.6666666666666666,
              "#ed7953"
             ],
             [
              0.7777777777777778,
              "#fb9f3a"
             ],
             [
              0.8888888888888888,
              "#fdca26"
             ],
             [
              1,
              "#f0f921"
             ]
            ],
            "type": "contour"
           }
          ],
          "contourcarpet": [
           {
            "colorbar": {
             "outlinewidth": 0,
             "ticks": ""
            },
            "type": "contourcarpet"
           }
          ],
          "heatmap": [
           {
            "colorbar": {
             "outlinewidth": 0,
             "ticks": ""
            },
            "colorscale": [
             [
              0,
              "#0d0887"
             ],
             [
              0.1111111111111111,
              "#46039f"
             ],
             [
              0.2222222222222222,
              "#7201a8"
             ],
             [
              0.3333333333333333,
              "#9c179e"
             ],
             [
              0.4444444444444444,
              "#bd3786"
             ],
             [
              0.5555555555555556,
              "#d8576b"
             ],
             [
              0.6666666666666666,
              "#ed7953"
             ],
             [
              0.7777777777777778,
              "#fb9f3a"
             ],
             [
              0.8888888888888888,
              "#fdca26"
             ],
             [
              1,
              "#f0f921"
             ]
            ],
            "type": "heatmap"
           }
          ],
          "heatmapgl": [
           {
            "colorbar": {
             "outlinewidth": 0,
             "ticks": ""
            },
            "colorscale": [
             [
              0,
              "#0d0887"
             ],
             [
              0.1111111111111111,
              "#46039f"
             ],
             [
              0.2222222222222222,
              "#7201a8"
             ],
             [
              0.3333333333333333,
              "#9c179e"
             ],
             [
              0.4444444444444444,
              "#bd3786"
             ],
             [
              0.5555555555555556,
              "#d8576b"
             ],
             [
              0.6666666666666666,
              "#ed7953"
             ],
             [
              0.7777777777777778,
              "#fb9f3a"
             ],
             [
              0.8888888888888888,
              "#fdca26"
             ],
             [
              1,
              "#f0f921"
             ]
            ],
            "type": "heatmapgl"
           }
          ],
          "histogram": [
           {
            "marker": {
             "pattern": {
              "fillmode": "overlay",
              "size": 10,
              "solidity": 0.2
             }
            },
            "type": "histogram"
           }
          ],
          "histogram2d": [
           {
            "colorbar": {
             "outlinewidth": 0,
             "ticks": ""
            },
            "colorscale": [
             [
              0,
              "#0d0887"
             ],
             [
              0.1111111111111111,
              "#46039f"
             ],
             [
              0.2222222222222222,
              "#7201a8"
             ],
             [
              0.3333333333333333,
              "#9c179e"
             ],
             [
              0.4444444444444444,
              "#bd3786"
             ],
             [
              0.5555555555555556,
              "#d8576b"
             ],
             [
              0.6666666666666666,
              "#ed7953"
             ],
             [
              0.7777777777777778,
              "#fb9f3a"
             ],
             [
              0.8888888888888888,
              "#fdca26"
             ],
             [
              1,
              "#f0f921"
             ]
            ],
            "type": "histogram2d"
           }
          ],
          "histogram2dcontour": [
           {
            "colorbar": {
             "outlinewidth": 0,
             "ticks": ""
            },
            "colorscale": [
             [
              0,
              "#0d0887"
             ],
             [
              0.1111111111111111,
              "#46039f"
             ],
             [
              0.2222222222222222,
              "#7201a8"
             ],
             [
              0.3333333333333333,
              "#9c179e"
             ],
             [
              0.4444444444444444,
              "#bd3786"
             ],
             [
              0.5555555555555556,
              "#d8576b"
             ],
             [
              0.6666666666666666,
              "#ed7953"
             ],
             [
              0.7777777777777778,
              "#fb9f3a"
             ],
             [
              0.8888888888888888,
              "#fdca26"
             ],
             [
              1,
              "#f0f921"
             ]
            ],
            "type": "histogram2dcontour"
           }
          ],
          "mesh3d": [
           {
            "colorbar": {
             "outlinewidth": 0,
             "ticks": ""
            },
            "type": "mesh3d"
           }
          ],
          "parcoords": [
           {
            "line": {
             "colorbar": {
              "outlinewidth": 0,
              "ticks": ""
             }
            },
            "type": "parcoords"
           }
          ],
          "pie": [
           {
            "automargin": true,
            "type": "pie"
           }
          ],
          "scatter": [
           {
            "fillpattern": {
             "fillmode": "overlay",
             "size": 10,
             "solidity": 0.2
            },
            "type": "scatter"
           }
          ],
          "scatter3d": [
           {
            "line": {
             "colorbar": {
              "outlinewidth": 0,
              "ticks": ""
             }
            },
            "marker": {
             "colorbar": {
              "outlinewidth": 0,
              "ticks": ""
             }
            },
            "type": "scatter3d"
           }
          ],
          "scattercarpet": [
           {
            "marker": {
             "colorbar": {
              "outlinewidth": 0,
              "ticks": ""
             }
            },
            "type": "scattercarpet"
           }
          ],
          "scattergeo": [
           {
            "marker": {
             "colorbar": {
              "outlinewidth": 0,
              "ticks": ""
             }
            },
            "type": "scattergeo"
           }
          ],
          "scattergl": [
           {
            "marker": {
             "colorbar": {
              "outlinewidth": 0,
              "ticks": ""
             }
            },
            "type": "scattergl"
           }
          ],
          "scattermapbox": [
           {
            "marker": {
             "colorbar": {
              "outlinewidth": 0,
              "ticks": ""
             }
            },
            "type": "scattermapbox"
           }
          ],
          "scatterpolar": [
           {
            "marker": {
             "colorbar": {
              "outlinewidth": 0,
              "ticks": ""
             }
            },
            "type": "scatterpolar"
           }
          ],
          "scatterpolargl": [
           {
            "marker": {
             "colorbar": {
              "outlinewidth": 0,
              "ticks": ""
             }
            },
            "type": "scatterpolargl"
           }
          ],
          "scatterternary": [
           {
            "marker": {
             "colorbar": {
              "outlinewidth": 0,
              "ticks": ""
             }
            },
            "type": "scatterternary"
           }
          ],
          "surface": [
           {
            "colorbar": {
             "outlinewidth": 0,
             "ticks": ""
            },
            "colorscale": [
             [
              0,
              "#0d0887"
             ],
             [
              0.1111111111111111,
              "#46039f"
             ],
             [
              0.2222222222222222,
              "#7201a8"
             ],
             [
              0.3333333333333333,
              "#9c179e"
             ],
             [
              0.4444444444444444,
              "#bd3786"
             ],
             [
              0.5555555555555556,
              "#d8576b"
             ],
             [
              0.6666666666666666,
              "#ed7953"
             ],
             [
              0.7777777777777778,
              "#fb9f3a"
             ],
             [
              0.8888888888888888,
              "#fdca26"
             ],
             [
              1,
              "#f0f921"
             ]
            ],
            "type": "surface"
           }
          ],
          "table": [
           {
            "cells": {
             "fill": {
              "color": "#EBF0F8"
             },
             "line": {
              "color": "white"
             }
            },
            "header": {
             "fill": {
              "color": "#C8D4E3"
             },
             "line": {
              "color": "white"
             }
            },
            "type": "table"
           }
          ]
         },
         "layout": {
          "annotationdefaults": {
           "arrowcolor": "#2a3f5f",
           "arrowhead": 0,
           "arrowwidth": 1
          },
          "autotypenumbers": "strict",
          "coloraxis": {
           "colorbar": {
            "outlinewidth": 0,
            "ticks": ""
           }
          },
          "colorscale": {
           "diverging": [
            [
             0,
             "#8e0152"
            ],
            [
             0.1,
             "#c51b7d"
            ],
            [
             0.2,
             "#de77ae"
            ],
            [
             0.3,
             "#f1b6da"
            ],
            [
             0.4,
             "#fde0ef"
            ],
            [
             0.5,
             "#f7f7f7"
            ],
            [
             0.6,
             "#e6f5d0"
            ],
            [
             0.7,
             "#b8e186"
            ],
            [
             0.8,
             "#7fbc41"
            ],
            [
             0.9,
             "#4d9221"
            ],
            [
             1,
             "#276419"
            ]
           ],
           "sequential": [
            [
             0,
             "#0d0887"
            ],
            [
             0.1111111111111111,
             "#46039f"
            ],
            [
             0.2222222222222222,
             "#7201a8"
            ],
            [
             0.3333333333333333,
             "#9c179e"
            ],
            [
             0.4444444444444444,
             "#bd3786"
            ],
            [
             0.5555555555555556,
             "#d8576b"
            ],
            [
             0.6666666666666666,
             "#ed7953"
            ],
            [
             0.7777777777777778,
             "#fb9f3a"
            ],
            [
             0.8888888888888888,
             "#fdca26"
            ],
            [
             1,
             "#f0f921"
            ]
           ],
           "sequentialminus": [
            [
             0,
             "#0d0887"
            ],
            [
             0.1111111111111111,
             "#46039f"
            ],
            [
             0.2222222222222222,
             "#7201a8"
            ],
            [
             0.3333333333333333,
             "#9c179e"
            ],
            [
             0.4444444444444444,
             "#bd3786"
            ],
            [
             0.5555555555555556,
             "#d8576b"
            ],
            [
             0.6666666666666666,
             "#ed7953"
            ],
            [
             0.7777777777777778,
             "#fb9f3a"
            ],
            [
             0.8888888888888888,
             "#fdca26"
            ],
            [
             1,
             "#f0f921"
            ]
           ]
          },
          "colorway": [
           "#636efa",
           "#EF553B",
           "#00cc96",
           "#ab63fa",
           "#FFA15A",
           "#19d3f3",
           "#FF6692",
           "#B6E880",
           "#FF97FF",
           "#FECB52"
          ],
          "font": {
           "color": "#2a3f5f"
          },
          "geo": {
           "bgcolor": "white",
           "lakecolor": "white",
           "landcolor": "#E5ECF6",
           "showlakes": true,
           "showland": true,
           "subunitcolor": "white"
          },
          "hoverlabel": {
           "align": "left"
          },
          "hovermode": "closest",
          "mapbox": {
           "style": "light"
          },
          "paper_bgcolor": "white",
          "plot_bgcolor": "#E5ECF6",
          "polar": {
           "angularaxis": {
            "gridcolor": "white",
            "linecolor": "white",
            "ticks": ""
           },
           "bgcolor": "#E5ECF6",
           "radialaxis": {
            "gridcolor": "white",
            "linecolor": "white",
            "ticks": ""
           }
          },
          "scene": {
           "xaxis": {
            "backgroundcolor": "#E5ECF6",
            "gridcolor": "white",
            "gridwidth": 2,
            "linecolor": "white",
            "showbackground": true,
            "ticks": "",
            "zerolinecolor": "white"
           },
           "yaxis": {
            "backgroundcolor": "#E5ECF6",
            "gridcolor": "white",
            "gridwidth": 2,
            "linecolor": "white",
            "showbackground": true,
            "ticks": "",
            "zerolinecolor": "white"
           },
           "zaxis": {
            "backgroundcolor": "#E5ECF6",
            "gridcolor": "white",
            "gridwidth": 2,
            "linecolor": "white",
            "showbackground": true,
            "ticks": "",
            "zerolinecolor": "white"
           }
          },
          "shapedefaults": {
           "line": {
            "color": "#2a3f5f"
           }
          },
          "ternary": {
           "aaxis": {
            "gridcolor": "white",
            "linecolor": "white",
            "ticks": ""
           },
           "baxis": {
            "gridcolor": "white",
            "linecolor": "white",
            "ticks": ""
           },
           "bgcolor": "#E5ECF6",
           "caxis": {
            "gridcolor": "white",
            "linecolor": "white",
            "ticks": ""
           }
          },
          "title": {
           "x": 0.05
          },
          "xaxis": {
           "automargin": true,
           "gridcolor": "white",
           "linecolor": "white",
           "ticks": "",
           "title": {
            "standoff": 15
           },
           "zerolinecolor": "white",
           "zerolinewidth": 2
          },
          "yaxis": {
           "automargin": true,
           "gridcolor": "white",
           "linecolor": "white",
           "ticks": "",
           "title": {
            "standoff": 15
           },
           "zerolinecolor": "white",
           "zerolinewidth": 2
          }
         }
        }
       }
      }
     },
     "metadata": {},
     "output_type": "display_data"
    }
   ],
   "source": [
    "import plotly.express as px\n",
    "\n",
    "fig = px.scatter_3d(\n",
    "    df_3d[:vectors_number], x=\"x\", y=\"y\", z=\"z\", color=df_3d.index[:vectors_number]\n",
    ")\n",
    "fig.show()"
   ]
  },
  {
   "cell_type": "markdown",
   "metadata": {},
   "source": [
    "Note:\n",
    "In 3D representation, \"Iraq\" is much closer to \"country\" and \"oil\" than to \"city\"."
   ]
  },
  {
   "cell_type": "markdown",
   "metadata": {},
   "source": [
    "#### 2. Define functions for finding the nearest word."
   ]
  },
  {
   "cell_type": "markdown",
   "metadata": {},
   "source": [
    "##### 2.1 - Write a function that takes a 3D vector and finds the closest word in the model `word_embeddings_subset`."
   ]
  },
  {
   "cell_type": "code",
   "execution_count": 34,
   "metadata": {},
   "outputs": [
    {
     "name": "stdout",
     "output_type": "stream",
     "text": [
      "Closest word to the vector of 'city': ['city', 'Ottawa', 'town', 'Nassau', 'London']\n"
     ]
    }
   ],
   "source": [
    "def find_closest_word(vector: np.array, df: pd.DataFrame) -> str:\n",
    "    # Calculate the vector difference from each word to the input vector\n",
    "    diff = df.values - vector\n",
    "    # Get the squared L2 norm of each difference vector.\n",
    "    # It means the squared euclidean distance from each word to the input vector\n",
    "    delta = np.sum(diff**2, axis=1)\n",
    "    # Find the index of the minimun distance in the array\n",
    "    i = np.argmin(delta)\n",
    "    # Return the row name for this item\n",
    "    return df.iloc[i].name\n",
    "\n",
    "\n",
    "def find_closest_words(vector: np.array, df: pd.DataFrame, n: int = 1) -> list:\n",
    "    # df.apply applies a lambda function on horizontal axis to df, lambda takes each row from df and\n",
    "    # np.linalg.norm calculates the Euclidean distance between the given vector and the current row vector\n",
    "    distances = df.apply(lambda row: np.linalg.norm(vector - row.values), axis=1)\n",
    "    closest_indices = np.argsort(distances)[:n]\n",
    "    closest_words = df.index[closest_indices]\n",
    "    return list(closest_words)\n",
    "\n",
    "\n",
    "# Test conditions\n",
    "example_word = \"city\"\n",
    "example_vector = df_3d.loc[example_word].values\n",
    "closest_words = find_closest_words(example_vector, df_3d, 5)\n",
    "print(f\"Closest words to the vector of '{example_word}': {closest_words}\")"
   ]
  },
  {
   "cell_type": "markdown",
   "metadata": {},
   "source": [
    "##### 2.2 - Use this function for a few examples and make sure the results are correct."
   ]
  },
  {
   "cell_type": "code",
   "execution_count": 45,
   "metadata": {},
   "outputs": [
    {
     "data": {
      "text/plain": [
       "['China', 'Iraq', 'Afghanistan']"
      ]
     },
     "execution_count": 45,
     "metadata": {},
     "output_type": "execute_result"
    }
   ],
   "source": [
    "find_closest_words((df_3d.loc[\"Iraq\"] - df_3d.loc[\"oil\"] + df_3d.loc[\"country\"]), df_3d, 3)"
   ]
  },
  {
   "cell_type": "code",
   "execution_count": 49,
   "metadata": {},
   "outputs": [
    {
     "data": {
      "text/plain": [
       "['London', 'Paris', 'Montevideo']"
      ]
     },
     "execution_count": 49,
     "metadata": {},
     "output_type": "execute_result"
    }
   ],
   "source": [
    "find_closest_words((df_3d.loc[\"Paris\"] - df_3d.loc[\"joyful\"] + df_3d.loc[\"sad\"]), df_3d, 3)"
   ]
  },
  {
   "cell_type": "code",
   "execution_count": 52,
   "metadata": {},
   "outputs": [
    {
     "data": {
      "text/plain": [
       "['Portugal', 'Norway', 'Ireland']"
      ]
     },
     "execution_count": 52,
     "metadata": {},
     "output_type": "execute_result"
    }
   ],
   "source": [
    "doc = \"France Afghanistan\"\n",
    "vdoc = [df_3d.loc[x] for x in doc.split(\" \")]\n",
    "doc2vec = np.sum(vdoc, axis = 0)\n",
    "\n",
    "find_closest_words(doc2vec, df_3d, 3)"
   ]
  },
  {
   "cell_type": "markdown",
   "metadata": {},
   "source": [
    "#### 3. Calculate the vector product to find the orthogonal word."
   ]
  },
  {
   "cell_type": "markdown",
   "metadata": {},
   "source": [
    "##### 3.1 - Choose several random pairs of words."
   ]
  },
  {
   "cell_type": "code",
   "execution_count": 59,
   "metadata": {},
   "outputs": [],
   "source": [
    "import random\n",
    "\n",
    "\n",
    "def choose_random_pair_of_words(df: pd.DataFrame = df_3d) -> list:\n",
    "    return random.sample(list(df.index), 2)"
   ]
  },
  {
   "cell_type": "markdown",
   "metadata": {},
   "source": [
    "##### 3.2 - Calculate the vector product for each pair of words and use the function written earlier to find the closest word."
   ]
  },
  {
   "cell_type": "code",
   "execution_count": 60,
   "metadata": {},
   "outputs": [],
   "source": [
    "def vector_product(pair_of_words: list, df: pd.DataFrame = df_3d) -> np.array:\n",
    "    vec_1 = df.loc[pair_of_words[0]].values\n",
    "    vec_2 = df.loc[pair_of_words[1]].values\n",
    "    return np.cross(vec_1, vec_2)"
   ]
  },
  {
   "cell_type": "markdown",
   "metadata": {},
   "source": [
    "##### 3.3 - Analyze the results and try to interpret them."
   ]
  },
  {
   "cell_type": "code",
   "execution_count": 65,
   "metadata": {},
   "outputs": [
    {
     "name": "stdout",
     "output_type": "stream",
     "text": [
      "Random pairs of words: ['Nuuk', 'Niger']\n",
      "3 closest ortogonaal words: ['Tehran', 'Valletta', 'Astana']\n",
      "\n",
      "Random pairs of words: ['Tallinn', 'Damascus']\n",
      "3 closest ortogonaal words: ['Luanda', 'Asmara', 'Bamako']\n",
      "\n",
      "Random pairs of words: ['Qatar', 'Gabon']\n",
      "3 closest ortogonaal words: ['Belmopan', 'Roseau', 'Doha']\n",
      "\n",
      "Random pairs of words: ['Minsk', 'Albania']\n",
      "3 closest ortogonaal words: ['Berlin', 'Dublin', 'Athens']\n",
      "\n",
      "Random pairs of words: ['Jamaica', 'Liberia']\n",
      "3 closest ortogonaal words: ['Apia', 'Suva', 'Tegucigalpa']\n",
      "\n"
     ]
    }
   ],
   "source": [
    "def make_ortogonals(k: int = 5) -> None:\n",
    "    for _ in range(k):\n",
    "        random_words = choose_random_pair_of_words()\n",
    "        print(f\"Random pairs of words: {random_words}\")\n",
    "        ortogonal_word_vector = vector_product(random_words)\n",
    "        ortogonal_words = find_closest_words(ortogonal_word_vector, df_3d, 3)\n",
    "        print(\"3 closest ortogonaal words:\", ortogonal_words)\n",
    "        print()\n",
    "\n",
    "\n",
    "make_ortogonals()"
   ]
  },
  {
   "cell_type": "markdown",
   "metadata": {},
   "source": [
    "##### Conclusion:\n",
    "In the context of word embeddings, orthogonal vectors represent words that are semantically unrelated or independent in the embedding space, because two vectors are orthogonal if their scalar product is zero, so that means they don't reinforce each other.\n",
    "* ['Nuuk', 'Niger'] -> ['Tehran', 'Valletta', 'Astana'] - all these places are very diverse in location and culture;\n",
    "* ['Tallinn', 'Damascus'] -> ['Luanda', 'Asmara', 'Bamako'] - embedding space groups the African capitals in a way that makes them orthogonal (unrelevant) to the Europe and Middle East.\n",
    "* ['Qatar', 'Gabon'] -> ['Belmopan', 'Roseau', 'Doha'] - small and not prominent cities are orthogonal to countries in the  embedding space.\n",
    "* ['Minsk', 'Albania'] -> ['Berlin', 'Dublin', 'Athens'] - the orthogonal vector aligns with well-known European capitals and shows that they are irrelevant to the Eastern Europe.\n",
    "* ['Jamaica', 'Liberia'] -> ['Apia', 'Suva', 'Tegucigalpa'] - this might indicate a pattern where island or less central locations are orthogonal to more continental or central ones."
   ]
  },
  {
   "cell_type": "markdown",
   "metadata": {},
   "source": [
    "#### 4. Write functions for determining the angle between words."
   ]
  },
  {
   "cell_type": "markdown",
   "metadata": {},
   "source": [
    "#### 4.1 - Develop a function that calculates the angle between vectors for any two words."
   ]
  },
  {
   "cell_type": "code",
   "execution_count": 67,
   "metadata": {},
   "outputs": [],
   "source": [
    "def calculate_angle_between_vectors(vec_1: np.array, vec_2: np.array) -> int:\n",
    "    dot_product = np.dot(vec_1, vec_2)\n",
    "    norm_vec_1 = np.linalg.norm(vec_1)\n",
    "    norm_vec_2 = np.linalg.norm(vec_2)\n",
    "    cos_theta = dot_product / (norm_vec_1 * norm_vec_2)\n",
    "    angle = np.arccos(cos_theta)\n",
    "    return np.degrees(angle)"
   ]
  },
  {
   "cell_type": "markdown",
   "metadata": {},
   "source": [
    "##### 4.2 - Test this function for different pairs of words."
   ]
  },
  {
   "cell_type": "code",
   "execution_count": 68,
   "metadata": {},
   "outputs": [],
   "source": [
    "def make_angles(df: pd.DataFrame = df_3d, k: int = 5) -> None:\n",
    "    for _ in range(k):\n",
    "        pair_of_words = choose_random_pair_of_words()\n",
    "        print(f\"Random pairs of words: {pair_of_words}\")\n",
    "        vec_1 = df.loc[pair_of_words[0]].values\n",
    "        vec_2 = df.loc[pair_of_words[1]].values\n",
    "        angle = calculate_angle_between_vectors(vec_1, vec_2)\n",
    "        print(\"The angle between 2 vectors:\", angle)\n",
    "        print()"
   ]
  },
  {
   "cell_type": "markdown",
   "metadata": {},
   "source": [
    "##### 4.3 - Consider the obtained results and try to determine their interpretation."
   ]
  },
  {
   "cell_type": "code",
   "execution_count": 70,
   "metadata": {},
   "outputs": [
    {
     "name": "stdout",
     "output_type": "stream",
     "text": [
      "Random pairs of words: ['Jamaica', 'France']\n",
      "The angle between 2 vectors: 46.179676\n",
      "\n",
      "Random pairs of words: ['Athens', 'Taiwan']\n",
      "The angle between 2 vectors: 84.05068\n",
      "\n",
      "Random pairs of words: ['Portugal', 'Gaborone']\n",
      "The angle between 2 vectors: 133.58626\n",
      "\n",
      "Random pairs of words: ['Namibia', 'Bamako']\n",
      "The angle between 2 vectors: 76.5707\n",
      "\n",
      "Random pairs of words: ['Ecuador', 'Rabat']\n",
      "The angle between 2 vectors: 164.12126\n",
      "\n"
     ]
    }
   ],
   "source": [
    "make_angles()"
   ]
  },
  {
   "cell_type": "markdown",
   "metadata": {},
   "source": [
    "##### Conclusion:\n",
    "\n",
    "The angle between two vectors in the embedded space shows the extent to which words are synonyms, antonyms, or completely unrelated concepts.\n",
    "\n",
    "* ['Jamaica', 'France'] -> 46° - the angle between these concepts is sharp, but far from 0°, which means that there is a positive connection between them, although not strong;\n",
    "* ['Athens', 'Taiwan'] -> 84° - the angle is close to 90°, so these are two irrelevant concepts;\n",
    "* ['Portugal', 'Gaborone'] -> 134° - the angle between these concepts is obtuse, but far from 180°, which means that there is a negativ connection between them, although not strong;\n",
    "* ['Namibia', 'Bamako'] -> 77° - something between the first and second examples;\n",
    "* ['Ecuador', 'Rabat'] -> 164° - the angle is close to 180°, which suggests that these are mutually exclusive concepts of antagonists."
   ]
  }
 ],
 "metadata": {
  "kernelspec": {
   "display_name": ".venv",
   "language": "python",
   "name": "python3"
  },
  "language_info": {
   "codemirror_mode": {
    "name": "ipython",
    "version": 3
   },
   "file_extension": ".py",
   "mimetype": "text/x-python",
   "name": "python",
   "nbconvert_exporter": "python",
   "pygments_lexer": "ipython3",
   "version": "3.12.4"
  }
 },
 "nbformat": 4,
 "nbformat_minor": 2
}
