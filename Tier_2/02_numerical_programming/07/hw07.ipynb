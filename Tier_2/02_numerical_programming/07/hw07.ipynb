{
 "cells": [
  {
   "cell_type": "markdown",
   "metadata": {},
   "source": [
    "# Tier 2. Module 2: Numerical Programming in Python\n",
    "\n",
    "## Topic 7 - Bayes theorem. Bayesian inference\n",
    "\n",
    "## Homework\n",
    "\n",
    "Using a Naive Bayesian Classifier for Spam Filtering on a Dataset Corresponding to Real Messages.\n",
    "\n",
    "This will help you consolidate the following skills:\n",
    "\n",
    "- use of Bayes' theorem in practical tasks of data analysis;\n",
    "- pre-processing of data for machine learning algorithms.\n",
    "\n",
    "### Task"
   ]
  },
  {
   "cell_type": "markdown",
   "metadata": {},
   "source": [
    "#### 1 - Download the Email Spam Classification Dataset\n"
   ]
  },
  {
   "cell_type": "code",
   "execution_count": null,
   "metadata": {
    "vscode": {
     "languageId": "shellscript"
    }
   },
   "outputs": [],
   "source": [
    "!wget -O SpamEmailClassificationDataset.zip https://github.com/goitacademy/NUMERICAL-PROGRAMMING-IN-PYTHON/blob/main/SpamEmailClassificationDataset.zip?raw=true"
   ]
  },
  {
   "cell_type": "markdown",
   "metadata": {},
   "source": [
    "#### 2 - Unzip the data file\n"
   ]
  },
  {
   "cell_type": "code",
   "execution_count": null,
   "metadata": {
    "vscode": {
     "languageId": "shellscript"
    }
   },
   "outputs": [],
   "source": [
    "!unzip SpamEmailClassificationDataset.zip"
   ]
  },
  {
   "cell_type": "markdown",
   "metadata": {},
   "source": [
    "#### 3 - Import of specialized libraries for text processing\n"
   ]
  },
  {
   "cell_type": "code",
   "execution_count": 2,
   "metadata": {},
   "outputs": [
    {
     "name": "stderr",
     "output_type": "stream",
     "text": [
      "[nltk_data] Downloading package stopwords to\n",
      "[nltk_data]     C:\\Users\\danie\\AppData\\Roaming\\nltk_data...\n",
      "[nltk_data]   Package stopwords is already up-to-date!\n",
      "[nltk_data] Downloading package punkt to\n",
      "[nltk_data]     C:\\Users\\danie\\AppData\\Roaming\\nltk_data...\n",
      "[nltk_data]   Package punkt is already up-to-date!\n",
      "[nltk_data] Downloading package wordnet to\n",
      "[nltk_data]     C:\\Users\\danie\\AppData\\Roaming\\nltk_data...\n"
     ]
    },
    {
     "data": {
      "text/plain": [
       "True"
      ]
     },
     "execution_count": 2,
     "metadata": {},
     "output_type": "execute_result"
    }
   ],
   "source": [
    "import pandas as pd\n",
    "import matplotlib.pyplot as plt\n",
    "\n",
    "import re\n",
    "from nltk.corpus import stopwords\n",
    "\n",
    "# Downloading stop words\n",
    "import nltk\n",
    "\n",
    "nltk.download(\"stopwords\")\n",
    "nltk.download(\"punkt\")\n",
    "stop_words = set(stopwords.words(\"english\"))\n",
    "nltk.download(\"wordnet\")"
   ]
  },
  {
   "cell_type": "markdown",
   "metadata": {},
   "source": [
    "#### 4 - Read the data\n"
   ]
  },
  {
   "cell_type": "code",
   "execution_count": 5,
   "metadata": {},
   "outputs": [
    {
     "data": {
      "text/html": [
       "<div>\n",
       "<style scoped>\n",
       "    .dataframe tbody tr th:only-of-type {\n",
       "        vertical-align: middle;\n",
       "    }\n",
       "\n",
       "    .dataframe tbody tr th {\n",
       "        vertical-align: top;\n",
       "    }\n",
       "\n",
       "    .dataframe thead th {\n",
       "        text-align: right;\n",
       "    }\n",
       "</style>\n",
       "<table border=\"1\" class=\"dataframe\">\n",
       "  <thead>\n",
       "    <tr style=\"text-align: right;\">\n",
       "      <th></th>\n",
       "      <th>label</th>\n",
       "      <th>text</th>\n",
       "    </tr>\n",
       "  </thead>\n",
       "  <tbody>\n",
       "    <tr>\n",
       "      <th>0</th>\n",
       "      <td>label</td>\n",
       "      <td>text</td>\n",
       "    </tr>\n",
       "    <tr>\n",
       "      <th>1</th>\n",
       "      <td>1</td>\n",
       "      <td>ounce feather bowl hummingbird opec moment ala...</td>\n",
       "    </tr>\n",
       "    <tr>\n",
       "      <th>2</th>\n",
       "      <td>1</td>\n",
       "      <td>wulvob get your medircations online qnb ikud v...</td>\n",
       "    </tr>\n",
       "    <tr>\n",
       "      <th>3</th>\n",
       "      <td>0</td>\n",
       "      <td>computer connection from cnn com wednesday es...</td>\n",
       "    </tr>\n",
       "    <tr>\n",
       "      <th>4</th>\n",
       "      <td>1</td>\n",
       "      <td>university degree obtain a prosperous future m...</td>\n",
       "    </tr>\n",
       "  </tbody>\n",
       "</table>\n",
       "</div>"
      ],
      "text/plain": [
       "   label                                               text\n",
       "0  label                                               text\n",
       "1      1  ounce feather bowl hummingbird opec moment ala...\n",
       "2      1  wulvob get your medircations online qnb ikud v...\n",
       "3      0   computer connection from cnn com wednesday es...\n",
       "4      1  university degree obtain a prosperous future m..."
      ]
     },
     "execution_count": 5,
     "metadata": {},
     "output_type": "execute_result"
    }
   ],
   "source": [
    "df = pd.read_csv(\"./src/combined_data.csv\")\n",
    "df.head()"
   ]
  },
  {
   "cell_type": "markdown",
   "metadata": {},
   "source": [
    "The original dataset contains 83,448 records. Therefore, it makes sense to select only a few thousand records for further work.\n"
   ]
  },
  {
   "cell_type": "code",
   "execution_count": 43,
   "metadata": {},
   "outputs": [
    {
     "data": {
      "text/html": [
       "<div>\n",
       "<style scoped>\n",
       "    .dataframe tbody tr th:only-of-type {\n",
       "        vertical-align: middle;\n",
       "    }\n",
       "\n",
       "    .dataframe tbody tr th {\n",
       "        vertical-align: top;\n",
       "    }\n",
       "\n",
       "    .dataframe thead th {\n",
       "        text-align: right;\n",
       "    }\n",
       "</style>\n",
       "<table border=\"1\" class=\"dataframe\">\n",
       "  <thead>\n",
       "    <tr style=\"text-align: right;\">\n",
       "      <th></th>\n",
       "      <th>label</th>\n",
       "      <th>text</th>\n",
       "    </tr>\n",
       "  </thead>\n",
       "  <tbody>\n",
       "    <tr>\n",
       "      <th>count</th>\n",
       "      <td>10000</td>\n",
       "      <td>10000</td>\n",
       "    </tr>\n",
       "    <tr>\n",
       "      <th>unique</th>\n",
       "      <td>2</td>\n",
       "      <td>10000</td>\n",
       "    </tr>\n",
       "    <tr>\n",
       "      <th>top</th>\n",
       "      <td>1</td>\n",
       "      <td>ounce feather bowl hummingbird opec moment ala...</td>\n",
       "    </tr>\n",
       "    <tr>\n",
       "      <th>freq</th>\n",
       "      <td>5322</td>\n",
       "      <td>1</td>\n",
       "    </tr>\n",
       "  </tbody>\n",
       "</table>\n",
       "</div>"
      ],
      "text/plain": [
       "        label                                               text\n",
       "count   10000                                              10000\n",
       "unique      2                                              10000\n",
       "top         1  ounce feather bowl hummingbird opec moment ala...\n",
       "freq     5322                                                  1"
      ]
     },
     "execution_count": 43,
     "metadata": {},
     "output_type": "execute_result"
    }
   ],
   "source": [
    "max_index = 10001\n",
    "df_slice = df[1:max_index].copy()\n",
    "df_slice.describe()"
   ]
  },
  {
   "cell_type": "markdown",
   "metadata": {},
   "source": [
    "#### 5 - Visualize the distribution of messages by two classes in the form of a pie chart\n"
   ]
  },
  {
   "cell_type": "code",
   "execution_count": 44,
   "metadata": {},
   "outputs": [
    {
     "data": {
      "image/png": "[encoded data removed]",
      "text/plain": [
       "<Figure size 800x800 with 1 Axes>"
      ]
     },
     "metadata": {},
     "output_type": "display_data"
    }
   ],
   "source": [
    "class_counts = df_slice[\"label\"].value_counts()\n",
    "\n",
    "label_mapping = {\"0\": \"not spam\", \"1\": \"spam\"}\n",
    "mapped_labels = [label_mapping[label] for label in class_counts.index]\n",
    "\n",
    "plt.figure(figsize=(8, 8))\n",
    "plt.pie(\n",
    "    class_counts,\n",
    "    labels=mapped_labels,\n",
    "    autopct=\"%1.1f%%\",\n",
    "    startangle=140,\n",
    "    colors=[\"red\", \"blue\"],\n",
    ")\n",
    "plt.title(f\"Distribution of Messages by Class (First {max_index-1} Records)\")\n",
    "plt.show()"
   ]
  },
  {
   "cell_type": "markdown",
   "metadata": {},
   "source": [
    "#### 6 - Apply the text processing methods of the `nltk` library to convert texts:\n",
    "\n",
    "- lowercase,\n",
    "- reduce words to dictionary form,\n",
    "- remove repeated words in the message.\n"
   ]
  },
  {
   "cell_type": "code",
   "execution_count": 45,
   "metadata": {},
   "outputs": [
    {
     "data": {
      "text/html": [
       "<div>\n",
       "<style scoped>\n",
       "    .dataframe tbody tr th:only-of-type {\n",
       "        vertical-align: middle;\n",
       "    }\n",
       "\n",
       "    .dataframe tbody tr th {\n",
       "        vertical-align: top;\n",
       "    }\n",
       "\n",
       "    .dataframe thead th {\n",
       "        text-align: right;\n",
       "    }\n",
       "</style>\n",
       "<table border=\"1\" class=\"dataframe\">\n",
       "  <thead>\n",
       "    <tr style=\"text-align: right;\">\n",
       "      <th></th>\n",
       "      <th>label</th>\n",
       "      <th>text</th>\n",
       "    </tr>\n",
       "  </thead>\n",
       "  <tbody>\n",
       "    <tr>\n",
       "      <th>1</th>\n",
       "      <td>1</td>\n",
       "      <td>heft desperate bowl iambic opec quell afterima...</td>\n",
       "    </tr>\n",
       "    <tr>\n",
       "      <th>2</th>\n",
       "      <td>1</td>\n",
       "      <td>cost stopped tablet weight visit ambien brande...</td>\n",
       "    </tr>\n",
       "    <tr>\n",
       "      <th>3</th>\n",
       "      <td>0</td>\n",
       "      <td>element lp expands member advanced internet sh...</td>\n",
       "    </tr>\n",
       "    <tr>\n",
       "      <th>4</th>\n",
       "      <td>1</td>\n",
       "      <td>prestige sun sunday always position non escape...</td>\n",
       "    </tr>\n",
       "    <tr>\n",
       "      <th>5</th>\n",
       "      <td>0</td>\n",
       "      <td>var log john arm wrote bash deletes sparc sour...</td>\n",
       "    </tr>\n",
       "  </tbody>\n",
       "</table>\n",
       "</div>"
      ],
      "text/plain": [
       "  label                                               text\n",
       "1     1  heft desperate bowl iambic opec quell afterima...\n",
       "2     1  cost stopped tablet weight visit ambien brande...\n",
       "3     0  element lp expands member advanced internet sh...\n",
       "4     1  prestige sun sunday always position non escape...\n",
       "5     0  var log john arm wrote bash deletes sparc sour..."
      ]
     },
     "execution_count": 45,
     "metadata": {},
     "output_type": "execute_result"
    }
   ],
   "source": [
    "from nltk.stem import WordNetLemmatizer\n",
    "\n",
    "corpus = []\n",
    "lemmatizer = WordNetLemmatizer()\n",
    "stop_words = set(stopwords.words(\"english\"))\n",
    "\n",
    "for document in df_slice[\"text\"]:\n",
    "    document = re.sub(\"[^a-zA-Z]\", \" \", document).lower()\n",
    "    document = document.split()\n",
    "    document = [\n",
    "        lemmatizer.lemmatize(word) for word in document if word not in stop_words\n",
    "    ]\n",
    "    document = list(set(document))\n",
    "    document = \" \".join(document)\n",
    "    corpus.append(document)\n",
    "\n",
    "df_slice[\"text\"] = corpus\n",
    "df_slice.head()"
   ]
  },
  {
   "cell_type": "markdown",
   "metadata": {},
   "source": [
    "#### 7 - Prepare data structures `train_spam`, `train_ham`, `test_emails`, which will contain spam messages for training, ham messages for training and a dictionary of test messages\n"
   ]
  },
  {
   "cell_type": "code",
   "execution_count": 86,
   "metadata": {},
   "outputs": [
    {
     "name": "stdout",
     "output_type": "stream",
     "text": [
      "Train dataset -> (7500, 2)\n",
      "Test dataset  -> (2500, 2)\n",
      "Train spam messages: 3974\n",
      "Train ham messages:  3526\n",
      "Test spam messages:  1348\n",
      "Test ham messages:   1152\n"
     ]
    }
   ],
   "source": [
    "from sklearn.utils import shuffle\n",
    "\n",
    "df_shuffled = shuffle(df_slice, random_state=42)\n",
    "\n",
    "split_ratio = 0.75\n",
    "\n",
    "df_train = df_shuffled[: int(max_index * split_ratio)].copy()\n",
    "df_test = df_shuffled[int(max_index * split_ratio) :].copy()\n",
    "\n",
    "print(\"Train dataset ->\", df_train.shape)\n",
    "print(\"Test dataset  ->\", df_test.shape)\n",
    "\n",
    "train_spam = list(df_train[df_train[\"label\"] == \"1\"].text)\n",
    "train_ham = list(df_train[df_train[\"label\"] == \"0\"].text)\n",
    "test_emails = {\n",
    "    \"spam\": list(df_test[df_test[\"label\"] == \"1\"].text),\n",
    "    \"ham\": list(df_test[df_test[\"label\"] == \"0\"].text),\n",
    "}\n",
    "\n",
    "print(\"Train spam messages:\", len(train_spam))\n",
    "print(\"Train ham messages: \", len(train_ham))\n",
    "print(\"Test spam messages: \", len(test_emails[\"spam\"]))\n",
    "print(\"Test ham messages:  \", len(test_emails[\"ham\"]))"
   ]
  },
  {
   "cell_type": "markdown",
   "metadata": {},
   "source": [
    "#### 8 - Apply the naive Bayes algorithm\n"
   ]
  },
  {
   "cell_type": "markdown",
   "metadata": {},
   "source": [
    "##### 8.1 - Vocabulary of unique words that occur in known spam emails"
   ]
  },
  {
   "cell_type": "code",
   "execution_count": 87,
   "metadata": {},
   "outputs": [
    {
     "data": {
      "text/plain": [
       "44849"
      ]
     },
     "execution_count": 87,
     "metadata": {},
     "output_type": "execute_result"
    }
   ],
   "source": [
    "vocab_words_spam = []\n",
    "\n",
    "for sentence in train_spam:\n",
    "    sentence_as_list = sentence.split()\n",
    "    for word in sentence_as_list:\n",
    "        vocab_words_spam.append(word)\n",
    "\n",
    "vocab_unique_words_spam = list(set(vocab_words_spam))\n",
    "len(vocab_unique_words_spam)"
   ]
  },
  {
   "cell_type": "markdown",
   "metadata": {},
   "source": [
    "##### 8.2 - Determine the probability that each word belongs to spam and apply smoothing"
   ]
  },
  {
   "cell_type": "code",
   "execution_count": 88,
   "metadata": {},
   "outputs": [
    {
     "data": {
      "text/plain": [
       "44849"
      ]
     },
     "execution_count": 88,
     "metadata": {},
     "output_type": "execute_result"
    }
   ],
   "source": [
    "dict_spamicity = {}\n",
    "for w in vocab_unique_words_spam:\n",
    "    emails_with_w = 0\n",
    "    for sentence in train_spam:\n",
    "        if w in sentence:\n",
    "            emails_with_w+=1\n",
    "\n",
    "    total_spam = len(train_spam)\n",
    "    spamicity = (emails_with_w+1)/(total_spam+2)\n",
    "    dict_spamicity[w.lower()] = spamicity\n",
    "\n",
    "len(dict_spamicity)"
   ]
  },
  {
   "cell_type": "markdown",
   "metadata": {},
   "source": [
    "##### 8.3 - Vocabulary of unique words that occur in known ham emails"
   ]
  },
  {
   "cell_type": "code",
   "execution_count": 89,
   "metadata": {},
   "outputs": [
    {
     "data": {
      "text/plain": [
       "40559"
      ]
     },
     "execution_count": 89,
     "metadata": {},
     "output_type": "execute_result"
    }
   ],
   "source": [
    "vocab_words_ham = []\n",
    "for sentence in train_ham:\n",
    "    sentence_as_list = sentence.split()\n",
    "    for word in sentence_as_list:\n",
    "        vocab_words_ham.append(word)\n",
    "\n",
    "vocab_unique_words_ham = list(set(vocab_words_ham))\n",
    "\n",
    "dict_hamicity = {}\n",
    "for w in vocab_unique_words_ham:\n",
    "    emails_with_w = 0\n",
    "    for sentence in train_ham:\n",
    "        if w in sentence:\n",
    "            emails_with_w += 1\n",
    "\n",
    "    total_ham = len(train_ham)\n",
    "    Hamicity = (emails_with_w + 1) / (total_ham + 2)  # Smoothing applied\n",
    "    dict_hamicity[w.lower()] = Hamicity\n",
    "\n",
    "len(vocab_unique_words_ham)"
   ]
  },
  {
   "cell_type": "markdown",
   "metadata": {},
   "source": [
    "##### 8.4 - Calculate the probability of spam `P(S)` and an important message `P(H)`"
   ]
  },
  {
   "cell_type": "code",
   "execution_count": 90,
   "metadata": {},
   "outputs": [
    {
     "name": "stdout",
     "output_type": "stream",
     "text": [
      "0.5298666666666667\n",
      "0.47013333333333335\n"
     ]
    }
   ],
   "source": [
    "prob_spam = len(train_spam) / (len(train_spam) + (len(train_ham)))\n",
    "print(prob_spam)\n",
    "\n",
    "prob_ham = len(train_ham) / (len(train_spam) + (len(train_ham)))\n",
    "print(prob_ham)"
   ]
  },
  {
   "cell_type": "markdown",
   "metadata": {},
   "source": [
    "##### 8.5 - For messages without markup (test messages), create a list of words"
   ]
  },
  {
   "cell_type": "code",
   "execution_count": 92,
   "metadata": {},
   "outputs": [
    {
     "name": "stdout",
     "output_type": "stream",
     "text": [
      "Test spam:\n",
      "1348\n",
      "['always', 'slender', 'arrangement', 'track', 'kilogrammes', 'nothing', 'period', 'health', 'suddenly', 'achieve', 'click', 'gaiety', 'oprah', 'made', 'horrible', 'ground', 'wide', 'many', 'said', 'work', 'la', 'k', 'result', 'unbreakable', 'check', 'slipping', 'demanded', 'really', 'available', 'weighty', 'www', 'tremendous', 'private', 'disclosed', 'corpulent', 'http', 'vega', 'time', 'become', 'unbelievable', 'thanks', 'escapenumberi', 'take', 'bikini', 'service', 'say', 'since', 'shaking', 'significantly', 'escapelong', 'told', 'even', 'mikkey', 'world', 'pound', 'like', 'thousand', 'worthy', 'opportunity', 'attracting', 'life', 'kilo', 'fortunately', 'product', 'community', 'insanity', 'girl', 'guzzling', 'fat', 'year', 'great', 'long', 'keep', 'would', 'mode', 'sacrifice', 'enjoying', 'right', 'changed', 'worn', 'malke', 'delighted', 'customer', 'waste', 'less', 'revolutionary', 'shown', 'date', 'naturally', 'steadfast', 'extent', 'fox', 'chicago', 'rescued', 'thing', 'thinner', 'careful', 'want', 'proud', 'feel', 'much', 'better', 'add', 'anatrim', 'hk', 'thanx', 'escapenumber', 'quality', 'people', 'sturdy', 'recall', 'victoria', 'look', 'top', 'back', 'compare', 'stuff', 'user', 'big', 'loosing', 'dating', 'escapenumberre', 'escapenumbers', 'u']\n",
      "Test ham:\n",
      "1152\n",
      "['change', 'john', 'business', 'carnegie', 'interview', 'process', 'select', 'member', 'darden', 'note', 'enron', 'click', 'participate', 'cornell', 'saturday', 'lake', 'kellogg', 'december', 'ucla', 'revision', 'florida', 'result', 'thank', 'clear', 'red', 'harrison', 'uva', 'volunteer', 'requested', 'additional', 'season', 'yale', 'penn', 'october', 'director', 'know', 'time', 'friday', 'baylor', 'participating', 'utilize', 'howard', 'selecting', 'lsu', 'harvard', 'houston', 'uhmain', 'mit', 'cycle', 'weekend', 'team', 'program', 'columbia', 'november', 'pool', 'necessary', 'georgetown', 'michigan', 'president', 'save', 'wharton', 'wellesley', 'recruiting', 'upcoming', 'candidate', 'previous', 'associate', 'thunderbird', 'uhcl', 'interviewer', 'auc', 'participation', 'vice', 'email', 'based', 'school', 'schedule', 'link', 'ou', 'date', 'please', 'support', 'follow', 'manager', 'shelly', 'chicago', 'ext', 'attend', 'mellon', 'ut', 'regarding', 'also', 'vanderbilt', 'avoid', 'overflow', 'nyu', 'managing', 'appropriate', 'analyst', 'jones', 'due', 'super', 'contact', 'stern', 'number', 'rice']\n"
     ]
    }
   ],
   "source": [
    "test_spam_tokenized = []\n",
    "\n",
    "for sentence in test_emails[\"spam\"]:\n",
    "    sentence_as_list = sentence.split()\n",
    "    senten = []\n",
    "    for word in sentence_as_list:\n",
    "        senten.append(word)\n",
    "    test_spam_tokenized.append(senten)\n",
    "\n",
    "print(\"Test spam:\")\n",
    "print(len(test_spam_tokenized))\n",
    "print(test_spam_tokenized[0])\n",
    "\n",
    "test_ham_tokenized = []\n",
    "\n",
    "for sentence in test_emails[\"ham\"]:\n",
    "    sentence_as_list = sentence.split()\n",
    "    senten = []\n",
    "    for word in sentence_as_list:\n",
    "        senten.append(word)\n",
    "    test_ham_tokenized.append(senten)\n",
    "\n",
    "print(\"Test ham:\")\n",
    "print(len(test_ham_tokenized))\n",
    "print(test_ham_tokenized[0])"
   ]
  },
  {
   "cell_type": "markdown",
   "metadata": {},
   "source": [
    "#### 8.6 - Remove words that did not occur in the training data set"
   ]
  },
  {
   "cell_type": "code",
   "execution_count": 95,
   "metadata": {},
   "outputs": [
    {
     "name": "stdout",
     "output_type": "stream",
     "text": [
      "1348\n",
      "1152\n"
     ]
    }
   ],
   "source": [
    "reduced_sentences_spam_test = []\n",
    "\n",
    "for sentence in test_spam_tokenized:\n",
    "    words_ = []\n",
    "    for word in sentence:\n",
    "        if word in vocab_unique_words_spam:\n",
    "            words_.append(word)\n",
    "        elif word in vocab_unique_words_ham:\n",
    "            words_.append(word)\n",
    "    reduced_sentences_spam_test.append(words_)\n",
    "\n",
    "print(len(reduced_sentences_spam_test))\n",
    "\n",
    "reduced_sentences_ham_test = []\n",
    "\n",
    "for sentence in test_ham_tokenized:\n",
    "    words_ = []\n",
    "    for word in sentence:\n",
    "        if word in vocab_unique_words_ham:\n",
    "            words_.append(word)\n",
    "        elif word in vocab_unique_words_spam:\n",
    "            words_.append(word)\n",
    "    reduced_sentences_ham_test.append(words_)\n",
    "\n",
    "print(len(reduced_sentences_ham_test))"
   ]
  },
  {
   "cell_type": "markdown",
   "metadata": {},
   "source": [
    "##### 8.7 - Removal of non-keywords"
   ]
  },
  {
   "cell_type": "code",
   "execution_count": 98,
   "metadata": {},
   "outputs": [
    {
     "name": "stdout",
     "output_type": "stream",
     "text": [
      "Spam:\n",
      "1348\n",
      "['always', 'slender', 'arrangement', 'track', 'kilogrammes', 'nothing', 'period', 'health', 'suddenly', 'achieve', 'click', 'gaiety', 'oprah', 'made', 'horrible', 'ground', 'wide', 'many', 'said', 'work', 'la', 'k', 'result', 'unbreakable', 'check', 'slipping', 'demanded', 'really', 'available', 'weighty', 'www', 'tremendous', 'private', 'disclosed', 'corpulent', 'http', 'vega', 'time', 'become', 'unbelievable', 'thanks', 'escapenumberi', 'take', 'bikini', 'service', 'say', 'since', 'shaking', 'significantly', 'escapelong', 'told', 'even', 'mikkey', 'world', 'pound', 'like', 'thousand', 'worthy', 'opportunity', 'attracting', 'life', 'kilo', 'fortunately', 'product', 'community', 'insanity', 'girl', 'guzzling', 'fat', 'year', 'great', 'long', 'keep', 'would', 'mode', 'sacrifice', 'enjoying', 'right', 'changed', 'worn', 'delighted', 'customer', 'waste', 'less', 'revolutionary', 'shown', 'date', 'naturally', 'steadfast', 'extent', 'fox', 'chicago', 'rescued', 'thing', 'thinner', 'careful', 'want', 'proud', 'feel', 'much', 'better', 'add', 'anatrim', 'hk', 'thanx', 'escapenumber', 'quality', 'people', 'sturdy', 'recall', 'victoria', 'look', 'top', 'back', 'compare', 'stuff', 'user', 'big', 'loosing', 'dating', 'escapenumberre', 'escapenumbers']\n",
      "Ham:\n",
      "1152\n",
      "['change', 'john', 'business', 'carnegie', 'interview', 'process', 'select', 'member', 'darden', 'note', 'enron', 'click', 'participate', 'cornell', 'saturday', 'lake', 'december', 'ucla', 'revision', 'florida', 'result', 'thank', 'clear', 'red', 'harrison', 'volunteer', 'requested', 'additional', 'season', 'yale', 'penn', 'october', 'director', 'know', 'time', 'friday', 'baylor', 'participating', 'utilize', 'howard', 'selecting', 'lsu', 'harvard', 'houston', 'mit', 'cycle', 'weekend', 'team', 'program', 'columbia', 'november', 'pool', 'necessary', 'michigan', 'president', 'save', 'wharton', 'wellesley', 'recruiting', 'upcoming', 'candidate', 'previous', 'associate', 'thunderbird', 'interviewer', 'auc', 'participation', 'vice', 'email', 'based', 'school', 'schedule', 'link', 'ou', 'date', 'please', 'support', 'follow', 'manager', 'shelly', 'chicago', 'ext', 'attend', 'mellon', 'ut', 'regarding', 'also', 'vanderbilt', 'avoid', 'overflow', 'nyu', 'managing', 'appropriate', 'analyst', 'jones', 'due', 'super', 'contact', 'stern', 'number', 'rice']\n"
     ]
    }
   ],
   "source": [
    "non_key = [\"us\", \"the\", \"of\", \"your\", \"a\", \"i\", \"you\", \"for\", \"u\"]\n",
    "\n",
    "test_spam_stemmed = []\n",
    "\n",
    "for email in reduced_sentences_spam_test:\n",
    "    email_stemmed = []\n",
    "    for word in email:\n",
    "        if word not in non_key:\n",
    "            email_stemmed.append(word)\n",
    "    test_spam_stemmed.append(email_stemmed)\n",
    "\n",
    "print(\"Spam:\")\n",
    "print(len(test_spam_stemmed))\n",
    "print(test_spam_stemmed[0])\n",
    "\n",
    "test_ham_stemmed = []\n",
    "\n",
    "for email in reduced_sentences_ham_test:\n",
    "    email_stemmed = []\n",
    "    for word in email:\n",
    "        if word not in non_key:\n",
    "            email_stemmed.append(word)\n",
    "    test_ham_stemmed.append(email_stemmed)\n",
    "\n",
    "print(\"Ham:\")\n",
    "print(len(test_ham_stemmed))\n",
    "print(test_ham_stemmed[0])"
   ]
  },
  {
   "cell_type": "markdown",
   "metadata": {},
   "source": [
    "##### 8.8 - Naive Bayes classifier"
   ]
  },
  {
   "cell_type": "code",
   "execution_count": 110,
   "metadata": {},
   "outputs": [],
   "source": [
    "def mult(list_):  # function to multiply all word probs together\n",
    "    total_prob = 1\n",
    "    for i in list_:\n",
    "        total_prob = total_prob * i\n",
    "    return total_prob\n",
    "\n",
    "\n",
    "def Bayes(email):\n",
    "    probs_s = []\n",
    "    probs_h = []\n",
    "    Pr_S = prob_spam\n",
    "    Pr_H = prob_ham\n",
    "\n",
    "    for word in email:\n",
    "\n",
    "        try:\n",
    "            pr_WS = dict_spamicity[word]\n",
    "        except KeyError:\n",
    "            # Apply smoothing for word not seen in spam training data, but seen in ham training\n",
    "            pr_WS = 1 / (total_spam + 2)\n",
    "\n",
    "        try:\n",
    "            pr_WH = dict_hamicity[word]\n",
    "        except KeyError:\n",
    "            # Apply smoothing for word not seen in ham training data, but seen in spam training\n",
    "            pr_WH = 1 / (total_ham + 2)\n",
    "\n",
    "        prob_word_is_spam_BAYES = pr_WS\n",
    "        prob_word_is_ham_BAYES = pr_WH\n",
    "\n",
    "        probs_s.append(prob_word_is_spam_BAYES)\n",
    "        probs_h.append(prob_word_is_ham_BAYES)\n",
    "\n",
    "    try:\n",
    "        final_classification = (\n",
    "            Pr_S * mult(probs_s) / ((Pr_S * mult(probs_s)) + (Pr_H * mult(probs_h)))\n",
    "        )\n",
    "    except ZeroDivisionError:\n",
    "        final_classification = 1\n",
    "\n",
    "    return final_classification"
   ]
  },
  {
   "cell_type": "code",
   "execution_count": 113,
   "metadata": {},
   "outputs": [
    {
     "name": "stdout",
     "output_type": "stream",
     "text": [
      "1348\n",
      "1152\n"
     ]
    }
   ],
   "source": [
    "test_spam_results = []\n",
    "\n",
    "for email in test_spam_stemmed:\n",
    "    classification = Bayes(email)\n",
    "    test_spam_results.append(classification)\n",
    "\n",
    "print(len(test_spam_results))\n",
    "\n",
    "test_ham_results = []\n",
    "\n",
    "for email in test_ham_stemmed:\n",
    "    classification = Bayes(email)\n",
    "    test_ham_results.append(classification)\n",
    "\n",
    "print(len(test_ham_results))"
   ]
  },
  {
   "cell_type": "markdown",
   "metadata": {},
   "source": [
    "#### 9 - Analyze the quality of the constructed classifier"
   ]
  },
  {
   "cell_type": "code",
   "execution_count": 120,
   "metadata": {},
   "outputs": [
    {
     "name": "stdout",
     "output_type": "stream",
     "text": [
      "2500\n",
      "2500\n"
     ]
    }
   ],
   "source": [
    "actual_labels = [*[1] * len(test_spam_results), *[0] * len(test_ham_results)]\n",
    "print(len(actual_labels))\n",
    "\n",
    "predicted_probs = [*test_spam_results, *test_ham_results]\n",
    "print(len(predicted_probs))"
   ]
  },
  {
   "cell_type": "code",
   "execution_count": 121,
   "metadata": {},
   "outputs": [
    {
     "name": "stdout",
     "output_type": "stream",
     "text": [
      "Confusion Matrix:\n",
      "[[1069   83]\n",
      " [ 304 1044]]\n"
     ]
    }
   ],
   "source": [
    "from sklearn.metrics import confusion_matrix\n",
    "\n",
    "predicted_labels = [1 if prob >= 0.5 else 0 for prob in predicted_probs]\n",
    "\n",
    "cm = confusion_matrix(actual_labels, predicted_labels)\n",
    "\n",
    "print(\"Confusion Matrix:\")\n",
    "print(cm)"
   ]
  },
  {
   "cell_type": "code",
   "execution_count": 122,
   "metadata": {},
   "outputs": [
    {
     "name": "stdout",
     "output_type": "stream",
     "text": [
      "Accuracy: 0.85\n",
      "Precision: 0.93\n",
      "Recall: 0.77\n",
      "F1-Score: 0.84\n",
      "\n",
      "Classification Report:\n",
      "               precision    recall  f1-score   support\n",
      "\n",
      "           0       0.78      0.93      0.85      1152\n",
      "           1       0.93      0.77      0.84      1348\n",
      "\n",
      "    accuracy                           0.85      2500\n",
      "   macro avg       0.85      0.85      0.85      2500\n",
      "weighted avg       0.86      0.85      0.85      2500\n",
      "\n"
     ]
    }
   ],
   "source": [
    "from sklearn.metrics import accuracy_score, precision_score, recall_score, f1_score, classification_report\n",
    "\n",
    "# Accuracy\n",
    "accuracy = accuracy_score(actual_labels, predicted_labels)\n",
    "print(f\"Accuracy: {accuracy:.2f}\")\n",
    "\n",
    "# Precision\n",
    "precision = precision_score(actual_labels, predicted_labels)\n",
    "print(f\"Precision: {precision:.2f}\")\n",
    "\n",
    "# Recall\n",
    "recall = recall_score(actual_labels, predicted_labels)\n",
    "print(f\"Recall: {recall:.2f}\")\n",
    "\n",
    "# F1-score\n",
    "f1 = f1_score(actual_labels, predicted_labels)\n",
    "print(f\"F1-Score: {f1:.2f}\")\n",
    "\n",
    "# Classification report\n",
    "report = classification_report(actual_labels, predicted_labels)\n",
    "print(\"\\nClassification Report:\\n\", report)"
   ]
  },
  {
   "cell_type": "markdown",
   "metadata": {},
   "source": [
    "The words most likely to be found in spam"
   ]
  },
  {
   "cell_type": "code",
   "execution_count": 93,
   "metadata": {},
   "outputs": [
    {
     "name": "stdout",
     "output_type": "stream",
     "text": [
      "e: 0.9969818913480886\n",
      "n: 0.9934607645875252\n",
      "r: 0.9934607645875252\n",
      "s: 0.9911971830985915\n",
      "o: 0.9909456740442656\n",
      "t: 0.9906941649899397\n",
      "c: 0.988682092555332\n",
      "l: 0.988682092555332\n",
      "p: 0.9836519114688129\n",
      "m: 0.9836519114688129\n",
      "u: 0.9781187122736419\n",
      "g: 0.9730885311871227\n",
      "h: 0.9710764587525151\n",
      "d: 0.9652917505030181\n",
      "b: 0.9529678068410463\n",
      "er: 0.9519617706237424\n",
      "y: 0.932092555331992\n",
      "v: 0.9270623742454729\n",
      "en: 0.9265593561368209\n",
      "es: 0.9149899396378269\n"
     ]
    }
   ],
   "source": [
    "n_samples = 20\n",
    "\n",
    "sorted_dict_spamicity = sorted(\n",
    "    dict_spamicity.items(), key=lambda item: item[1], reverse=True\n",
    ")[:n_samples]\n",
    "\n",
    "for word, freq in sorted_dict_spamicity:\n",
    "    print(f\"{word}: {freq}\")"
   ]
  },
  {
   "cell_type": "markdown",
   "metadata": {},
   "source": [
    "The words longer than 2 characters that most likely to be found in spam "
   ]
  },
  {
   "cell_type": "code",
   "execution_count": 94,
   "metadata": {},
   "outputs": [
    {
     "name": "stdout",
     "output_type": "stream",
     "text": [
      "ing: 0.7698692152917505\n",
      "ion: 0.6901408450704225\n",
      "ber: 0.6524144869215291\n",
      "ent: 0.6498993963782697\n",
      "pen: 0.6463782696177063\n",
      "tion: 0.630533199195171\n",
      "mbe: 0.6232394366197183\n",
      "mber: 0.6204728370221329\n",
      "com: 0.5953219315895373\n",
      "ter: 0.5865191146881288\n",
      "ape: 0.5809859154929577\n",
      "pro: 0.5809859154929577\n",
      "cap: 0.5807344064386318\n",
      "num: 0.5764587525150905\n",
      "umber: 0.5709255533199196\n",
      "numb: 0.5696680080482898\n",
      "numbe: 0.5689134808853119\n",
      "number: 0.5689134808853119\n",
      "est: 0.5666498993963782\n",
      "ati: 0.5487927565392354\n"
     ]
    }
   ],
   "source": [
    "n_samples = 20\n",
    "\n",
    "sorted_dict_spamicity = sorted(\n",
    "    dict_spamicity.items(), key=lambda item: item[1], reverse=True\n",
    ")\n",
    "\n",
    "counter = 0\n",
    "for word, freq in sorted_dict_spamicity:\n",
    "    if len(word) > 2:\n",
    "        print(f\"{word}: {freq}\")\n",
    "        counter += 1\n",
    "        if counter == n_samples:\n",
    "            break"
   ]
  },
  {
   "cell_type": "markdown",
   "metadata": {},
   "source": [
    "### Conclusion:\n",
    "\n",
    "This spam detection model, built on the naive Bayes algorithm, showed a fairly good accuracy of about 85% on the Email Spam Classification Dataset. The model detected 93% of spam messages, but did a worse job of recognizing ham messages, only 78% were interpreted correctly. That is, the model has a tendency to send normal messages to spam.\n",
    "\n",
    "It is interesting to note that the most spammy words are words consisting of one or two letters. This can be explained by the fact that attackers, in an attempt to bypass spam detection algorithms, write messages with errors or replace certain letters with special characters so that the algorithm does not recognize a spam word. Thus, after tokenization, one word can be split into several parts, which is why a large number of one-letter tokens appear in spam messages after processing. Their presence in itself is already a sign of possible spam."
   ]
  }
 ],
 "metadata": {
  "kernelspec": {
   "display_name": ".venv",
   "language": "python",
   "name": "python3"
  },
  "language_info": {
   "codemirror_mode": {
    "name": "ipython",
    "version": 3
   },
   "file_extension": ".py",
   "mimetype": "text/x-python",
   "name": "python",
   "nbconvert_exporter": "python",
   "pygments_lexer": "ipython3",
   "version": "3.12.4"
  }
 },
 "nbformat": 4,
 "nbformat_minor": 2
}
