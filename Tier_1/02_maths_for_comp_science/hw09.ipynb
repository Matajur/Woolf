{
 "cells": [
  {
   "cell_type": "markdown",
   "metadata": {},
   "source": [
    "## Tier 1. Module: Matematics for Computer Science\n",
    "## Topic 9 - Optimization tasks\n",
    "## Homework"
   ]
  },
  {
   "cell_type": "markdown",
   "metadata": {},
   "source": [
    "### Description"
   ]
  },
  {
   "cell_type": "markdown",
   "metadata": {},
   "source": [
    "The company performs three types of services, the income from which is not the same, and due to the lack of concentration on the most profitable product, it does not make a profit. Your task is to formulate the task of optimizing the development process in the company under such conditions.\n",
    "\n",
    "Designers, developers and testers are involved in the process. The company has two designers, the labor pool of each of them is 160 hours per month. There are also two programmers, but their total labor pool is only 192 hours. There is one tester, but he works overtime - 180 hours.\n",
    "\n",
    "The company can create websites, online stores and ERP integration. The cost of the development service and the working hours of specialists for each type of work are as follows:\n",
    "\n",
    "```markdown\n",
    "  Type of works  |  Designers  | Developers |   Testers   | Price, $ thousand\n",
    "-----------------|-------------|------------|-------------|-------------------\n",
    "Sites            |  12 hours   |  12 hours  |   12 hours  |         2\n",
    "Internet-shop    |   6 hours   |  24 hours  |   18 hours  |         9\n",
    "ERP integration  |   2 hours   |  18 hours  |   12 hours  |         6\n",
    "```\n",
    "Find out which services are more profitable to provide in order to get the maximum profit. For this:\n",
    "* Form the revenue objective function based on the cost of services. Take the number of jobs of each type as variables.\n",
    "* Write a constraint system based on conditions. Do not forget to take into account the working hours of specialists for each type of work, the monthly workload of specialists and the impossibility of negative values.\n",
    "* Find the optimal distribution of services using the SciPy library, as was done in the abstract.\n",
    "* Find the total monthly income of the company with the optimal distribution of functions. Draw conclusions."
   ]
  },
  {
   "cell_type": "markdown",
   "metadata": {},
   "source": [
    "### Resolution"
   ]
  },
  {
   "cell_type": "markdown",
   "metadata": {},
   "source": [
    "Let's introduce the following notations:\\\n",
    "$ x = \\{x_i = \\overline{1,3}\\} $,\\\n",
    "where $x$ — monthly number of works of the type $i$ (website, online store and integration)."
   ]
  },
  {
   "cell_type": "markdown",
   "metadata": {},
   "source": [
    "Restrictions on designers:\\\n",
    "$12x_1 + 6x_2 + 2x_3 \\le 320$"
   ]
  },
  {
   "cell_type": "markdown",
   "metadata": {},
   "source": [
    "Restrictions on developers:\\\n",
    "$12x_1 + 24x_2 + 18x_3 \\le 192$"
   ]
  },
  {
   "cell_type": "markdown",
   "metadata": {},
   "source": [
    "Restrictions on testers:\\\n",
    "$12x_1 + 18x_2 + 12x_3 \\le 160$"
   ]
  },
  {
   "cell_type": "markdown",
   "metadata": {},
   "source": [
    "General restriction:\\\n",
    "$x_i \\ge 0$"
   ]
  },
  {
   "cell_type": "markdown",
   "metadata": {},
   "source": [
    "The company will maximize its profit in the eventу:\\\n",
    "$ 2x_1 + 9x_2 + 6x_3 → max $,\\\n",
    "or after replacing the sign of the objective function with the opposite for the software solution of the problem:\\\n",
    "$ -2x_1 - 9x_2 - 6x_3 → min $"
   ]
  },
  {
   "cell_type": "markdown",
   "metadata": {},
   "source": [
    "### Program resolution"
   ]
  },
  {
   "cell_type": "code",
   "execution_count": 1,
   "metadata": {},
   "outputs": [
    {
     "name": "stdout",
     "output_type": "stream",
     "text": [
      "        message: Optimization terminated successfully. (HiGHS Status 7: Optimal)\n",
      "        success: True\n",
      "         status: 0\n",
      "            fun: -72.0\n",
      "              x: [ 0.000e+00  8.000e+00  0.000e+00]\n",
      "            nit: 1\n",
      "          lower:  residual: [ 0.000e+00  8.000e+00  0.000e+00]\n",
      "                 marginals: [ 3.500e+00  0.000e+00  7.500e-01]\n",
      "          upper:  residual: [       inf        inf        inf]\n",
      "                 marginals: [ 0.000e+00  0.000e+00  0.000e+00]\n",
      "          eqlin:  residual: []\n",
      "                 marginals: []\n",
      "        ineqlin:  residual: [ 2.720e+02  0.000e+00  1.600e+01  0.000e+00\n",
      "                              8.000e+00  0.000e+00]\n",
      "                 marginals: [-0.000e+00 -3.750e-01 -0.000e+00 -0.000e+00\n",
      "                             -0.000e+00 -0.000e+00]\n",
      " mip_node_count: 0\n",
      " mip_dual_bound: 0.0\n",
      "        mip_gap: 0.0\n",
      "Time: \n",
      "0.01486349105834961\n"
     ]
    }
   ],
   "source": [
    "import time\n",
    "from scipy.optimize import linprog\n",
    "\n",
    "start = time.time()\n",
    "\n",
    "c = [-1, -9, -6]  # Objective function to be maximized (sign reversed)\n",
    "A_ub = [\n",
    "    [12, 6, 2],\n",
    "    [12, 24, 18],\n",
    "    [12, 18, 12],\n",
    "    [-1, 0, 0],\n",
    "    [0, -1, 0],\n",
    "    [0, 0, -1],\n",
    "]  # Coefficients with inequalities\n",
    "b_ub = [320, 192, 160, 0, 0, 0]  # Results for inequalities\n",
    "\n",
    "print(linprog(c, A_ub, b_ub))  # Optimization\n",
    "\n",
    "stop = time.time()\n",
    "print(\"Time: \")\n",
    "print(stop - start)"
   ]
  },
  {
   "cell_type": "markdown",
   "metadata": {},
   "source": [
    "### Conclusion:"
   ]
  },
  {
   "cell_type": "markdown",
   "metadata": {},
   "source": [
    "It is profitable for the company to deal only with online stores. In this case, she will be able to create 8 of them within a month and earn $72,000. At the same time, the company has a surplus of designers for this type of work, only 54 hours are used from the total labor pool of 320 hours. It will be more profitable for the company to retrain one designer into a developer in order to increase the number of sites taken on each month."
   ]
  }
 ],
 "metadata": {
  "kernelspec": {
   "display_name": "Python 3",
   "language": "python",
   "name": "python3"
  },
  "language_info": {
   "codemirror_mode": {
    "name": "ipython",
    "version": 3
   },
   "file_extension": ".py",
   "mimetype": "text/x-python",
   "name": "python",
   "nbconvert_exporter": "python",
   "pygments_lexer": "ipython3",
   "version": "3.12.3"
  }
 },
 "nbformat": 4,
 "nbformat_minor": 2
}
