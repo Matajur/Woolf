{
 "cells": [
  {
   "cell_type": "markdown",
   "metadata": {},
   "source": [
    "## Tier 1. Module 3: Basic Algorithms and Data Structures\n",
    "## Topic 3 - Recursive functions, algorithms and examples of their application\n",
    "## Homework"
   ]
  },
  {
   "cell_type": "markdown",
   "metadata": {},
   "source": [
    "### Task 1"
   ]
  },
  {
   "cell_type": "markdown",
   "metadata": {},
   "source": [
    "Напишіть програму на Python, яка рекурсивно копіює файли у вихідній директорії, переміщає їх до нової директорії та сортує в піддиректорії, назви яких базуються на розширенні файлів.\n",
    "\n",
    "Також візьміть до уваги наступні умови:\n",
    "\n",
    "1. Парсинг аргументів. Скрипт має приймати два аргументи командного рядка: шлях до вихідної директорії та шлях до директорії призначення (за замовчуванням, якщо тека призначення не була передана, вона повинна бути з назвою dist).\n",
    "\n",
    "2. Рекурсивне читання директорій:\n",
    "\n",
    "* Має бути написана функція, яка приймає шлях до директорії як аргумент.\n",
    "* Функція має перебирати всі елементи у директорії.\n",
    "* Якщо елемент є директорією, функція повинна викликати саму себе рекурсивно для цієї директорії.\n",
    "* Якщо елемент є файлом, він має бути доступним для копіювання.\n",
    "\n",
    "3. Копіювання файлів:\n",
    "\n",
    "* Для кожного типу файлів має бути створений новий шлях у вихідній директорії, використовуючи розширення файлу для назви піддиректорії.\n",
    "* Файл з відповідним типом має бути скопійований у відповідну піддиректорію.\n",
    "\n",
    "4. Обробка винятків. Код має правильно обробляти винятки, наприклад, помилки доступу до файлів або директорій."
   ]
  },
  {
   "cell_type": "code",
   "execution_count": 2,
   "metadata": {},
   "outputs": [],
   "source": [
    "# see hw03_1.py for the code"
   ]
  },
  {
   "cell_type": "markdown",
   "metadata": {},
   "source": [
    "### Task 2"
   ]
  },
  {
   "cell_type": "markdown",
   "metadata": {},
   "source": [
    "Напишіть програму на Python, яка використовує рекурсію для створення фракталу «сніжинка Коха» за умови, що користувач повинен мати можливість вказати рівень рекурсії."
   ]
  },
  {
   "cell_type": "code",
   "execution_count": 1,
   "metadata": {},
   "outputs": [],
   "source": [
    "import turtle\n",
    "\n",
    "\n",
    "def koch_snowflake(t: turtle, order: int, size: int) -> None:\n",
    "    \"\"\"\n",
    "    Recursive function of creating one segment of the Koch snowflake\n",
    "\n",
    "    :param t: 'turtle' graphics tool object that draws a snowflake\n",
    "    :param order: depth of recursion (the higher the number, the more\n",
    "    spikes the curve has)\n",
    "    :param size: segment length (default: 300)\n",
    "    return: None (function draws 1 segment of the Koch snowflake using\n",
    "    the 'turtle' graphic tool)\n",
    "    \"\"\"\n",
    "    if order == 0:\n",
    "        t.forward(size)\n",
    "    else:\n",
    "        for angle in [60, -120, 60, 0]:\n",
    "            koch_snowflake(t, order - 1, size / 3)\n",
    "            t.left(angle)\n",
    "\n",
    "\n",
    "def draw_koch_snowflake(order: int, size: int = 300) -> None:\n",
    "    \"\"\"\n",
    "    Function to set and draw complete Koch snowflake that consists of\n",
    "    3 segments at an angle of 120 degrees each\n",
    "\n",
    "    :param order: depth of recursion (the higher the number, the more\n",
    "    spikes the curve has)\n",
    "    :param size: segment length (default: 300)\n",
    "    return: None (function draws Koch snowflake using the 'turtle'\n",
    "    graphic tool)\n",
    "    \"\"\"\n",
    "    # Setup turtle\n",
    "    window = turtle.Screen()\n",
    "    window.bgcolor(\"white\")\n",
    "    window.title(f\"Koch Snowflake Fractal, Order: {order}\")\n",
    "\n",
    "    # Initialize turtle\n",
    "    my_turtle = turtle.Turtle()\n",
    "    my_turtle.color(\"blue\")\n",
    "    my_turtle.speed(0)\n",
    "    my_turtle.penup()\n",
    "    my_turtle.goto(-size / 2, 90)\n",
    "    my_turtle.pendown()\n",
    "\n",
    "    # Draw the Koch snowflake\n",
    "    for _ in range(3):\n",
    "        koch_snowflake(my_turtle, order, size)\n",
    "        my_turtle.right(120)\n",
    "\n",
    "    # Display the result\n",
    "    window.mainloop()\n",
    "\n",
    "\n",
    "# Testing\n",
    "order = int(input(\"Enter the level of recursion (an integer >= 0): \"))\n",
    "draw_koch_snowflake(order)"
   ]
  },
  {
   "cell_type": "markdown",
   "metadata": {},
   "source": [
    "### Task 3"
   ]
  },
  {
   "cell_type": "markdown",
   "metadata": {},
   "source": [
    "Ханойські башти\n",
    "\n",
    "Напишіть програму, яка виконує переміщення дисків з стрижня А на стрижень С, використовуючи стрижень В як допоміжний. Диски мають різний розмір і розміщені на початковому стрижні у порядку зменшення розміру зверху вниз."
   ]
  },
  {
   "attachments": {
    "image.png": {
     "image/png": "[encoded data removed]"
    }
   },
   "cell_type": "markdown",
   "metadata": {},
   "source": [
    "![image.png](attachment:image.png)"
   ]
  },
  {
   "cell_type": "markdown",
   "metadata": {},
   "source": [
    "Правила:\n",
    "1. За один крок можна перемістити тільки один диск.\n",
    "2. Диск можна класти тільки на більший диск або на порожній стрижень.\n",
    "Вхідними даними програми має бути число n — кількість дисків на початковому стрижні. Вихідними даними — логування послідовності кроків для переміщення дисків зі стрижня А на стрижень С."
   ]
  },
  {
   "cell_type": "code",
   "execution_count": 3,
   "metadata": {},
   "outputs": [
    {
     "name": "stdout",
     "output_type": "stream",
     "text": [
      "Steps to move disks from rod A to rod C:\n",
      "Move disk 1 from rod A to rod B\n",
      "Move disk 2 from rod A to rod C\n",
      "Move disk 1 from rod B to rod C\n",
      "Move disk 3 from rod A to rod B\n",
      "Move disk 1 from rod C to rod A\n",
      "Move disk 2 from rod C to rod B\n",
      "Move disk 1 from rod A to rod B\n",
      "Move disk 4 from rod A to rod C\n",
      "Move disk 1 from rod B to rod C\n",
      "Move disk 2 from rod B to rod A\n",
      "Move disk 1 from rod C to rod A\n",
      "Move disk 3 from rod B to rod C\n",
      "Move disk 1 from rod A to rod B\n",
      "Move disk 2 from rod A to rod C\n",
      "Move disk 1 from rod B to rod C\n",
      "Move disk 5 from rod A to rod B\n",
      "Move disk 1 from rod C to rod A\n",
      "Move disk 2 from rod C to rod B\n",
      "Move disk 1 from rod A to rod B\n",
      "Move disk 3 from rod C to rod A\n",
      "Move disk 1 from rod B to rod C\n",
      "Move disk 2 from rod B to rod A\n",
      "Move disk 1 from rod C to rod A\n",
      "Move disk 4 from rod C to rod B\n",
      "Move disk 1 from rod A to rod B\n",
      "Move disk 2 from rod A to rod C\n",
      "Move disk 1 from rod B to rod C\n",
      "Move disk 3 from rod A to rod B\n",
      "Move disk 1 from rod C to rod A\n",
      "Move disk 2 from rod C to rod B\n",
      "Move disk 1 from rod A to rod B\n",
      "Move disk 6 from rod A to rod C\n",
      "Move disk 1 from rod B to rod C\n",
      "Move disk 2 from rod B to rod A\n",
      "Move disk 1 from rod C to rod A\n",
      "Move disk 3 from rod B to rod C\n",
      "Move disk 1 from rod A to rod B\n",
      "Move disk 2 from rod A to rod C\n",
      "Move disk 1 from rod B to rod C\n",
      "Move disk 4 from rod B to rod A\n",
      "Move disk 1 from rod C to rod A\n",
      "Move disk 2 from rod C to rod B\n",
      "Move disk 1 from rod A to rod B\n",
      "Move disk 3 from rod C to rod A\n",
      "Move disk 1 from rod B to rod C\n",
      "Move disk 2 from rod B to rod A\n",
      "Move disk 1 from rod C to rod A\n",
      "Move disk 5 from rod B to rod C\n",
      "Move disk 1 from rod A to rod B\n",
      "Move disk 2 from rod A to rod C\n",
      "Move disk 1 from rod B to rod C\n",
      "Move disk 3 from rod A to rod B\n",
      "Move disk 1 from rod C to rod A\n",
      "Move disk 2 from rod C to rod B\n",
      "Move disk 1 from rod A to rod B\n",
      "Move disk 4 from rod A to rod C\n",
      "Move disk 1 from rod B to rod C\n",
      "Move disk 2 from rod B to rod A\n",
      "Move disk 1 from rod C to rod A\n",
      "Move disk 3 from rod B to rod C\n",
      "Move disk 1 from rod A to rod B\n",
      "Move disk 2 from rod A to rod C\n",
      "Move disk 1 from rod B to rod C\n"
     ]
    }
   ],
   "source": [
    "def tower_of_hanoi(\n",
    "    number_of_disks: int, source_rod: str, auxiliary_rod: str, target_rod: str\n",
    ") -> None:\n",
    "    \"\"\"\n",
    "    Recursive function that moves disks from rod A to rod C, using rod B as an\n",
    "    auxiliary.\n",
    "\n",
    "    :param number_of_disks: number of disks on the initial rod\n",
    "    :params source_rod, auxiliary_rod, target_rod: designation of initial,\n",
    "    intermediate and the target rods\n",
    "    return: None (function prints current activity with a specific disk)\n",
    "    \"\"\"\n",
    "    if number_of_disks == 1:\n",
    "        print(f\"Move disk 1 from rod {source_rod} to rod {target_rod}\")\n",
    "        return\n",
    "    tower_of_hanoi(number_of_disks - 1, source_rod, target_rod, auxiliary_rod)\n",
    "    print(f\"Move disk {number_of_disks} from rod {source_rod} to rod {target_rod}\")\n",
    "    tower_of_hanoi(number_of_disks - 1, auxiliary_rod, source_rod, target_rod)\n",
    "\n",
    "\n",
    "# Testing\n",
    "number_of_disks = int(input(\"Enter the number of disks on the initial rod: \"))\n",
    "print(\"Steps to move disks from rod A to rod C:\")\n",
    "tower_of_hanoi(number_of_disks, \"A\", \"B\", \"C\")"
   ]
  }
 ],
 "metadata": {
  "kernelspec": {
   "display_name": "Python 3",
   "language": "python",
   "name": "python3"
  },
  "language_info": {
   "codemirror_mode": {
    "name": "ipython",
    "version": 3
   },
   "file_extension": ".py",
   "mimetype": "text/x-python",
   "name": "python",
   "nbconvert_exporter": "python",
   "pygments_lexer": "ipython3",
   "version": "3.12.3"
  }
 },
 "nbformat": 4,
 "nbformat_minor": 2
}
