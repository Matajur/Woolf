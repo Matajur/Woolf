{
 "cells": [
  {
   "cell_type": "markdown",
   "metadata": {},
   "source": [
    "## Tier 1. Module 3: Basic Algorithms and Data Structures\n",
    "\n",
    "## Topic 8 - Piles\n",
    "\n",
    "## Homework"
   ]
  },
  {
   "cell_type": "markdown",
   "metadata": {},
   "source": [
    "### Task 1"
   ]
  },
  {
   "cell_type": "markdown",
   "metadata": {},
   "source": [
    "There are several network cables of different lengths, they must be combined two at a time into one cable using connectors, in the order that will result in the lowest costs. The cost of connecting two cables is equal to the sum of their lengths, and the total cost is equal to the sum of connecting all cables.\n",
    "\n",
    "The task is to find a joining order that minimizes the total costs."
   ]
  },
  {
   "cell_type": "code",
   "execution_count": 2,
   "metadata": {},
   "outputs": [
    {
     "name": "stdout",
     "output_type": "stream",
     "text": [
      "Final joined cable length: 23\n",
      "Total cost: 51\n"
     ]
    }
   ],
   "source": [
    "import heapq\n",
    "\n",
    "\n",
    "def connect_cables(cables: list) -> tuple[int, int]:\n",
    "    total_cost = 0\n",
    "\n",
    "    heapq.heapify(cables)  # build a minimum heap from the cables\n",
    "\n",
    "    while len(cables) > 1:  # pull 2 shortest cables from the heap\n",
    "        shortest_cable_1 = heapq.heappop(cables)\n",
    "        shortest_cable_2 = heapq.heappop(cables)\n",
    "\n",
    "        connected_length = shortest_cable_1 + shortest_cable_2  # and join them\n",
    "        total_cost += connected_length\n",
    "\n",
    "        heapq.heappush(cables, connected_length)  # put joined cable back to the heap\n",
    "\n",
    "    final_cable = heapq.heappop(cables)  # the last remained cable in the heap\n",
    "\n",
    "    return final_cable, total_cost\n",
    "\n",
    "\n",
    "# testing\n",
    "cable_lengths = [4, 2, 6, 8, 3]\n",
    "final_cable, total_cost = connect_cables(cable_lengths)\n",
    "print(\"Final joined cable length:\", final_cable)\n",
    "print(\"Total cost:\", total_cost)"
   ]
  },
  {
   "cell_type": "markdown",
   "metadata": {},
   "source": [
    "### Task 2"
   ]
  },
  {
   "cell_type": "markdown",
   "metadata": {},
   "source": [
    "Given `k` sorted lists of integers. Your task is to combine them into one sorted list. Now, when running a task, you must use a minimal heap to efficiently merge multiple sorted lists into a single sorted list. Implement a `merge_k_lists` function that takes as input a list of sorted lists and returns a sorted list."
   ]
  },
  {
   "cell_type": "markdown",
   "metadata": {},
   "source": [
    "#### 2.1 - Step-by-step implementation"
   ]
  },
  {
   "cell_type": "code",
   "execution_count": 35,
   "metadata": {},
   "outputs": [
    {
     "name": "stdout",
     "output_type": "stream",
     "text": [
      "Sorted list: [1, 1, 2, 3, 4, 4, 5, 6]\n"
     ]
    }
   ],
   "source": [
    "import heapq\n",
    "\n",
    "\n",
    "def merge_k_lists(lists: list[list, list]) -> list:\n",
    "    heap = []\n",
    "\n",
    "    # create a heap of first elements from each list along with their list indeces\n",
    "    for i, lst in enumerate(lists):\n",
    "        if lst:\n",
    "            heapq.heappush(heap, (lst[0], i, 0))  # (value, list index, index in list)\n",
    "\n",
    "    merged_list = []\n",
    "\n",
    "    while heap:\n",
    "        # pop the smallest element from the heap\n",
    "        value, list_index, index_in_list = heapq.heappop(heap)\n",
    "\n",
    "        merged_list.append(value)  # add the popped value to the merged list\n",
    "\n",
    "        # move to the next element in the corresponding list\n",
    "        if index_in_list + 1 < len(lists[list_index]):\n",
    "            next_value = lists[list_index][index_in_list + 1]\n",
    "            heapq.heappush(heap, (next_value, list_index, index_in_list + 1))\n",
    "\n",
    "    return merged_list\n",
    "\n",
    "\n",
    "# testing\n",
    "lists = [[1, 4, 5], [1, 3, 4], [2, 6]]\n",
    "merged_list = merge_k_lists(lists)\n",
    "print(\"Sorted list:\", merged_list)"
   ]
  },
  {
   "cell_type": "markdown",
   "metadata": {},
   "source": [
    "#### 2.2 - Straightforward implementation"
   ]
  },
  {
   "cell_type": "code",
   "execution_count": 36,
   "metadata": {},
   "outputs": [
    {
     "name": "stdout",
     "output_type": "stream",
     "text": [
      "Sorted list: [1, 1, 2, 3, 4, 4, 5, 6]\n"
     ]
    }
   ],
   "source": [
    "import heapq\n",
    "\n",
    "\n",
    "def merge_k_lists_alt(lists: list[list, list]) -> list:\n",
    "    heap = lists[0]\n",
    "    \n",
    "    if len(lists) > 1:\n",
    "        for lst in lists[1:]:\n",
    "            for element in lst:\n",
    "                heapq.heappush(heap, element)\n",
    "\n",
    "    merged_list = []\n",
    "    \n",
    "    while heap:\n",
    "        merged_list.append(heapq.heappop(heap))\n",
    "\n",
    "    return merged_list\n",
    "\n",
    "\n",
    "# testing\n",
    "lists = [[1, 4, 5], [1, 3, 4], [2, 6]]\n",
    "merged_list = merge_k_lists_alt(lists)\n",
    "print(\"Sorted list:\", merged_list)"
   ]
  },
  {
   "cell_type": "markdown",
   "metadata": {},
   "source": [
    "#### 2.3 - Merge sort algorithm"
   ]
  },
  {
   "cell_type": "code",
   "execution_count": 37,
   "metadata": {},
   "outputs": [
    {
     "name": "stdout",
     "output_type": "stream",
     "text": [
      "Sorted list: [1, 1, 2, 3, 4, 4, 5, 6]\n"
     ]
    }
   ],
   "source": [
    "def merge(left: list, right: list) -> list:\n",
    "    \"\"\"\n",
    "    A function to merge two separate lists into one sorted list\n",
    "\n",
    "    :params left & right: two lists to be merged\n",
    "    :return: merged and sorted list\n",
    "    \"\"\"\n",
    "    merged = []\n",
    "    left_idx, right_idx = 0, 0\n",
    "\n",
    "    while left_idx < len(left) and right_idx < len(right):\n",
    "        if left[left_idx] < right[right_idx]:\n",
    "            merged.append(left[left_idx])\n",
    "            left_idx += 1\n",
    "        else:\n",
    "            merged.append(right[right_idx])\n",
    "            right_idx += 1\n",
    "\n",
    "    merged.extend(left[left_idx:])\n",
    "    merged.extend(right[right_idx:])\n",
    "\n",
    "    return merged\n",
    "\n",
    "\n",
    "def merge_k_lists_msa(lists: list[list, list]) -> list:\n",
    "    \"\"\"\n",
    "    Function to merge sorted arrays (lists or tuples)\n",
    "\n",
    "    :param lists: a list that includes other lists (or tuples) to\n",
    "    be merged using an outer function\n",
    "    :return: merged and sorted list\n",
    "    \"\"\"\n",
    "    if not lists:\n",
    "        return []\n",
    "\n",
    "    while len(lists) > 1:\n",
    "        merged = []\n",
    "        for i in range(0, len(lists), 2):\n",
    "            if i + 1 < len(lists):\n",
    "                merged.append(merge(lists[i], lists[i + 1]))\n",
    "            else:\n",
    "                merged.append(lists[i])\n",
    "        lists = merged\n",
    "\n",
    "    return lists[0]\n",
    "\n",
    "\n",
    "# testing\n",
    "lists = [[1, 4, 5], [1, 3, 4], [2, 6]]\n",
    "merged_list = merge_k_lists_msa(lists)\n",
    "print(\"Sorted list:\", merged_list)"
   ]
  },
  {
   "cell_type": "markdown",
   "metadata": {},
   "source": [
    "#### 2.4 - Testing conditions"
   ]
  },
  {
   "cell_type": "code",
   "execution_count": 29,
   "metadata": {},
   "outputs": [],
   "source": [
    "import timeit\n",
    "import random\n",
    "\n",
    "\n",
    "def generate_10_sorted_lists(size: int) -> list:\n",
    "    \"\"\"\n",
    "    Function to generate 10 random sotred lists\n",
    "\n",
    "    :param size: size of the lests to be generated\n",
    "    :return: list of sorted lists\n",
    "    \"\"\"\n",
    "    result = []\n",
    "    for _ in range(10):\n",
    "        random_list = [random.randint(0, 1000000) for _ in range(size)]\n",
    "        result.append(sorted(random_list))\n",
    "    return result\n",
    "\n",
    "\n",
    "def test_algorithms(algorithms: dict, data_sizes: list) -> dict:\n",
    "    \"\"\"\n",
    "    Function for testing sorting algorithms on randomly generated lists of\n",
    "    numbers\n",
    "\n",
    "    :param algorithms: a dictionary, where the keys are algorithm names, and\n",
    "    the values are functions or methods with an implemented sorting algorithm\n",
    "    :param data_sizes: a list of integer values representing the length of\n",
    "    random arrays to be generated for testing algorithms\n",
    "    :return: a dictionary with algorithm names as keys and times spent sorting\n",
    "    random arrays as values\n",
    "    \"\"\"\n",
    "    results = {}\n",
    "    for algo_name, algo_func in algorithms.items():\n",
    "        results[algo_name] = {}\n",
    "        for size in data_sizes:\n",
    "            data = generate_10_sorted_lists(size)\n",
    "            time_taken = timeit.timeit(lambda: algo_func(data.copy()), number=10)\n",
    "            results[algo_name][size] = time_taken\n",
    "    return results"
   ]
  },
  {
   "cell_type": "markdown",
   "metadata": {},
   "source": [
    "#### 2.5 - Testing"
   ]
  },
  {
   "cell_type": "code",
   "execution_count": 34,
   "metadata": {},
   "outputs": [
    {
     "name": "stdout",
     "output_type": "stream",
     "text": [
      "Algorithm: Step-by-Step Heap\n",
      "Data size: 1000    Time taken: 0.051670 seconds\n",
      "Data size: 10000   Time taken: 0.483353 seconds\n",
      "Data size: 100000  Time taken: 5.695681 seconds\n",
      "\n",
      "Algorithm: Straightforward Heap\n",
      "Data size: 1000    Time taken: 0.024670 seconds\n",
      "Data size: 10000   Time taken: 0.392984 seconds\n",
      "Data size: 100000  Time taken: 8.390274 seconds\n",
      "\n",
      "Algorithm: Merge Sort\n",
      "Data size: 1000    Time taken: 0.058170 seconds\n",
      "Data size: 10000   Time taken: 0.657850 seconds\n",
      "Data size: 100000  Time taken: 10.604611 seconds\n",
      "\n",
      "Algorithm: Timsort (Python built-in)\n",
      "Data size: 1000    Time taken: 0.000015 seconds\n",
      "Data size: 10000   Time taken: 0.000011 seconds\n",
      "Data size: 100000  Time taken: 0.000016 seconds\n",
      "\n"
     ]
    }
   ],
   "source": [
    "algorithms = {\n",
    "    \"Step-by-Step Heap\": merge_k_lists,\n",
    "    \"Straightforward Heap\": merge_k_lists_alt,\n",
    "    \"Merge Sort\": merge_k_lists_msa,\n",
    "    \"Timsort (Python built-in)\": sorted,\n",
    "}\n",
    "data_sizes = [1000, 10000, 100000]\n",
    "\n",
    "results = test_algorithms(algorithms, data_sizes)\n",
    "for algo, timings in results.items():\n",
    "    print(f\"Algorithm: {algo}\")\n",
    "    for size, time_taken in timings.items():\n",
    "        print(f\"Data size: {size:<7} Time taken: {time_taken:.6f} seconds\")\n",
    "    print()"
   ]
  },
  {
   "cell_type": "markdown",
   "metadata": {},
   "source": [
    "#### Conclusion:"
   ]
  },
  {
   "cell_type": "markdown",
   "metadata": {},
   "source": [
    "Python's built-in Timsort is the fastest way to concatenate sorted lists (primarily because it's implemented in Python in C). Characteristically, thanks to its optimizations, Timsort works equally fast regardless of the size of the sorted arrays.\n",
    "\n",
    "Dumping all sorted lists into one heap and then removing the smallest elements one at a time is the second fastest way to merge for small sorted arrays. But as arrays grow, another (stepwise) implementation of the heap, where elements are added and removed from the heap one by one, catches up with the direct implementation.\n",
    "\n",
    "It is obvious that the step-by-step implementation has linear time complexity, and the straight-line implementation has double linear time complexity. At the same time, step-by-step implementation loses to straight-line implementation on small arrays due to the need to also remember the position of each element when combining lists."
   ]
  }
 ],
 "metadata": {
  "kernelspec": {
   "display_name": "Python 3",
   "language": "python",
   "name": "python3"
  },
  "language_info": {
   "codemirror_mode": {
    "name": "ipython",
    "version": 3
   },
   "file_extension": ".py",
   "mimetype": "text/x-python",
   "name": "python",
   "nbconvert_exporter": "python",
   "pygments_lexer": "ipython3",
   "version": "3.12.3"
  }
 },
 "nbformat": 4,
 "nbformat_minor": 2
}
