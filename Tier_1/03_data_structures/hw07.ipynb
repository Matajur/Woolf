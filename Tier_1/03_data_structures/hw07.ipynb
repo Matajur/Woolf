{
 "cells": [
  {
   "cell_type": "markdown",
   "metadata": {},
   "source": [
    "## Tier 1. Module 3: Basic Algorithms and Data Structures\n",
    "\n",
    "## Topic 7 - Trees and balancing\n",
    "\n",
    "## Homework"
   ]
  },
  {
   "cell_type": "markdown",
   "metadata": {},
   "source": [
    "### Task 1"
   ]
  },
  {
   "cell_type": "markdown",
   "metadata": {},
   "source": [
    "Write an algorithm (function) that finds the largest value in a binary search tree or an AVL tree. Take any implementation of the tree from the outline or from another source."
   ]
  },
  {
   "cell_type": "markdown",
   "metadata": {},
   "source": [
    "#### 1.1 - AVL tree implementation"
   ]
  },
  {
   "cell_type": "code",
   "execution_count": 8,
   "metadata": {},
   "outputs": [],
   "source": [
    "class AVLNode:\n",
    "    def __init__(self, key):\n",
    "        self.key = key\n",
    "        self.height = 1\n",
    "        self.left = None\n",
    "        self.right = None\n",
    "\n",
    "    def __str__(self, level=0, prefix=\"Root: \"):\n",
    "        ret = \"\\\\t\" * level + prefix + str(self.key) + \"\\\\n\"\n",
    "        if self.left:\n",
    "            ret += self.left.__str__(level + 1, \"L--- \")\n",
    "        if self.right:\n",
    "            ret += self.right.__str__(level + 1, \"R--- \")\n",
    "        return ret\n",
    "\n",
    "\n",
    "def get_height(node: AVLNode):\n",
    "    if not node:\n",
    "        return 0\n",
    "    return node.height\n",
    "\n",
    "\n",
    "def get_balance(node: AVLNode):\n",
    "    if not node:\n",
    "        return 0\n",
    "    return get_height(node.left) - get_height(node.right)\n",
    "\n",
    "\n",
    "def left_rotate(z: AVLNode):\n",
    "    y = z.right\n",
    "    T2 = y.left\n",
    "\n",
    "    y.left = z\n",
    "    z.right = T2\n",
    "\n",
    "    z.height = 1 + max(get_height(z.left), get_height(z.right))\n",
    "    y.height = 1 + max(get_height(y.left), get_height(y.right))\n",
    "\n",
    "    return y\n",
    "\n",
    "\n",
    "def right_rotate(y: AVLNode):\n",
    "    x = y.left\n",
    "    T3 = x.right\n",
    "\n",
    "    x.right = y\n",
    "    y.left = T3\n",
    "\n",
    "    y.height = 1 + max(get_height(y.left), get_height(y.right))\n",
    "    x.height = 1 + max(get_height(x.left), get_height(x.right))\n",
    "\n",
    "    return x\n",
    "\n",
    "\n",
    "def min_value_node(node: AVLNode):\n",
    "    current = node\n",
    "    while current.left is not None:\n",
    "        current = current.left\n",
    "    return current\n",
    "\n",
    "\n",
    "def insert(root: AVLNode, key):\n",
    "    if not root:\n",
    "        return AVLNode(key)\n",
    "\n",
    "    if key < root.key:\n",
    "        root.left = insert(root.left, key)\n",
    "    elif key > root.key:\n",
    "        root.right = insert(root.right, key)\n",
    "    else:\n",
    "        return root\n",
    "\n",
    "    root.height = 1 + max(get_height(root.left), get_height(root.right))\n",
    "\n",
    "    balance = get_balance(root)\n",
    "\n",
    "    if balance > 1:\n",
    "        if key < root.left.key:\n",
    "            return right_rotate(root)\n",
    "        else:\n",
    "            root.left = left_rotate(root.left)\n",
    "            return right_rotate(root)\n",
    "\n",
    "    if balance < -1:\n",
    "        if key > root.right.key:\n",
    "            return left_rotate(root)\n",
    "        else:\n",
    "            root.right = right_rotate(root.right)\n",
    "            return left_rotate(root)\n",
    "\n",
    "    return root\n",
    "\n",
    "\n",
    "def delete_node(root: AVLNode, key):\n",
    "    if not root:\n",
    "        return root\n",
    "\n",
    "    if key < root.key:\n",
    "        root.left = delete_node(root.left, key)\n",
    "    elif key > root.key:\n",
    "        root.right = delete_node(root.right, key)\n",
    "    else:\n",
    "        if root.left is None:\n",
    "            temp = root.right\n",
    "            root = None\n",
    "            return temp\n",
    "        elif root.right is None:\n",
    "            temp = root.left\n",
    "            root = None\n",
    "            return temp\n",
    "\n",
    "        temp = min_value_node(root.right)\n",
    "        root.key = temp.key\n",
    "        root.right = delete_node(root.right, temp.key)\n",
    "\n",
    "    if root is None:\n",
    "        return root\n",
    "\n",
    "    root.height = 1 + max(get_height(root.left), get_height(root.right))\n",
    "\n",
    "    balance = get_balance(root)\n",
    "\n",
    "    if balance > 1:\n",
    "        if get_balance(root.left) >= 0:\n",
    "            return right_rotate(root)\n",
    "        else:\n",
    "            root.left = left_rotate(root.left)\n",
    "            return right_rotate(root)\n",
    "\n",
    "    if balance < -1:\n",
    "        if get_balance(root.right) <= 0:\n",
    "            return left_rotate(root)\n",
    "        else:\n",
    "            root.right = right_rotate(root.right)\n",
    "            return left_rotate(root)\n",
    "\n",
    "    return root\n",
    "\n",
    "\n",
    "def find_largest_value_avl(root: AVLNode):\n",
    "    if root is None:\n",
    "        return None\n",
    "    while root.right:\n",
    "        root = root.right\n",
    "    return root.key"
   ]
  },
  {
   "cell_type": "markdown",
   "metadata": {},
   "source": [
    "#### 1.2 - Function of finding the largest value"
   ]
  },
  {
   "cell_type": "code",
   "execution_count": 9,
   "metadata": {},
   "outputs": [],
   "source": [
    "def max_key_value(root: AVLNode):\n",
    "    current = root\n",
    "    while current.right is not None:\n",
    "        current = current.right\n",
    "    return current.key"
   ]
  },
  {
   "cell_type": "markdown",
   "metadata": {},
   "source": [
    "#### 1.3 - Testing"
   ]
  },
  {
   "cell_type": "code",
   "execution_count": 10,
   "metadata": {},
   "outputs": [
    {
     "name": "stdout",
     "output_type": "stream",
     "text": [
      "Root: 25\\n\\tL--- 10\\n\\t\\tL--- -1\\n\\t\\tR--- 20\\n\\tR--- 28\\n\\t\\tL--- 27\\n\\t\\tR--- 30\\n\n",
      "Largest value in AVL tree: 30\n"
     ]
    }
   ],
   "source": [
    "root = None\n",
    "keys = [10, 20, 30, 25, 28, 27, -1]\n",
    "\n",
    "for key in keys:\n",
    "    root = insert(root, key)\n",
    "print(root)\n",
    "\n",
    "print(\"Largest value in AVL tree:\", max_key_value(root))"
   ]
  },
  {
   "cell_type": "markdown",
   "metadata": {},
   "source": [
    "### Task 2"
   ]
  },
  {
   "cell_type": "markdown",
   "metadata": {},
   "source": [
    "Write an algorithm (function) that finds the smallest value in a binary search tree or in an AVL tree. Take any implementation of the tree from the outline or from another source."
   ]
  },
  {
   "cell_type": "markdown",
   "metadata": {},
   "source": [
    "#### 2.1 - Function of finding the smallest value"
   ]
  },
  {
   "cell_type": "code",
   "execution_count": 11,
   "metadata": {},
   "outputs": [],
   "source": [
    "def min_key_value(root: AVLNode):\n",
    "    current = root\n",
    "    while current.left is not None:\n",
    "        current = current.left\n",
    "    return current.key"
   ]
  },
  {
   "cell_type": "markdown",
   "metadata": {},
   "source": [
    "#### 2.2 - Testing"
   ]
  },
  {
   "cell_type": "code",
   "execution_count": 12,
   "metadata": {},
   "outputs": [
    {
     "name": "stdout",
     "output_type": "stream",
     "text": [
      "Smallest value in AVL tree: -1\n"
     ]
    }
   ],
   "source": [
    "print(\"Smallest value in AVL tree:\", min_key_value(root))"
   ]
  },
  {
   "cell_type": "markdown",
   "metadata": {},
   "source": [
    "### Task 3"
   ]
  },
  {
   "cell_type": "markdown",
   "metadata": {},
   "source": [
    "Write an algorithm (function) that finds the sum of all values in a binary search tree or in an AVL tree. Take any implementation of the tree from the outline or from another source."
   ]
  },
  {
   "cell_type": "markdown",
   "metadata": {},
   "source": [
    "#### 3.1 - Function of finding the sum of all values"
   ]
  },
  {
   "cell_type": "code",
   "execution_count": 14,
   "metadata": {},
   "outputs": [],
   "source": [
    "def sum_of_all_values(root: AVLNode):\n",
    "    if root is None:\n",
    "        return 0\n",
    "    return root.key + sum_of_all_values(root.left) + sum_of_all_values(root.right)"
   ]
  },
  {
   "cell_type": "markdown",
   "metadata": {},
   "source": [
    "#### 3.2 - Testing"
   ]
  },
  {
   "cell_type": "code",
   "execution_count": 16,
   "metadata": {},
   "outputs": [
    {
     "name": "stdout",
     "output_type": "stream",
     "text": [
      "Sum of all values in AVL tree: 139\n"
     ]
    }
   ],
   "source": [
    "print(\"Sum of all values in AVL tree:\", sum_of_all_values(root))"
   ]
  },
  {
   "cell_type": "markdown",
   "metadata": {},
   "source": [
    "### Task 4"
   ]
  },
  {
   "cell_type": "markdown",
   "metadata": {},
   "source": [
    "Implement a data structure for the comments system so that comments can have replies, which in turn can have replies, thus forming a hierarchical structure."
   ]
  },
  {
   "cell_type": "markdown",
   "metadata": {},
   "source": [
    "#### 4.1 - Comment system implementation"
   ]
  },
  {
   "cell_type": "code",
   "execution_count": 24,
   "metadata": {},
   "outputs": [],
   "source": [
    "class CommentNode:\n",
    "    def __init__(self, text: str, author: str):\n",
    "        self.text = text\n",
    "        self.author = author\n",
    "        self.replies = []\n",
    "\n",
    "    def add_comment(self, text: str, author: str):\n",
    "        reply = CommentNode(text, author)\n",
    "        self.replies.append(reply)\n",
    "        return reply\n",
    "\n",
    "\n",
    "class CommentSystem:\n",
    "    def __init__(self):\n",
    "        self.root_expressions = []\n",
    "\n",
    "    def add_expression(self, text: str, author: str):\n",
    "        expression = CommentNode(text, author)\n",
    "        self.root_expressions.append(expression)\n",
    "        return expression\n",
    "\n",
    "\n",
    "def display_comments(comment_node: CommentNode, indent=0):\n",
    "    if indent == 0:\n",
    "        print(\"__________________________\")\n",
    "    print(\"--\" * indent + \"Author:\", comment_node.author)\n",
    "    print(\"--\" * indent + \"Text:\", comment_node.text)\n",
    "    for reply in comment_node.replies:\n",
    "        display_comments(reply, indent + 1)"
   ]
  },
  {
   "cell_type": "markdown",
   "metadata": {},
   "source": [
    "#### 4.2 - Testing"
   ]
  },
  {
   "cell_type": "code",
   "execution_count": 25,
   "metadata": {},
   "outputs": [
    {
     "name": "stdout",
     "output_type": "stream",
     "text": [
      "***Comment System***\n",
      "__________________________\n",
      "Author: Shakespeare\n",
      "Text: To be or not to be\n",
      "--Author: Alfred Tennyson\n",
      "--Text: To be\n",
      "--Author: Edgar Allan Poe\n",
      "--Text: Not to be\n",
      "----Author: Alfred Tennyson\n",
      "----Text: To be\n",
      "--Author: John Milton\n",
      "--Text: What are you talking about?\n",
      "__________________________\n",
      "Author: Walter Whitman\n",
      "Text: Some random expression\n",
      "--Author: Dylan Thomas\n",
      "--Text: :)\n"
     ]
    }
   ],
   "source": [
    "social_network = CommentSystem()\n",
    "\n",
    "root_expression_1 = social_network.add_expression(\"To be or not to be\", \"Shakespeare\")\n",
    "root_expression_2 = social_network.add_expression(\n",
    "    \"Some random expression\", \"Walter Whitman\"\n",
    ")\n",
    "\n",
    "comment_1_on_expression_1 = root_expression_1.add_comment(\"To be\", \"Alfred Tennyson\")\n",
    "comment_2_on_expression_1 = root_expression_1.add_comment(\n",
    "    \"Not to be\", \"Edgar Allan Poe\"\n",
    ")\n",
    "comment_3_on_expression_1 = root_expression_1.add_comment(\n",
    "    \"What are you talking about?\", \"John Milton\"\n",
    ")\n",
    "\n",
    "comment_1_on_comment_2_on_expression_1 = comment_2_on_expression_1.add_comment(\n",
    "    \"To be\", \"Alfred Tennyson\"\n",
    ")\n",
    "\n",
    "comment_1_on_expression_2 = root_expression_2.add_comment(\":)\", \"Dylan Thomas\")\n",
    "\n",
    "\n",
    "print(\"***Comment System***\")\n",
    "for comment in social_network.root_expressions:\n",
    "    display_comments(comment)"
   ]
  }
 ],
 "metadata": {
  "kernelspec": {
   "display_name": "Python 3",
   "language": "python",
   "name": "python3"
  },
  "language_info": {
   "codemirror_mode": {
    "name": "ipython",
    "version": 3
   },
   "file_extension": ".py",
   "mimetype": "text/x-python",
   "name": "python",
   "nbconvert_exporter": "python",
   "pygments_lexer": "ipython3",
   "version": "3.12.3"
  }
 },
 "nbformat": 4,
 "nbformat_minor": 2
}
