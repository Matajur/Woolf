{
 "cells": [
  {
   "cell_type": "markdown",
   "metadata": {},
   "source": [
    "## Tier 1. Module 3: Basic Algorithms and Data Structures\n",
    "\n",
    "## Topic 9 - Greedy algorithms and dynamic programming\n",
    "\n",
    "## Homework"
   ]
  },
  {
   "cell_type": "markdown",
   "metadata": {},
   "source": [
    "We have a set of coins `[50, 25, 10, 5, 2, 1]`. Imagine that you are developing a system for a cash register that must determine the optimal way to issue the change to a customer.\n",
    "\n",
    "You need to write two functions for the checkout system that issues the balance to the customer."
   ]
  },
  {
   "cell_type": "markdown",
   "metadata": {},
   "source": [
    "### 1 - Greedy algorithm function `find_coins_greedy`"
   ]
  },
  {
   "cell_type": "markdown",
   "metadata": {},
   "source": [
    "This function should take the amount to be issued to the buyer and return a dictionary with the number of coins of each denomination used to form that amount. For example, for the sum `113` it will be the dictionary `{50: 2, 10: 1, 2: 1, 1: 1}`. The algorithm should be greedy, i.e. first select the most available coin denominations."
   ]
  },
  {
   "cell_type": "code",
   "execution_count": 3,
   "metadata": {},
   "outputs": [
    {
     "data": {
      "text/plain": [
       "{50: 2, 10: 1, 2: 1, 1: 1}"
      ]
     },
     "execution_count": 3,
     "metadata": {},
     "output_type": "execute_result"
    }
   ],
   "source": [
    "def find_coins_greedy(amount: int, coins: list) -> dict:\n",
    "    coin_counts = {}\n",
    "    for coin in coins:\n",
    "        count = amount // coin\n",
    "        if count > 0:\n",
    "            coin_counts[coin] = count\n",
    "            amount -= count * coin\n",
    "        if amount == 0:\n",
    "            break\n",
    "    return coin_counts\n",
    "\n",
    "\n",
    "coins = [50, 25, 10, 5, 2, 1]\n",
    "rest = find_coins_greedy(113, coins)\n",
    "rest"
   ]
  },
  {
   "cell_type": "markdown",
   "metadata": {},
   "source": [
    "### 2 - Dynamic programming function `find_min_coins`"
   ]
  },
  {
   "cell_type": "markdown",
   "metadata": {},
   "source": [
    "This function should also accept an amount to issue the balance, but use a dynamic programming method to find the minimum number of coins needed to generate that amount. The function should return a dictionary with denominations of coins and their amount to reach the given amount in the most efficient way. For example, for the sum `113` it will be the dictionary `{1: 1, 2: 1, 10: 1, 50: 2}`."
   ]
  },
  {
   "cell_type": "code",
   "execution_count": 4,
   "metadata": {},
   "outputs": [
    {
     "data": {
      "text/plain": [
       "{50: 2, 10: 1, 2: 1, 1: 1}"
      ]
     },
     "execution_count": 4,
     "metadata": {},
     "output_type": "execute_result"
    }
   ],
   "source": [
    "def find_min_coins(amount: int, coins: list) -> dict:\n",
    "    dp = [float(\"inf\")] * (amount + 1)\n",
    "    dp[0] = 0\n",
    "    coin_used = [0] * (amount + 1)\n",
    "\n",
    "    for i in range(1, amount + 1):\n",
    "        for coin in coins:\n",
    "            if coin <= i and dp[i - coin] + 1 < dp[i]:\n",
    "                dp[i] = dp[i - coin] + 1\n",
    "                coin_used[i] = coin\n",
    "\n",
    "    coin_counts = {}\n",
    "    while amount > 0:\n",
    "        coin = coin_used[amount]\n",
    "        coin_counts[coin] = coin_counts.get(coin, 0) + 1\n",
    "        amount -= coin\n",
    "\n",
    "    return coin_counts\n",
    "\n",
    "\n",
    "coins = [50, 25, 10, 5, 2, 1]\n",
    "rest = find_min_coins(113, coins)\n",
    "rest"
   ]
  },
  {
   "cell_type": "markdown",
   "metadata": {},
   "source": [
    "### 3 - Results comparison"
   ]
  },
  {
   "cell_type": "markdown",
   "metadata": {},
   "source": [
    "Compare the performance of a greedy algorithm and a dynamic programming algorithm based on their execution time or large O and paying attention to their performance on large sums. Highlight how they handle large sums and why one algorithm may be more efficient than another in certain situations."
   ]
  },
  {
   "cell_type": "code",
   "execution_count": 10,
   "metadata": {},
   "outputs": [
    {
     "name": "stdout",
     "output_type": "stream",
     "text": [
      "Algorithm: Greedy algorithm\n",
      "Amount: 111     Time taken: 0.000013 seconds\n",
      "Amount: 11111   Time taken: 0.000009 seconds\n",
      "Amount: 1111111 Time taken: 0.000008 seconds\n",
      "\n",
      "Algorithm: Dynamic algorithm\n",
      "Amount: 111     Time taken: 0.000675 seconds\n",
      "Amount: 11111   Time taken: 0.070556 seconds\n",
      "Amount: 1111111 Time taken: 7.136538 seconds\n",
      "\n"
     ]
    }
   ],
   "source": [
    "import timeit\n",
    "\n",
    "\n",
    "def test_algorithms(algorithms: dict, amounts: list) -> dict:\n",
    "    results = {}\n",
    "    for algo_name, algo_func in algorithms.items():\n",
    "        results[algo_name] = {}\n",
    "        for amount in amounts:\n",
    "            time_taken = timeit.timeit(lambda: algo_func(amount, coins), number=10)\n",
    "            results[algo_name][amount] = time_taken\n",
    "    return results\n",
    "\n",
    "\n",
    "algorithms = {\n",
    "    \"Greedy algorithm\": find_coins_greedy,\n",
    "    \"Dynamic algorithm\": find_min_coins,\n",
    "}\n",
    "\n",
    "test_amounts = [111, 11111, 1111111]\n",
    "\n",
    "results = test_algorithms(algorithms, test_amounts)\n",
    "for algo, timings in results.items():\n",
    "    print(f\"Algorithm: {algo}\")\n",
    "    for size, time_taken in timings.items():\n",
    "        print(f\"Amount: {size:<7} Time taken: {time_taken:.6f} seconds\")\n",
    "    print()"
   ]
  },
  {
   "cell_type": "markdown",
   "metadata": {},
   "source": [
    "### Conclusion:"
   ]
  },
  {
   "cell_type": "markdown",
   "metadata": {},
   "source": [
    "The greedy algorithm coped much faster than the dynamic one, especially on large sums, because it has a time complexity of $O(n)$, while the dynamic one is $O(n \\cdot a)$, where\\\n",
    "$n$ - the number of denominations of coins,\\\n",
    "$a$ is the amount of the balance that should be given to the buyer.\n",
    "\n",
    "The greedy algorithm is fast and simple, but may not always provide the optimal solution, while the dynamic programming approach guarantees the optimal solution, although it takes more time."
   ]
  }
 ],
 "metadata": {
  "kernelspec": {
   "display_name": "Python 3",
   "language": "python",
   "name": "python3"
  },
  "language_info": {
   "codemirror_mode": {
    "name": "ipython",
    "version": 3
   },
   "file_extension": ".py",
   "mimetype": "text/x-python",
   "name": "python",
   "nbconvert_exporter": "python",
   "pygments_lexer": "ipython3",
   "version": "3.12.3"
  }
 },
 "nbformat": 4,
 "nbformat_minor": 2
}
